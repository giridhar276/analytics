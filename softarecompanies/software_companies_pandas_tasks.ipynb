{
 "cells": [
  {
   "cell_type": "markdown",
   "id": "83af3083",
   "metadata": {},
   "source": [
    "## 1. Load the dataset and display the first 5 rows."
   ]
  },
  {
   "cell_type": "code",
   "execution_count": null,
   "id": "5d772556",
   "metadata": {},
   "outputs": [],
   "source": [
    "# Your code here"
   ]
  },
  {
   "cell_type": "markdown",
   "id": "55c9c475",
   "metadata": {},
   "source": [
    "## 2. Display the summary statistics of the dataset."
   ]
  },
  {
   "cell_type": "code",
   "execution_count": null,
   "id": "48194479",
   "metadata": {},
   "outputs": [],
   "source": [
    "# Your code here"
   ]
  },
  {
   "cell_type": "markdown",
   "id": "654f0343",
   "metadata": {},
   "source": [
    "## 3. Check for missing values in the dataset."
   ]
  },
  {
   "cell_type": "code",
   "execution_count": null,
   "id": "7e73208f",
   "metadata": {},
   "outputs": [],
   "source": [
    "# Your code here"
   ]
  },
  {
   "cell_type": "markdown",
   "id": "dbec0f44",
   "metadata": {},
   "source": [
    "## 4. Drop rows with any missing values."
   ]
  },
  {
   "cell_type": "code",
   "execution_count": null,
   "id": "7009e0ec",
   "metadata": {},
   "outputs": [],
   "source": [
    "# Your code here"
   ]
  },
  {
   "cell_type": "markdown",
   "id": "44583733",
   "metadata": {},
   "source": [
    "## 5. Fill missing values with the mean for numerical columns."
   ]
  },
  {
   "cell_type": "code",
   "execution_count": null,
   "id": "86b28b9b",
   "metadata": {},
   "outputs": [],
   "source": [
    "# Your code here"
   ]
  },
  {
   "cell_type": "markdown",
   "id": "d69592de",
   "metadata": {},
   "source": [
    "## 6. Fill missing values with the mode for categorical columns."
   ]
  },
  {
   "cell_type": "code",
   "execution_count": null,
   "id": "f7178ff2",
   "metadata": {},
   "outputs": [],
   "source": [
    "# Your code here"
   ]
  },
  {
   "cell_type": "markdown",
   "id": "2883a02b",
   "metadata": {},
   "source": [
    "## 7. Create a new column 'Company_Age' based on 'Year_Founded' and the current year."
   ]
  },
  {
   "cell_type": "code",
   "execution_count": null,
   "id": "79cb3c67",
   "metadata": {},
   "outputs": [],
   "source": [
    "# Your code here"
   ]
  },
  {
   "cell_type": "markdown",
   "id": "45697005",
   "metadata": {},
   "source": [
    "## 8. Calculate the correlation matrix for numerical columns."
   ]
  },
  {
   "cell_type": "code",
   "execution_count": null,
   "id": "eefeb70f",
   "metadata": {},
   "outputs": [],
   "source": [
    "# Your code here"
   ]
  },
  {
   "cell_type": "markdown",
   "id": "7abfd878",
   "metadata": {},
   "source": [
    "## 9. Plot a histogram for the 'Annual_Revenue' column."
   ]
  },
  {
   "cell_type": "code",
   "execution_count": null,
   "id": "0db3b53c",
   "metadata": {},
   "outputs": [],
   "source": [
    "# Your code here"
   ]
  },
  {
   "cell_type": "markdown",
   "id": "46fc500e",
   "metadata": {},
   "source": [
    "## 10. Plot a bar chart for the 'Product_Lines' column."
   ]
  },
  {
   "cell_type": "code",
   "execution_count": null,
   "id": "27e7269a",
   "metadata": {},
   "outputs": [],
   "source": [
    "# Your code here"
   ]
  },
  {
   "cell_type": "markdown",
   "id": "41119563",
   "metadata": {},
   "source": [
    "## 11. Plot a scatter plot between 'R&D_Spending' and 'Annual_Revenue'."
   ]
  },
  {
   "cell_type": "code",
   "execution_count": null,
   "id": "b7f65eb2",
   "metadata": {},
   "outputs": [],
   "source": [
    "# Your code here"
   ]
  },
  {
   "cell_type": "markdown",
   "id": "a68827ac",
   "metadata": {},
   "source": [
    "## 13. Normalize the 'Annual_Revenue' column using Min-Max scaling."
   ]
  },
  {
   "cell_type": "code",
   "execution_count": null,
   "id": "81c22ce5",
   "metadata": {},
   "outputs": [],
   "source": [
    "# Your code here"
   ]
  },
  {
   "cell_type": "markdown",
   "id": "fe8e04f4",
   "metadata": {},
   "source": [
    "## 14. Standardize the 'Market_Share' column."
   ]
  },
  {
   "cell_type": "code",
   "execution_count": null,
   "id": "b747a225",
   "metadata": {},
   "outputs": [],
   "source": [
    "# Your code here"
   ]
  },
  {
   "cell_type": "markdown",
   "id": "8ff18867",
   "metadata": {},
   "source": [
    "## 15. Create a pivot table showing the average 'R&D_Spending' for each 'Product_Lines'."
   ]
  },
  {
   "cell_type": "code",
   "execution_count": null,
   "id": "1b9141df",
   "metadata": {},
   "outputs": [],
   "source": [
    "# Your code here"
   ]
  },
  {
   "cell_type": "markdown",
   "id": "0fbd3933",
   "metadata": {},
   "source": [
    "## 16. Group the data by 'CEO_Tenure_Years' and calculate the mean 'Annual_Revenue'."
   ]
  },
  {
   "cell_type": "code",
   "execution_count": null,
   "id": "ccfba281",
   "metadata": {},
   "outputs": [],
   "source": [
    "# Your code here"
   ]
  },
  {
   "cell_type": "markdown",
   "id": "0534687c",
   "metadata": {},
   "source": [
    "## 17. Filter the dataset for companies with 'Annual_Revenue' greater than 50 million."
   ]
  },
  {
   "cell_type": "code",
   "execution_count": null,
   "id": "8b159f4e",
   "metadata": {},
   "outputs": [],
   "source": [
    "# Your code here"
   ]
  },
  {
   "cell_type": "markdown",
   "id": "c8722133",
   "metadata": {},
   "source": [
    "## 18. Sort the dataset by 'Market_Share' in descending order."
   ]
  },
  {
   "cell_type": "code",
   "execution_count": null,
   "id": "b1a2e31d",
   "metadata": {},
   "outputs": [],
   "source": [
    "# Your code here"
   ]
  },
  {
   "cell_type": "markdown",
   "id": "d506a01c",
   "metadata": {},
   "source": [
    "## 19. Create a new column 'Revenue_per_Employee' by dividing 'Annual_Revenue' by 'Employees'."
   ]
  },
  {
   "cell_type": "code",
   "execution_count": null,
   "id": "5efe497d",
   "metadata": {},
   "outputs": [],
   "source": [
    "# Your code here"
   ]
  },
  {
   "cell_type": "markdown",
   "id": "9ea79353",
   "metadata": {},
   "source": [
    "## 20. Replace all instances of 'Networking' in the 'Product_Lines' column with 'IT Services'."
   ]
  },
  {
   "cell_type": "code",
   "execution_count": null,
   "id": "7384753f",
   "metadata": {},
   "outputs": [],
   "source": [
    "# Your code here"
   ]
  },
  {
   "cell_type": "markdown",
   "id": "c0067a8f",
   "metadata": {},
   "source": [
    "## 21. Rename the column 'Annual_Revenue' to 'Revenue'."
   ]
  },
  {
   "cell_type": "code",
   "execution_count": null,
   "id": "2a238d57",
   "metadata": {},
   "outputs": [],
   "source": [
    "# Your code here"
   ]
  },
  {
   "cell_type": "markdown",
   "id": "cd7dab98",
   "metadata": {},
   "source": [
    "## 22. Drop the 'CEO_Tenure_Years' column from the dataset."
   ]
  },
  {
   "cell_type": "code",
   "execution_count": null,
   "id": "5f3e502a",
   "metadata": {},
   "outputs": [],
   "source": [
    "# Your code here"
   ]
  },
  {
   "cell_type": "markdown",
   "id": "7849bfa0",
   "metadata": {},
   "source": [
    "## 23. Check for duplicate rows in the dataset."
   ]
  },
  {
   "cell_type": "code",
   "execution_count": null,
   "id": "bc44010c",
   "metadata": {},
   "outputs": [],
   "source": [
    "# Your code here"
   ]
  },
  {
   "cell_type": "markdown",
   "id": "a2ba021c",
   "metadata": {},
   "source": [
    "## 24. Drop any duplicate rows found."
   ]
  },
  {
   "cell_type": "code",
   "execution_count": null,
   "id": "a75c9d72",
   "metadata": {},
   "outputs": [],
   "source": [
    "# Your code here"
   ]
  },
  {
   "cell_type": "markdown",
   "id": "098c5e74",
   "metadata": {},
   "source": [
    "## 25. Create a new DataFrame containing only 'Company_ID', 'Company_Name', and 'Revenue'."
   ]
  },
  {
   "cell_type": "code",
   "execution_count": null,
   "id": "30a92ec2",
   "metadata": {},
   "outputs": [],
   "source": [
    "# Your code here"
   ]
  },
  {
   "cell_type": "markdown",
   "id": "51720135",
   "metadata": {},
   "source": [
    "## 26. Merge the new DataFrame with the original dataset on 'Company_ID'."
   ]
  },
  {
   "cell_type": "code",
   "execution_count": null,
   "id": "550099d0",
   "metadata": {},
   "outputs": [],
   "source": [
    "# Your code here"
   ]
  },
  {
   "cell_type": "markdown",
   "id": "4056a0e9",
   "metadata": {},
   "source": [
    "## 27. Create a cross-tabulation of 'Product_Lines' and 'Market_Share'."
   ]
  },
  {
   "cell_type": "code",
   "execution_count": null,
   "id": "e18920c0",
   "metadata": {},
   "outputs": [],
   "source": [
    "# Your code here"
   ]
  },
  {
   "cell_type": "markdown",
   "id": "199b0e19",
   "metadata": {},
   "source": [
    "## 28. Create a pivot table showing the count of companies by 'Product_Lines' and 'Year_Founded'."
   ]
  },
  {
   "cell_type": "code",
   "execution_count": null,
   "id": "dc858855",
   "metadata": {},
   "outputs": [],
   "source": [
    "# Your code here"
   ]
  },
  {
   "cell_type": "markdown",
   "id": "ba3718cb",
   "metadata": {},
   "source": [
    "## 29. Replace missing values in 'Market_Share' with the median."
   ]
  },
  {
   "cell_type": "code",
   "execution_count": null,
   "id": "08e4a7cf",
   "metadata": {},
   "outputs": [],
   "source": [
    "# Your code here"
   ]
  },
  {
   "cell_type": "markdown",
   "id": "32613c02",
   "metadata": {},
   "source": [
    "## 30. Calculate the Z-score for the 'Annual_Revenue' column."
   ]
  },
  {
   "cell_type": "code",
   "execution_count": null,
   "id": "5868b47c",
   "metadata": {},
   "outputs": [],
   "source": [
    "# Your code here"
   ]
  },
  {
   "cell_type": "markdown",
   "id": "8d968191",
   "metadata": {},
   "source": [
    "## 31. Filter out outliers in the 'Annual_Revenue' column based on Z-score."
   ]
  },
  {
   "cell_type": "code",
   "execution_count": null,
   "id": "72b96b1e",
   "metadata": {},
   "outputs": [],
   "source": [
    "# Your code here"
   ]
  },
  {
   "cell_type": "markdown",
   "id": "38a6dc23",
   "metadata": {},
   "source": [
    "## 32. Apply a lambda function to the 'Market_Share' column to categorize into 'Low', 'Medium', 'High'."
   ]
  },
  {
   "cell_type": "code",
   "execution_count": null,
   "id": "aaebbe2a",
   "metadata": {},
   "outputs": [],
   "source": [
    "# Your code here"
   ]
  },
  {
   "cell_type": "markdown",
   "id": "07825694",
   "metadata": {},
   "source": [
    "## 33. Create a new column 'Total_Tech_Adoption' by summing 'Adoption_Rate_AI', 'Adoption_Rate_Cloud', and 'Adoption_Rate_Blockchain'."
   ]
  },
  {
   "cell_type": "code",
   "execution_count": null,
   "id": "202f2867",
   "metadata": {},
   "outputs": [],
   "source": [
    "# Your code here"
   ]
  },
  {
   "cell_type": "markdown",
   "id": "17724bdb",
   "metadata": {},
   "source": [
    "## 34. Extract the decade from 'Year_Founded' and create a new column 'Founded_Decade'."
   ]
  },
  {
   "cell_type": "code",
   "execution_count": null,
   "id": "348e7757",
   "metadata": {},
   "outputs": [],
   "source": [
    "# Your code here"
   ]
  },
  {
   "cell_type": "markdown",
   "id": "868b922c",
   "metadata": {},
   "source": [
    "## 35. Convert the 'Product_Lines' column to a categorical data type."
   ]
  },
  {
   "cell_type": "code",
   "execution_count": null,
   "id": "b430ae28",
   "metadata": {},
   "outputs": [],
   "source": [
    "# Your code here"
   ]
  },
  {
   "cell_type": "markdown",
   "id": "f1bbf9a9",
   "metadata": {},
   "source": [
    "## 36. Create a box plot for 'Annual_Revenue' across different 'Product_Lines'."
   ]
  },
  {
   "cell_type": "code",
   "execution_count": null,
   "id": "dc99b1dc",
   "metadata": {},
   "outputs": [],
   "source": [
    "# Your code here"
   ]
  },
  {
   "cell_type": "markdown",
   "id": "95b77c3f",
   "metadata": {},
   "source": [
    "## 37. Create a line plot showing the trend of 'Annual_Revenue' over 'Company_Age'."
   ]
  },
  {
   "cell_type": "code",
   "execution_count": null,
   "id": "bcb29195",
   "metadata": {},
   "outputs": [],
   "source": [
    "# Your code here"
   ]
  },
  {
   "cell_type": "markdown",
   "id": "2b6de6a3",
   "metadata": {},
   "source": [
    "## 38. Create a heatmap for the correlation matrix."
   ]
  },
  {
   "cell_type": "code",
   "execution_count": null,
   "id": "059aed18",
   "metadata": {},
   "outputs": [],
   "source": [
    "# Your code here"
   ]
  },
  {
   "cell_type": "markdown",
   "id": "6984f1c7",
   "metadata": {},
   "source": [
    "## 39. Filter the dataset to include only companies with 'Product_Lines' as 'Software'."
   ]
  },
  {
   "cell_type": "code",
   "execution_count": null,
   "id": "c9283fe0",
   "metadata": {},
   "outputs": [],
   "source": [
    "# Your code here"
   ]
  },
  {
   "cell_type": "markdown",
   "id": "179af9e6",
   "metadata": {},
   "source": [
    "## 40. Replace outliers in 'R&D_Spending' with the median value."
   ]
  },
  {
   "cell_type": "code",
   "execution_count": null,
   "id": "95058803",
   "metadata": {},
   "outputs": [],
   "source": [
    "# Your code here"
   ]
  },
  {
   "cell_type": "markdown",
   "id": "f053146b",
   "metadata": {},
   "source": [
    "## 41. Calculate the percentage of missing values in each column."
   ]
  },
  {
   "cell_type": "code",
   "execution_count": null,
   "id": "b2d33633",
   "metadata": {},
   "outputs": [],
   "source": [
    "# Your code here"
   ]
  },
  {
   "cell_type": "markdown",
   "id": "c8cdcacb",
   "metadata": {},
   "source": [
    "## 42. Reorder the columns so that 'Company_ID' is the first column."
   ]
  },
  {
   "cell_type": "code",
   "execution_count": null,
   "id": "bb350ac1",
   "metadata": {},
   "outputs": [],
   "source": [
    "# Your code here"
   ]
  },
  {
   "cell_type": "markdown",
   "id": "4492efb5",
   "metadata": {},
   "source": [
    "## 43. Create a column 'High_Revenue_Company' which is True if 'Annual_Revenue' > 500 million, else False."
   ]
  },
  {
   "cell_type": "code",
   "execution_count": null,
   "id": "2b9b9006",
   "metadata": {},
   "outputs": [],
   "source": [
    "# Your code here"
   ]
  },
  {
   "cell_type": "markdown",
   "id": "269c596b",
   "metadata": {},
   "source": [
    "## 44. Split the dataset into training (80%) and testing (20%) sets based on 'Company_ID'."
   ]
  },
  {
   "cell_type": "code",
   "execution_count": null,
   "id": "a56c5ea6",
   "metadata": {},
   "outputs": [],
   "source": [
    "# Your code here"
   ]
  },
  {
   "cell_type": "markdown",
   "id": "23cb3e68",
   "metadata": {},
   "source": [
    "## 45. Create a pipeline to preprocess the 'Annual_Revenue' and 'Market_Share' columns."
   ]
  },
  {
   "cell_type": "code",
   "execution_count": null,
   "id": "968d9cba",
   "metadata": {},
   "outputs": [],
   "source": [
    "# Your code here"
   ]
  },
  {
   "cell_type": "markdown",
   "id": "630a495d",
   "metadata": {},
   "source": [
    "## 46. Export the cleaned dataset to a new CSV file."
   ]
  },
  {
   "cell_type": "code",
   "execution_count": null,
   "id": "eb296f77",
   "metadata": {},
   "outputs": [],
   "source": [
    "# Your code here"
   ]
  },
  {
   "cell_type": "markdown",
   "id": "a45ea819",
   "metadata": {},
   "source": [
    "## 47. Save the dataset in Excel format with multiple sheets based on 'Product_Lines'."
   ]
  },
  {
   "cell_type": "code",
   "execution_count": null,
   "id": "72bf91bd",
   "metadata": {},
   "outputs": [],
   "source": [
    "# Your code here"
   ]
  },
  {
   "cell_type": "markdown",
   "id": "86bc5050",
   "metadata": {},
   "source": [
    "## 48. Create a summary report of the dataset including key statistics and visualizations."
   ]
  },
  {
   "cell_type": "code",
   "execution_count": null,
   "id": "80e7dd7e",
   "metadata": {},
   "outputs": [],
   "source": [
    "# Your code here"
   ]
  },
  {
   "cell_type": "markdown",
   "id": "b44c32bf",
   "metadata": {},
   "source": [
    "## 49. Write a function to automate the data cleaning process for this dataset."
   ]
  },
  {
   "cell_type": "code",
   "execution_count": null,
   "id": "fe81dc79",
   "metadata": {},
   "outputs": [],
   "source": [
    "# Your code here"
   ]
  },
  {
   "cell_type": "markdown",
   "id": "6c22832b",
   "metadata": {},
   "source": [
    "## 50. Create a new column 'Innovation_Index' using a simple formula on 'R&D_Spending' and 'Total_Tech_Adoption'."
   ]
  },
  {
   "cell_type": "code",
   "execution_count": null,
   "id": "47b62b25",
   "metadata": {},
   "outputs": [],
   "source": [
    "# Your code here"
   ]
  }
 ],
 "metadata": {
  "language_info": {
   "name": "python"
  }
 },
 "nbformat": 4,
 "nbformat_minor": 5
}
