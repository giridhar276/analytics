{
 "cells": [
  {
   "cell_type": "markdown",
   "id": "4aa774f4",
   "metadata": {},
   "source": [
    "## 1. Load the dataset and display the first 5 rows."
   ]
  },
  {
   "cell_type": "code",
   "execution_count": null,
   "id": "9412e588",
   "metadata": {},
   "outputs": [],
   "source": [
    "# Your code here"
   ]
  },
  {
   "cell_type": "markdown",
   "id": "9ba7cb86",
   "metadata": {},
   "source": [
    "## 2. Display the summary statistics of the dataset."
   ]
  },
  {
   "cell_type": "code",
   "execution_count": null,
   "id": "4195cc6c",
   "metadata": {},
   "outputs": [],
   "source": [
    "# Your code here"
   ]
  },
  {
   "cell_type": "markdown",
   "id": "b4fc1590",
   "metadata": {},
   "source": [
    "## 3. Check for missing values in the dataset."
   ]
  },
  {
   "cell_type": "code",
   "execution_count": null,
   "id": "323c0af8",
   "metadata": {},
   "outputs": [],
   "source": [
    "# Your code here"
   ]
  },
  {
   "cell_type": "markdown",
   "id": "0094c6fe",
   "metadata": {},
   "source": [
    "## 4. Drop rows with any missing values."
   ]
  },
  {
   "cell_type": "code",
   "execution_count": null,
   "id": "e1547e31",
   "metadata": {},
   "outputs": [],
   "source": [
    "# Your code here"
   ]
  },
  {
   "cell_type": "markdown",
   "id": "be8f5926",
   "metadata": {},
   "source": [
    "## 5. Fill missing values with the mean for numerical columns."
   ]
  },
  {
   "cell_type": "code",
   "execution_count": null,
   "id": "f3daadca",
   "metadata": {},
   "outputs": [],
   "source": [
    "# Your code here"
   ]
  },
  {
   "cell_type": "markdown",
   "id": "e977303a",
   "metadata": {},
   "source": [
    "## 6. Fill missing values with the mode for categorical columns."
   ]
  },
  {
   "cell_type": "code",
   "execution_count": null,
   "id": "9d48340a",
   "metadata": {},
   "outputs": [],
   "source": [
    "# Your code here"
   ]
  },
  {
   "cell_type": "markdown",
   "id": "782c335e",
   "metadata": {},
   "source": [
    "## 7. Create a new column 'Transaction_Year' by extracting the year from the 'Date' column."
   ]
  },
  {
   "cell_type": "code",
   "execution_count": null,
   "id": "6d438922",
   "metadata": {},
   "outputs": [],
   "source": [
    "# Your code here"
   ]
  },
  {
   "cell_type": "markdown",
   "id": "e6d69c75",
   "metadata": {},
   "source": [
    "## 8. Calculate the correlation matrix for numerical columns."
   ]
  },
  {
   "cell_type": "code",
   "execution_count": null,
   "id": "019bd9a1",
   "metadata": {},
   "outputs": [],
   "source": [
    "# Your code here"
   ]
  },
  {
   "cell_type": "markdown",
   "id": "48db65e6",
   "metadata": {},
   "source": [
    "## 9. Plot a histogram for the 'Amount' column."
   ]
  },
  {
   "cell_type": "code",
   "execution_count": null,
   "id": "b9f029dd",
   "metadata": {},
   "outputs": [],
   "source": [
    "# Your code here"
   ]
  },
  {
   "cell_type": "markdown",
   "id": "40a35d9f",
   "metadata": {},
   "source": [
    "## 10. Plot a bar chart for the 'Transaction_Type' column."
   ]
  },
  {
   "cell_type": "code",
   "execution_count": null,
   "id": "79a47db6",
   "metadata": {},
   "outputs": [],
   "source": [
    "# Your code here"
   ]
  },
  {
   "cell_type": "markdown",
   "id": "1ff498d0",
   "metadata": {},
   "source": [
    "## 11. Plot a scatter plot between 'Account_Balance' and 'Amount'."
   ]
  },
  {
   "cell_type": "code",
   "execution_count": null,
   "id": "9c83c0c2",
   "metadata": {},
   "outputs": [],
   "source": [
    "# Your code here"
   ]
  },
  {
   "cell_type": "markdown",
   "id": "fb213be4",
   "metadata": {},
   "source": [
    "## 12. Encode the 'Category' column using one-hot encoding."
   ]
  },
  {
   "cell_type": "code",
   "execution_count": null,
   "id": "ac944212",
   "metadata": {},
   "outputs": [],
   "source": [
    "# Your code here"
   ]
  },
  {
   "cell_type": "markdown",
   "id": "40b9b1b1",
   "metadata": {},
   "source": [
    "## 13. Normalize the 'Amount' column using Min-Max scaling."
   ]
  },
  {
   "cell_type": "code",
   "execution_count": null,
   "id": "e6c1e30e",
   "metadata": {},
   "outputs": [],
   "source": [
    "# Your code here"
   ]
  },
  {
   "cell_type": "markdown",
   "id": "906d14f1",
   "metadata": {},
   "source": [
    "## 14. Standardize the 'Account_Balance' column."
   ]
  },
  {
   "cell_type": "code",
   "execution_count": null,
   "id": "56dad690",
   "metadata": {},
   "outputs": [],
   "source": [
    "# Your code here"
   ]
  },
  {
   "cell_type": "markdown",
   "id": "e2b139ea",
   "metadata": {},
   "source": [
    "## 15. Create a pivot table showing the average 'Amount' for each 'Category'."
   ]
  },
  {
   "cell_type": "code",
   "execution_count": null,
   "id": "6bd2ba71",
   "metadata": {},
   "outputs": [],
   "source": [
    "# Your code here"
   ]
  },
  {
   "cell_type": "markdown",
   "id": "7d001ee7",
   "metadata": {},
   "source": [
    "## 16. Group the data by 'Fraud_Flag' and calculate the mean 'Amount'."
   ]
  },
  {
   "cell_type": "code",
   "execution_count": null,
   "id": "a60800c7",
   "metadata": {},
   "outputs": [],
   "source": [
    "# Your code here"
   ]
  },
  {
   "cell_type": "markdown",
   "id": "659230cf",
   "metadata": {},
   "source": [
    "## 17. Filter the dataset for transactions with 'Amount' greater than 5000."
   ]
  },
  {
   "cell_type": "code",
   "execution_count": null,
   "id": "d48f1ec7",
   "metadata": {},
   "outputs": [],
   "source": [
    "# Your code here"
   ]
  },
  {
   "cell_type": "markdown",
   "id": "ec062ca2",
   "metadata": {},
   "source": [
    "## 18. Sort the dataset by 'Date' in descending order."
   ]
  },
  {
   "cell_type": "code",
   "execution_count": null,
   "id": "ac03852a",
   "metadata": {},
   "outputs": [],
   "source": [
    "# Your code here"
   ]
  },
  {
   "cell_type": "markdown",
   "id": "e1f85721",
   "metadata": {},
   "source": [
    "## 19. Create a new column 'Net_Balance' by subtracting 'Amount' from 'Account_Balance' for withdrawals."
   ]
  },
  {
   "cell_type": "code",
   "execution_count": null,
   "id": "491e940a",
   "metadata": {},
   "outputs": [],
   "source": [
    "# Your code here"
   ]
  },
  {
   "cell_type": "markdown",
   "id": "84a3e41c",
   "metadata": {},
   "source": [
    "## 20. Replace all instances of 'False' in the 'Fraud_Flag' column with 'No Fraud'."
   ]
  },
  {
   "cell_type": "code",
   "execution_count": null,
   "id": "96f8dc3c",
   "metadata": {},
   "outputs": [],
   "source": [
    "# Your code here"
   ]
  },
  {
   "cell_type": "markdown",
   "id": "fe155bf4",
   "metadata": {},
   "source": [
    "## 21. Rename the column 'Amount' to 'Transaction_Amount'."
   ]
  },
  {
   "cell_type": "code",
   "execution_count": null,
   "id": "885f4562",
   "metadata": {},
   "outputs": [],
   "source": [
    "# Your code here"
   ]
  },
  {
   "cell_type": "markdown",
   "id": "98cf2198",
   "metadata": {},
   "source": [
    "## 22. Drop the 'Merchant' column from the dataset."
   ]
  },
  {
   "cell_type": "code",
   "execution_count": null,
   "id": "41ed7fb3",
   "metadata": {},
   "outputs": [],
   "source": [
    "# Your code here"
   ]
  },
  {
   "cell_type": "markdown",
   "id": "526c34f5",
   "metadata": {},
   "source": [
    "## 23. Check for duplicate rows in the dataset."
   ]
  },
  {
   "cell_type": "code",
   "execution_count": null,
   "id": "46ecd00c",
   "metadata": {},
   "outputs": [],
   "source": [
    "# Your code here"
   ]
  },
  {
   "cell_type": "markdown",
   "id": "ed1074e8",
   "metadata": {},
   "source": [
    "## 24. Drop any duplicate rows found."
   ]
  },
  {
   "cell_type": "code",
   "execution_count": null,
   "id": "a87fe3f8",
   "metadata": {},
   "outputs": [],
   "source": [
    "# Your code here"
   ]
  },
  {
   "cell_type": "markdown",
   "id": "83323062",
   "metadata": {},
   "source": [
    "## 25. Create a new DataFrame containing only 'Transaction_ID', 'Account_Number', and 'Transaction_Amount'."
   ]
  },
  {
   "cell_type": "code",
   "execution_count": null,
   "id": "406dc2a8",
   "metadata": {},
   "outputs": [],
   "source": [
    "# Your code here"
   ]
  },
  {
   "cell_type": "markdown",
   "id": "af96acac",
   "metadata": {},
   "source": [
    "## 26. Merge the new DataFrame with the original dataset on 'Transaction_ID'."
   ]
  },
  {
   "cell_type": "code",
   "execution_count": null,
   "id": "d55e2e9c",
   "metadata": {},
   "outputs": [],
   "source": [
    "# Your code here"
   ]
  },
  {
   "cell_type": "markdown",
   "id": "395eecb6",
   "metadata": {},
   "source": [
    "## 27. Create a cross-tabulation of 'Category' and 'Fraud_Flag'."
   ]
  },
  {
   "cell_type": "code",
   "execution_count": null,
   "id": "9ed3c932",
   "metadata": {},
   "outputs": [],
   "source": [
    "# Your code here"
   ]
  },
  {
   "cell_type": "markdown",
   "id": "9515cd1c",
   "metadata": {},
   "source": [
    "## 28. Create a pivot table showing the count of transactions by 'Category' and 'Transaction_Type'."
   ]
  },
  {
   "cell_type": "code",
   "execution_count": null,
   "id": "7a890efe",
   "metadata": {},
   "outputs": [],
   "source": [
    "# Your code here"
   ]
  },
  {
   "cell_type": "markdown",
   "id": "b931cb9f",
   "metadata": {},
   "source": [
    "## 29. Replace missing values in 'Account_Balance' with the median."
   ]
  },
  {
   "cell_type": "code",
   "execution_count": null,
   "id": "543d92a8",
   "metadata": {},
   "outputs": [],
   "source": [
    "# Your code here"
   ]
  },
  {
   "cell_type": "markdown",
   "id": "7430aa70",
   "metadata": {},
   "source": [
    "## 30. Calculate the Z-score for the 'Transaction_Amount' column."
   ]
  },
  {
   "cell_type": "code",
   "execution_count": null,
   "id": "d326ad27",
   "metadata": {},
   "outputs": [],
   "source": [
    "# Your code here"
   ]
  },
  {
   "cell_type": "markdown",
   "id": "d3d9ed94",
   "metadata": {},
   "source": [
    "## 31. Filter out outliers in the 'Transaction_Amount' column based on Z-score."
   ]
  },
  {
   "cell_type": "code",
   "execution_count": null,
   "id": "45c0c113",
   "metadata": {},
   "outputs": [],
   "source": [
    "# Your code here"
   ]
  },
  {
   "cell_type": "markdown",
   "id": "29cc61e6",
   "metadata": {},
   "source": [
    "## 32. Apply a lambda function to the 'Transaction_Amount' column to categorize into 'Low', 'Medium', 'High'."
   ]
  },
  {
   "cell_type": "code",
   "execution_count": null,
   "id": "d39d1ca7",
   "metadata": {},
   "outputs": [],
   "source": [
    "# Your code here"
   ]
  },
  {
   "cell_type": "markdown",
   "id": "f80dc91c",
   "metadata": {},
   "source": [
    "## 33. Create a new column 'Total_Expenditure' by summing up all 'Transaction_Amount' for withdrawals."
   ]
  },
  {
   "cell_type": "code",
   "execution_count": null,
   "id": "4f5a835e",
   "metadata": {},
   "outputs": [],
   "source": [
    "# Your code here"
   ]
  },
  {
   "cell_type": "markdown",
   "id": "d0d049ca",
   "metadata": {},
   "source": [
    "## 34. Extract the month from 'Date' and create a new column 'Transaction_Month'."
   ]
  },
  {
   "cell_type": "code",
   "execution_count": null,
   "id": "6fe1af71",
   "metadata": {},
   "outputs": [],
   "source": [
    "# Your code here"
   ]
  },
  {
   "cell_type": "markdown",
   "id": "7d7b9dc3",
   "metadata": {},
   "source": [
    "## 35. Convert the 'Transaction_Type' column to a categorical data type."
   ]
  },
  {
   "cell_type": "code",
   "execution_count": null,
   "id": "45e5e97f",
   "metadata": {},
   "outputs": [],
   "source": [
    "# Your code here"
   ]
  },
  {
   "cell_type": "markdown",
   "id": "75a14aa6",
   "metadata": {},
   "source": [
    "## 36. Create a box plot for 'Transaction_Amount' across different 'Category'."
   ]
  },
  {
   "cell_type": "code",
   "execution_count": null,
   "id": "219fde15",
   "metadata": {},
   "outputs": [],
   "source": [
    "# Your code here"
   ]
  },
  {
   "cell_type": "markdown",
   "id": "779208f2",
   "metadata": {},
   "source": [
    "## 37. Create a line plot showing the trend of 'Transaction_Amount' over 'Date'."
   ]
  },
  {
   "cell_type": "code",
   "execution_count": null,
   "id": "6d93faed",
   "metadata": {},
   "outputs": [],
   "source": [
    "# Your code here"
   ]
  },
  {
   "cell_type": "markdown",
   "id": "18307043",
   "metadata": {},
   "source": [
    "## 38. Create a heatmap for the correlation matrix."
   ]
  },
  {
   "cell_type": "code",
   "execution_count": null,
   "id": "fd6e1b39",
   "metadata": {},
   "outputs": [],
   "source": [
    "# Your code here"
   ]
  },
  {
   "cell_type": "markdown",
   "id": "ce86c402",
   "metadata": {},
   "source": [
    "## 39. Filter the dataset to include only transactions with 'Fraud_Flag' as 'True'."
   ]
  },
  {
   "cell_type": "code",
   "execution_count": null,
   "id": "4482d534",
   "metadata": {},
   "outputs": [],
   "source": [
    "# Your code here"
   ]
  },
  {
   "cell_type": "markdown",
   "id": "3642835d",
   "metadata": {},
   "source": [
    "## 40. Replace outliers in 'Account_Balance' with the median value."
   ]
  },
  {
   "cell_type": "code",
   "execution_count": null,
   "id": "56b93e62",
   "metadata": {},
   "outputs": [],
   "source": [
    "# Your code here"
   ]
  },
  {
   "cell_type": "markdown",
   "id": "82291020",
   "metadata": {},
   "source": [
    "## 41. Calculate the percentage of missing values in each column."
   ]
  },
  {
   "cell_type": "code",
   "execution_count": null,
   "id": "3e69db4e",
   "metadata": {},
   "outputs": [],
   "source": [
    "# Your code here"
   ]
  },
  {
   "cell_type": "markdown",
   "id": "7817e04e",
   "metadata": {},
   "source": [
    "## 42. Reorder the columns so that 'Transaction_ID' is the first column."
   ]
  },
  {
   "cell_type": "code",
   "execution_count": null,
   "id": "aa7c2568",
   "metadata": {},
   "outputs": [],
   "source": [
    "# Your code here"
   ]
  },
  {
   "cell_type": "markdown",
   "id": "83184b6a",
   "metadata": {},
   "source": [
    "## 43. Create a column 'High_Value_Transaction' which is True if 'Transaction_Amount' > 8000, else False."
   ]
  },
  {
   "cell_type": "code",
   "execution_count": null,
   "id": "85ba86a2",
   "metadata": {},
   "outputs": [],
   "source": [
    "# Your code here"
   ]
  },
  {
   "cell_type": "markdown",
   "id": "1795fd92",
   "metadata": {},
   "source": [
    "## 44. Split the dataset into training (80%) and testing (20%) sets based on 'Transaction_ID'."
   ]
  },
  {
   "cell_type": "code",
   "execution_count": null,
   "id": "54bcfcc9",
   "metadata": {},
   "outputs": [],
   "source": [
    "# Your code here"
   ]
  },
  {
   "cell_type": "markdown",
   "id": "7402c0a8",
   "metadata": {},
   "source": [
    "## 45. Create a pipeline to preprocess the 'Transaction_Amount' and 'Account_Balance' columns."
   ]
  },
  {
   "cell_type": "code",
   "execution_count": null,
   "id": "6b835e85",
   "metadata": {},
   "outputs": [],
   "source": [
    "# Your code here"
   ]
  },
  {
   "cell_type": "markdown",
   "id": "7200111b",
   "metadata": {},
   "source": [
    "## 46. Export the cleaned dataset to a new CSV file."
   ]
  },
  {
   "cell_type": "code",
   "execution_count": null,
   "id": "51bdb440",
   "metadata": {},
   "outputs": [],
   "source": [
    "# Your code here"
   ]
  },
  {
   "cell_type": "markdown",
   "id": "93c290d4",
   "metadata": {},
   "source": [
    "## 47. Save the dataset in Excel format with multiple sheets based on 'Category'."
   ]
  },
  {
   "cell_type": "code",
   "execution_count": null,
   "id": "0e741152",
   "metadata": {},
   "outputs": [],
   "source": [
    "# Your code here"
   ]
  },
  {
   "cell_type": "markdown",
   "id": "73558434",
   "metadata": {},
   "source": [
    "## 48. Create a summary report of the dataset including key statistics and visualizations."
   ]
  },
  {
   "cell_type": "code",
   "execution_count": null,
   "id": "519eafe2",
   "metadata": {},
   "outputs": [],
   "source": [
    "# Your code here"
   ]
  },
  {
   "cell_type": "markdown",
   "id": "ae17af5f",
   "metadata": {},
   "source": [
    "## 49. Write a function to automate the data cleaning process for this dataset."
   ]
  },
  {
   "cell_type": "code",
   "execution_count": null,
   "id": "f1ae0e13",
   "metadata": {},
   "outputs": [],
   "source": [
    "# Your code here"
   ]
  },
  {
   "cell_type": "markdown",
   "id": "8c66dac9",
   "metadata": {},
   "source": [
    "## 50. Create a new column 'Transaction_Risk_Score' using a simple formula on 'Amount' and 'Fraud_Flag'."
   ]
  },
  {
   "cell_type": "code",
   "execution_count": null,
   "id": "f641387f",
   "metadata": {},
   "outputs": [],
   "source": [
    "# Your code here"
   ]
  }
 ],
 "metadata": {},
 "nbformat": 4,
 "nbformat_minor": 5
}
