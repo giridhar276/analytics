{
 "cells": [
  {
   "cell_type": "markdown",
   "id": "887e9d07",
   "metadata": {},
   "source": [
    "## 1. Load the dataset and display the first 5 rows."
   ]
  },
  {
   "cell_type": "code",
   "execution_count": null,
   "id": "1a313184",
   "metadata": {},
   "outputs": [],
   "source": [
    "# Your code here"
   ]
  },
  {
   "cell_type": "markdown",
   "id": "c6b837fe",
   "metadata": {},
   "source": [
    "## 2. Display the summary statistics of the dataset."
   ]
  },
  {
   "cell_type": "code",
   "execution_count": null,
   "id": "9748ec32",
   "metadata": {},
   "outputs": [],
   "source": [
    "# Your code here"
   ]
  },
  {
   "cell_type": "markdown",
   "id": "9d3103a9",
   "metadata": {},
   "source": [
    "## 3. Check for missing values in the dataset."
   ]
  },
  {
   "cell_type": "code",
   "execution_count": null,
   "id": "ea62668e",
   "metadata": {},
   "outputs": [],
   "source": [
    "# Your code here"
   ]
  },
  {
   "cell_type": "markdown",
   "id": "6553de26",
   "metadata": {},
   "source": [
    "## 4. Drop rows with any missing values."
   ]
  },
  {
   "cell_type": "code",
   "execution_count": null,
   "id": "b7350d4f",
   "metadata": {},
   "outputs": [],
   "source": [
    "# Your code here"
   ]
  },
  {
   "cell_type": "markdown",
   "id": "2892fa31",
   "metadata": {},
   "source": [
    "## 5. Fill missing values with the mean for numerical columns."
   ]
  },
  {
   "cell_type": "code",
   "execution_count": null,
   "id": "f6a963e4",
   "metadata": {},
   "outputs": [],
   "source": [
    "# Your code here"
   ]
  },
  {
   "cell_type": "markdown",
   "id": "663314e6",
   "metadata": {},
   "source": [
    "## 6. Fill missing values with the mode for categorical columns."
   ]
  },
  {
   "cell_type": "code",
   "execution_count": null,
   "id": "83405b36",
   "metadata": {},
   "outputs": [],
   "source": [
    "# Your code here"
   ]
  },
  {
   "cell_type": "markdown",
   "id": "0e610959",
   "metadata": {},
   "source": [
    "## 7. Create a new column 'Revenue' by multiplying 'Quantity' and 'Unit_Price'."
   ]
  },
  {
   "cell_type": "code",
   "execution_count": null,
   "id": "47513841",
   "metadata": {},
   "outputs": [],
   "source": [
    "# Your code here"
   ]
  },
  {
   "cell_type": "markdown",
   "id": "c0b41767",
   "metadata": {},
   "source": [
    "## 8. Calculate the correlation matrix for numerical columns."
   ]
  },
  {
   "cell_type": "code",
   "execution_count": null,
   "id": "31b6a26c",
   "metadata": {},
   "outputs": [],
   "source": [
    "# Your code here"
   ]
  },
  {
   "cell_type": "markdown",
   "id": "028e8d87",
   "metadata": {},
   "source": [
    "## 9. Plot a histogram for the 'Total_Price' column."
   ]
  },
  {
   "cell_type": "code",
   "execution_count": null,
   "id": "0906c2f8",
   "metadata": {},
   "outputs": [],
   "source": [
    "# Your code here"
   ]
  },
  {
   "cell_type": "markdown",
   "id": "1cb04186",
   "metadata": {},
   "source": [
    "## 10. Plot a bar chart for the 'Store_Location' column."
   ]
  },
  {
   "cell_type": "code",
   "execution_count": null,
   "id": "a29668b5",
   "metadata": {},
   "outputs": [],
   "source": [
    "# Your code here"
   ]
  },
  {
   "cell_type": "markdown",
   "id": "d47d8e11",
   "metadata": {},
   "source": [
    "## 11. Plot a scatter plot between 'Unit_Price' and 'Total_Price'."
   ]
  },
  {
   "cell_type": "code",
   "execution_count": null,
   "id": "f8969ea1",
   "metadata": {},
   "outputs": [],
   "source": [
    "# Your code here"
   ]
  },
  {
   "cell_type": "markdown",
   "id": "d7cee42f",
   "metadata": {},
   "source": [
    "## 12. Encode the 'Payment_Type' column using one-hot encoding."
   ]
  },
  {
   "cell_type": "code",
   "execution_count": null,
   "id": "ff0a36eb",
   "metadata": {},
   "outputs": [],
   "source": [
    "# Your code here"
   ]
  },
  {
   "cell_type": "markdown",
   "id": "771ca4a3",
   "metadata": {},
   "source": [
    "## 13. Normalize the 'Total_Price' column using Min-Max scaling."
   ]
  },
  {
   "cell_type": "code",
   "execution_count": null,
   "id": "e01d20bf",
   "metadata": {},
   "outputs": [],
   "source": [
    "# Your code here"
   ]
  },
  {
   "cell_type": "markdown",
   "id": "93629412",
   "metadata": {},
   "source": [
    "## 14. Standardize the 'Discount' column."
   ]
  },
  {
   "cell_type": "code",
   "execution_count": null,
   "id": "f62e4ad7",
   "metadata": {},
   "outputs": [],
   "source": [
    "# Your code here"
   ]
  },
  {
   "cell_type": "markdown",
   "id": "0beed0fd",
   "metadata": {},
   "source": [
    "## 15. Create a pivot table showing the average 'Total_Price' for each 'Store_Location'."
   ]
  },
  {
   "cell_type": "code",
   "execution_count": null,
   "id": "c7149628",
   "metadata": {},
   "outputs": [],
   "source": [
    "# Your code here"
   ]
  },
  {
   "cell_type": "markdown",
   "id": "ca9ebd13",
   "metadata": {},
   "source": [
    "## 16. Group the data by 'Return_Status' and calculate the mean 'Total_Price'."
   ]
  },
  {
   "cell_type": "code",
   "execution_count": null,
   "id": "c7bb6305",
   "metadata": {},
   "outputs": [],
   "source": [
    "# Your code here"
   ]
  },
  {
   "cell_type": "markdown",
   "id": "d0fbdc9b",
   "metadata": {},
   "source": [
    "## 17. Filter the dataset for orders with 'Total_Price' greater than 1000."
   ]
  },
  {
   "cell_type": "code",
   "execution_count": null,
   "id": "ab880aa6",
   "metadata": {},
   "outputs": [],
   "source": [
    "# Your code here"
   ]
  },
  {
   "cell_type": "markdown",
   "id": "cc922044",
   "metadata": {},
   "source": [
    "## 18. Sort the dataset by 'Purchase_Date' in descending order."
   ]
  },
  {
   "cell_type": "code",
   "execution_count": null,
   "id": "e28d667c",
   "metadata": {},
   "outputs": [],
   "source": [
    "# Your code here"
   ]
  },
  {
   "cell_type": "markdown",
   "id": "cd888076",
   "metadata": {},
   "source": [
    "## 19. Create a new column 'Final_Price' by subtracting 'Discount' from 'Total_Price'."
   ]
  },
  {
   "cell_type": "code",
   "execution_count": null,
   "id": "7571b174",
   "metadata": {},
   "outputs": [],
   "source": [
    "# Your code here"
   ]
  },
  {
   "cell_type": "markdown",
   "id": "31b3ccc1",
   "metadata": {},
   "source": [
    "## 20. Replace all instances of 'Returned' in the 'Return_Status' column with 'Processed'."
   ]
  },
  {
   "cell_type": "code",
   "execution_count": null,
   "id": "64b3c2d4",
   "metadata": {},
   "outputs": [],
   "source": [
    "# Your code here"
   ]
  },
  {
   "cell_type": "markdown",
   "id": "7c65930d",
   "metadata": {},
   "source": [
    "## 21. Rename the column 'Total_Price' to 'Order_Value'."
   ]
  },
  {
   "cell_type": "code",
   "execution_count": null,
   "id": "52f311f2",
   "metadata": {},
   "outputs": [],
   "source": [
    "# Your code here"
   ]
  },
  {
   "cell_type": "markdown",
   "id": "a4f00f41",
   "metadata": {},
   "source": [
    "## 22. Drop the 'Payment_Type' column from the dataset."
   ]
  },
  {
   "cell_type": "code",
   "execution_count": null,
   "id": "d9f726a3",
   "metadata": {},
   "outputs": [],
   "source": [
    "# Your code here"
   ]
  },
  {
   "cell_type": "markdown",
   "id": "6b9e31a9",
   "metadata": {},
   "source": [
    "## 23. Check for duplicate rows in the dataset."
   ]
  },
  {
   "cell_type": "code",
   "execution_count": null,
   "id": "50aec26f",
   "metadata": {},
   "outputs": [],
   "source": [
    "# Your code here"
   ]
  },
  {
   "cell_type": "markdown",
   "id": "a5be50f6",
   "metadata": {},
   "source": [
    "## 24. Drop any duplicate rows found."
   ]
  },
  {
   "cell_type": "code",
   "execution_count": null,
   "id": "9f42e505",
   "metadata": {},
   "outputs": [],
   "source": [
    "# Your code here"
   ]
  },
  {
   "cell_type": "markdown",
   "id": "fd36d2fe",
   "metadata": {},
   "source": [
    "## 25. Create a new DataFrame containing only 'Order_ID', 'Customer_ID', and 'Order_Value'."
   ]
  },
  {
   "cell_type": "code",
   "execution_count": null,
   "id": "12bc361d",
   "metadata": {},
   "outputs": [],
   "source": [
    "# Your code here"
   ]
  },
  {
   "cell_type": "markdown",
   "id": "50c070e0",
   "metadata": {},
   "source": [
    "## 26. Merge the new DataFrame with the original dataset on 'Order_ID'."
   ]
  },
  {
   "cell_type": "code",
   "execution_count": null,
   "id": "ed715583",
   "metadata": {},
   "outputs": [],
   "source": [
    "# Your code here"
   ]
  },
  {
   "cell_type": "markdown",
   "id": "03f4c62d",
   "metadata": {},
   "source": [
    "## 27. Create a cross-tabulation of 'Store_Location' and 'Payment_Type'."
   ]
  },
  {
   "cell_type": "code",
   "execution_count": null,
   "id": "80bcfba5",
   "metadata": {},
   "outputs": [],
   "source": [
    "# Your code here"
   ]
  },
  {
   "cell_type": "markdown",
   "id": "7ee3dec0",
   "metadata": {},
   "source": [
    "## 28. Create a pivot table showing the count of orders by 'Store_Location' and 'Return_Status'."
   ]
  },
  {
   "cell_type": "code",
   "execution_count": null,
   "id": "76c88b81",
   "metadata": {},
   "outputs": [],
   "source": [
    "# Your code here"
   ]
  },
  {
   "cell_type": "markdown",
   "id": "5d614475",
   "metadata": {},
   "source": [
    "## 29. Replace missing values in 'Discount' with the median."
   ]
  },
  {
   "cell_type": "code",
   "execution_count": null,
   "id": "002ebb70",
   "metadata": {},
   "outputs": [],
   "source": [
    "# Your code here"
   ]
  },
  {
   "cell_type": "markdown",
   "id": "00df02cd",
   "metadata": {},
   "source": [
    "## 30. Calculate the Z-score for the 'Unit_Price' column."
   ]
  },
  {
   "cell_type": "code",
   "execution_count": null,
   "id": "f709ddff",
   "metadata": {},
   "outputs": [],
   "source": [
    "# Your code here"
   ]
  },
  {
   "cell_type": "markdown",
   "id": "8dba76c9",
   "metadata": {},
   "source": [
    "## 31. Filter out outliers in the 'Unit_Price' column based on Z-score."
   ]
  },
  {
   "cell_type": "code",
   "execution_count": null,
   "id": "e9bdca8c",
   "metadata": {},
   "outputs": [],
   "source": [
    "# Your code here"
   ]
  },
  {
   "cell_type": "markdown",
   "id": "fc3d0080",
   "metadata": {},
   "source": [
    "## 32. Apply a lambda function to the 'Order_Value' column to categorize into 'Low', 'Medium', 'High'."
   ]
  },
  {
   "cell_type": "code",
   "execution_count": null,
   "id": "bda8a4f7",
   "metadata": {},
   "outputs": [],
   "source": [
    "# Your code here"
   ]
  },
  {
   "cell_type": "markdown",
   "id": "e8714597",
   "metadata": {},
   "source": [
    "## 33. Create a new column 'Profit' by subtracting 'Discount' from 'Revenue'."
   ]
  },
  {
   "cell_type": "code",
   "execution_count": null,
   "id": "a6de262e",
   "metadata": {},
   "outputs": [],
   "source": [
    "# Your code here"
   ]
  },
  {
   "cell_type": "markdown",
   "id": "16825cc1",
   "metadata": {},
   "source": [
    "## 34. Extract the year from 'Purchase_Date' and create a new column 'Purchase_Year'."
   ]
  },
  {
   "cell_type": "code",
   "execution_count": null,
   "id": "493f6f48",
   "metadata": {},
   "outputs": [],
   "source": [
    "# Your code here"
   ]
  },
  {
   "cell_type": "markdown",
   "id": "fae30404",
   "metadata": {},
   "source": [
    "## 35. Convert the 'Return_Status' column to a categorical data type."
   ]
  },
  {
   "cell_type": "code",
   "execution_count": null,
   "id": "08e3977f",
   "metadata": {},
   "outputs": [],
   "source": [
    "# Your code here"
   ]
  },
  {
   "cell_type": "markdown",
   "id": "483460b8",
   "metadata": {},
   "source": [
    "## 36. Create a box plot for 'Order_Value' across different 'Store_Location'."
   ]
  },
  {
   "cell_type": "code",
   "execution_count": null,
   "id": "e8651028",
   "metadata": {},
   "outputs": [],
   "source": [
    "# Your code here"
   ]
  },
  {
   "cell_type": "markdown",
   "id": "5e76565e",
   "metadata": {},
   "source": [
    "## 37. Create a line plot showing the trend of 'Order_Value' over 'Purchase_Date'."
   ]
  },
  {
   "cell_type": "code",
   "execution_count": null,
   "id": "eaf5ce6a",
   "metadata": {},
   "outputs": [],
   "source": [
    "# Your code here"
   ]
  },
  {
   "cell_type": "markdown",
   "id": "85adeb8d",
   "metadata": {},
   "source": [
    "## 38. Create a heatmap for the correlation matrix."
   ]
  },
  {
   "cell_type": "code",
   "execution_count": null,
   "id": "b01572e1",
   "metadata": {},
   "outputs": [],
   "source": [
    "# Your code here"
   ]
  },
  {
   "cell_type": "markdown",
   "id": "e806f751",
   "metadata": {},
   "source": [
    "## 39. Filter the dataset to include only orders with 'Return_Status' as 'Not Returned'."
   ]
  },
  {
   "cell_type": "code",
   "execution_count": null,
   "id": "e6a82405",
   "metadata": {},
   "outputs": [],
   "source": [
    "# Your code here"
   ]
  },
  {
   "cell_type": "markdown",
   "id": "76758c6e",
   "metadata": {},
   "source": [
    "## 40. Replace outliers in 'Revenue' with the median value."
   ]
  },
  {
   "cell_type": "code",
   "execution_count": null,
   "id": "5807ceb7",
   "metadata": {},
   "outputs": [],
   "source": [
    "# Your code here"
   ]
  },
  {
   "cell_type": "markdown",
   "id": "489c6724",
   "metadata": {},
   "source": [
    "## 41. Calculate the percentage of missing values in each column."
   ]
  },
  {
   "cell_type": "code",
   "execution_count": null,
   "id": "18943035",
   "metadata": {},
   "outputs": [],
   "source": [
    "# Your code here"
   ]
  },
  {
   "cell_type": "markdown",
   "id": "13baceca",
   "metadata": {},
   "source": [
    "## 42. Reorder the columns so that 'Order_ID' is the first column."
   ]
  },
  {
   "cell_type": "code",
   "execution_count": null,
   "id": "d251e803",
   "metadata": {},
   "outputs": [],
   "source": [
    "# Your code here"
   ]
  },
  {
   "cell_type": "markdown",
   "id": "1be62967",
   "metadata": {},
   "source": [
    "## 43. Create a column 'High_Value_Order' which is True if 'Order_Value' > 2000, else False."
   ]
  },
  {
   "cell_type": "code",
   "execution_count": null,
   "id": "b7aae80f",
   "metadata": {},
   "outputs": [],
   "source": [
    "# Your code here"
   ]
  },
  {
   "cell_type": "markdown",
   "id": "e0e13dd7",
   "metadata": {},
   "source": [
    "## 44. Split the dataset into training (80%) and testing (20%) sets based on 'Order_ID'."
   ]
  },
  {
   "cell_type": "code",
   "execution_count": null,
   "id": "3472fb72",
   "metadata": {},
   "outputs": [],
   "source": [
    "# Your code here"
   ]
  },
  {
   "cell_type": "markdown",
   "id": "ecd02e9e",
   "metadata": {},
   "source": [
    "## 45. Create a pipeline to preprocess the 'Order_Value' and 'Unit_Price' columns."
   ]
  },
  {
   "cell_type": "code",
   "execution_count": null,
   "id": "5b62a8f6",
   "metadata": {},
   "outputs": [],
   "source": [
    "# Your code here"
   ]
  },
  {
   "cell_type": "markdown",
   "id": "178272c3",
   "metadata": {},
   "source": [
    "## 46. Export the cleaned dataset to a new CSV file."
   ]
  },
  {
   "cell_type": "code",
   "execution_count": null,
   "id": "f5360ecf",
   "metadata": {},
   "outputs": [],
   "source": [
    "# Your code here"
   ]
  },
  {
   "cell_type": "markdown",
   "id": "870baac5",
   "metadata": {},
   "source": [
    "## 47. Save the dataset in Excel format with multiple sheets based on 'Store_Location'."
   ]
  },
  {
   "cell_type": "code",
   "execution_count": null,
   "id": "79eb04b5",
   "metadata": {},
   "outputs": [],
   "source": [
    "# Your code here"
   ]
  },
  {
   "cell_type": "markdown",
   "id": "bd3c5754",
   "metadata": {},
   "source": [
    "## 48. Create a summary report of the dataset including key statistics and visualizations."
   ]
  },
  {
   "cell_type": "code",
   "execution_count": null,
   "id": "70b97d84",
   "metadata": {},
   "outputs": [],
   "source": [
    "# Your code here"
   ]
  },
  {
   "cell_type": "markdown",
   "id": "e6f621df",
   "metadata": {},
   "source": [
    "## 49. Write a function to automate the data cleaning process for this dataset."
   ]
  },
  {
   "cell_type": "code",
   "execution_count": null,
   "id": "3a823f4f",
   "metadata": {},
   "outputs": [],
   "source": [
    "# Your code here"
   ]
  },
  {
   "cell_type": "markdown",
   "id": "052881d9",
   "metadata": {},
   "source": [
    "## 50. Create a new column 'Customer_Loyalty_Score' using a simple formula on 'Customer_ID' and 'Order_Value'."
   ]
  },
  {
   "cell_type": "code",
   "execution_count": null,
   "id": "14823dd0",
   "metadata": {},
   "outputs": [],
   "source": [
    "# Your code here"
   ]
  }
 ],
 "metadata": {},
 "nbformat": 4,
 "nbformat_minor": 5
}
