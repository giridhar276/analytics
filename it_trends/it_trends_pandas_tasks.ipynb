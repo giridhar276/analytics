{
 "cells": [
  {
   "cell_type": "markdown",
   "id": "7db4a826",
   "metadata": {},
   "source": [
    "## 1. Load the dataset and display the first 5 rows."
   ]
  },
  {
   "cell_type": "code",
   "execution_count": null,
   "id": "c4bfe108",
   "metadata": {},
   "outputs": [],
   "source": [
    "# Your code here"
   ]
  },
  {
   "cell_type": "markdown",
   "id": "980c848a",
   "metadata": {},
   "source": [
    "## 2. Display the summary statistics of the dataset."
   ]
  },
  {
   "cell_type": "code",
   "execution_count": null,
   "id": "7a5a3979",
   "metadata": {},
   "outputs": [],
   "source": [
    "# Your code here"
   ]
  },
  {
   "cell_type": "markdown",
   "id": "4302167d",
   "metadata": {},
   "source": [
    "## 3. Check for missing values in the dataset."
   ]
  },
  {
   "cell_type": "code",
   "execution_count": null,
   "id": "644f2d9c",
   "metadata": {},
   "outputs": [],
   "source": [
    "# Your code here"
   ]
  },
  {
   "cell_type": "markdown",
   "id": "116c3a75",
   "metadata": {},
   "source": [
    "## 4. Drop rows with any missing values."
   ]
  },
  {
   "cell_type": "code",
   "execution_count": null,
   "id": "11c2729f",
   "metadata": {},
   "outputs": [],
   "source": [
    "# Your code here"
   ]
  },
  {
   "cell_type": "markdown",
   "id": "6b316c06",
   "metadata": {},
   "source": [
    "## 5. Fill missing values with the mean for numerical columns."
   ]
  },
  {
   "cell_type": "code",
   "execution_count": null,
   "id": "7992e49a",
   "metadata": {},
   "outputs": [],
   "source": [
    "# Your code here"
   ]
  },
  {
   "cell_type": "markdown",
   "id": "cce5cf55",
   "metadata": {},
   "source": [
    "## 6. Fill missing values with the mode for categorical columns."
   ]
  },
  {
   "cell_type": "code",
   "execution_count": null,
   "id": "a0b2a2ae",
   "metadata": {},
   "outputs": [],
   "source": [
    "# Your code here"
   ]
  },
  {
   "cell_type": "markdown",
   "id": "74e53010",
   "metadata": {},
   "source": [
    "## 7. Create a new column 'Company_Age' based on 'Year_Founded' and the current year."
   ]
  },
  {
   "cell_type": "code",
   "execution_count": null,
   "id": "16183981",
   "metadata": {},
   "outputs": [],
   "source": [
    "# Your code here"
   ]
  },
  {
   "cell_type": "markdown",
   "id": "7ee7728b",
   "metadata": {},
   "source": [
    "## 8. Calculate the correlation matrix for numerical columns."
   ]
  },
  {
   "cell_type": "code",
   "execution_count": null,
   "id": "31b26917",
   "metadata": {},
   "outputs": [],
   "source": [
    "# Your code here"
   ]
  },
  {
   "cell_type": "markdown",
   "id": "bf7049d6",
   "metadata": {},
   "source": [
    "## 9. Plot a histogram for the 'Annual_Revenue' column."
   ]
  },
  {
   "cell_type": "code",
   "execution_count": null,
   "id": "b5edfc96",
   "metadata": {},
   "outputs": [],
   "source": [
    "# Your code here"
   ]
  },
  {
   "cell_type": "markdown",
   "id": "c20c0e31",
   "metadata": {},
   "source": [
    "## 10. Plot a bar chart for the 'Tech_Sector' column."
   ]
  },
  {
   "cell_type": "code",
   "execution_count": null,
   "id": "4f849809",
   "metadata": {},
   "outputs": [],
   "source": [
    "# Your code here"
   ]
  },
  {
   "cell_type": "markdown",
   "id": "d7f1c3cc",
   "metadata": {},
   "source": [
    "## 11. Plot a scatter plot between 'Annual_Revenue' and 'Market_Share'."
   ]
  },
  {
   "cell_type": "code",
   "execution_count": null,
   "id": "e4ba6632",
   "metadata": {},
   "outputs": [],
   "source": [
    "# Your code here"
   ]
  },
  {
   "cell_type": "markdown",
   "id": "00fa8d8e",
   "metadata": {},
   "source": [
    "## 12. Encode the 'Region' column using label encoding."
   ]
  },
  {
   "cell_type": "code",
   "execution_count": null,
   "id": "0c005d14",
   "metadata": {},
   "outputs": [],
   "source": [
    "# Your code here"
   ]
  },
  {
   "cell_type": "markdown",
   "id": "921aa9ea",
   "metadata": {},
   "source": [
    "## 14. Normalize the 'Annual_Revenue' column using Min-Max scaling."
   ]
  },
  {
   "cell_type": "code",
   "execution_count": null,
   "id": "a839c24c",
   "metadata": {},
   "outputs": [],
   "source": [
    "# Your code here"
   ]
  },
  {
   "cell_type": "markdown",
   "id": "debb8f24",
   "metadata": {},
   "source": [
    "## 15. Standardize the 'Customer_Satisfaction_Score' column."
   ]
  },
  {
   "cell_type": "code",
   "execution_count": null,
   "id": "91a0666d",
   "metadata": {},
   "outputs": [],
   "source": [
    "# Your code here"
   ]
  },
  {
   "cell_type": "markdown",
   "id": "e4331c0d",
   "metadata": {},
   "source": [
    "## 16. Create a pivot table showing the average 'Research_Development_Budget' for each 'Region'."
   ]
  },
  {
   "cell_type": "code",
   "execution_count": null,
   "id": "d7e2c95b",
   "metadata": {},
   "outputs": [],
   "source": [
    "# Your code here"
   ]
  },
  {
   "cell_type": "markdown",
   "id": "bb142e5c",
   "metadata": {},
   "source": [
    "## 17. Group the data by 'Tech_Sector' and calculate the mean 'Annual_Revenue'."
   ]
  },
  {
   "cell_type": "code",
   "execution_count": null,
   "id": "6a2895e4",
   "metadata": {},
   "outputs": [],
   "source": [
    "# Your code here"
   ]
  },
  {
   "cell_type": "markdown",
   "id": "a6cdbb44",
   "metadata": {},
   "source": [
    "## 18. Filter the dataset for companies with 'Annual_Revenue' greater than 50 million."
   ]
  },
  {
   "cell_type": "code",
   "execution_count": null,
   "id": "e9e26d10",
   "metadata": {},
   "outputs": [],
   "source": [
    "# Your code here"
   ]
  },
  {
   "cell_type": "markdown",
   "id": "9444959c",
   "metadata": {},
   "source": [
    "## 19. Sort the dataset by 'Market_Share' in descending order."
   ]
  },
  {
   "cell_type": "code",
   "execution_count": null,
   "id": "5e1271fa",
   "metadata": {},
   "outputs": [],
   "source": [
    "# Your code here"
   ]
  },
  {
   "cell_type": "markdown",
   "id": "55f123a6",
   "metadata": {},
   "source": [
    "## 20. Create a new column 'Revenue_per_Employee' by dividing 'Annual_Revenue' by 'Employees'."
   ]
  },
  {
   "cell_type": "code",
   "execution_count": null,
   "id": "ccbaba3d",
   "metadata": {},
   "outputs": [],
   "source": [
    "# Your code here"
   ]
  },
  {
   "cell_type": "markdown",
   "id": "c195d9df",
   "metadata": {},
   "source": [
    "## 21. Replace all instances of 'Networking' in the 'Tech_Sector' column with 'IT Services'."
   ]
  },
  {
   "cell_type": "code",
   "execution_count": null,
   "id": "8a3fda69",
   "metadata": {},
   "outputs": [],
   "source": [
    "# Your code here"
   ]
  },
  {
   "cell_type": "markdown",
   "id": "9c68f1c4",
   "metadata": {},
   "source": [
    "## 22. Rename the column 'Annual_Revenue' to 'Revenue'."
   ]
  },
  {
   "cell_type": "code",
   "execution_count": null,
   "id": "0362fc90",
   "metadata": {},
   "outputs": [],
   "source": [
    "# Your code here"
   ]
  },
  {
   "cell_type": "markdown",
   "id": "a934662b",
   "metadata": {},
   "source": [
    "## 23. Drop the 'CEO_Tenure_Years' column from the dataset."
   ]
  },
  {
   "cell_type": "code",
   "execution_count": null,
   "id": "e6d60b39",
   "metadata": {},
   "outputs": [],
   "source": [
    "# Your code here"
   ]
  },
  {
   "cell_type": "markdown",
   "id": "5aaeac59",
   "metadata": {},
   "source": [
    "## 24. Check for duplicate rows in the dataset."
   ]
  },
  {
   "cell_type": "code",
   "execution_count": null,
   "id": "6ac354ed",
   "metadata": {},
   "outputs": [],
   "source": [
    "# Your code here"
   ]
  },
  {
   "cell_type": "markdown",
   "id": "78c66165",
   "metadata": {},
   "source": [
    "## 25. Drop any duplicate rows found."
   ]
  },
  {
   "cell_type": "code",
   "execution_count": null,
   "id": "d376f574",
   "metadata": {},
   "outputs": [],
   "source": [
    "# Your code here"
   ]
  },
  {
   "cell_type": "markdown",
   "id": "a6e48037",
   "metadata": {},
   "source": [
    "## 26. Create a new DataFrame containing only 'Company_ID', 'Company_Name', and 'Region'."
   ]
  },
  {
   "cell_type": "code",
   "execution_count": null,
   "id": "f9181204",
   "metadata": {},
   "outputs": [],
   "source": [
    "# Your code here"
   ]
  },
  {
   "cell_type": "markdown",
   "id": "a7dfb459",
   "metadata": {},
   "source": [
    "## 27. Merge the new DataFrame with the original dataset on 'Company_ID'."
   ]
  },
  {
   "cell_type": "code",
   "execution_count": null,
   "id": "d437a52b",
   "metadata": {},
   "outputs": [],
   "source": [
    "# Your code here"
   ]
  },
  {
   "cell_type": "markdown",
   "id": "c016b85d",
   "metadata": {},
   "source": [
    "## 28. Create a cross-tabulation of 'Tech_Sector' and 'Region'."
   ]
  },
  {
   "cell_type": "code",
   "execution_count": null,
   "id": "4a7f58a4",
   "metadata": {},
   "outputs": [],
   "source": [
    "# Your code here"
   ]
  },
  {
   "cell_type": "markdown",
   "id": "bf44f191",
   "metadata": {},
   "source": [
    "## 29. Create a pivot table showing the count of companies by 'Region' and 'Tech_Sector'."
   ]
  },
  {
   "cell_type": "code",
   "execution_count": null,
   "id": "6da1aa83",
   "metadata": {},
   "outputs": [],
   "source": [
    "# Your code here"
   ]
  },
  {
   "cell_type": "markdown",
   "id": "e076d9fe",
   "metadata": {},
   "source": [
    "## 30. Replace missing values in 'Customer_Satisfaction_Score' with the median."
   ]
  },
  {
   "cell_type": "code",
   "execution_count": null,
   "id": "a83335db",
   "metadata": {},
   "outputs": [],
   "source": [
    "# Your code here"
   ]
  },
  {
   "cell_type": "markdown",
   "id": "2b90255d",
   "metadata": {},
   "source": [
    "## 31. Calculate the Z-score for the 'Revenue' column."
   ]
  },
  {
   "cell_type": "code",
   "execution_count": null,
   "id": "c89b26a7",
   "metadata": {},
   "outputs": [],
   "source": [
    "# Your code here"
   ]
  },
  {
   "cell_type": "markdown",
   "id": "d37cdeb9",
   "metadata": {},
   "source": [
    "## 32. Filter out outliers in the 'Revenue' column based on Z-score."
   ]
  },
  {
   "cell_type": "code",
   "execution_count": null,
   "id": "6cf01f50",
   "metadata": {},
   "outputs": [],
   "source": [
    "# Your code here"
   ]
  },
  {
   "cell_type": "markdown",
   "id": "5d417146",
   "metadata": {},
   "source": [
    "## 33. Apply a lambda function to the 'Employees' column to categorize into 'Small', 'Medium', 'Large'."
   ]
  },
  {
   "cell_type": "code",
   "execution_count": null,
   "id": "e1135c3b",
   "metadata": {},
   "outputs": [],
   "source": [
    "# Your code here"
   ]
  },
  {
   "cell_type": "markdown",
   "id": "35d532b9",
   "metadata": {},
   "source": [
    "## 34. Create a new column 'Total_R_D_Investment' as 'Research_Development_Budget' multiplied by 'Company_Age'."
   ]
  },
  {
   "cell_type": "code",
   "execution_count": null,
   "id": "186a664c",
   "metadata": {},
   "outputs": [],
   "source": [
    "# Your code here"
   ]
  },
  {
   "cell_type": "markdown",
   "id": "af131bec",
   "metadata": {},
   "source": [
    "## 35. Extract the decade from 'Year_Founded' column and create a new column 'Founded_Decade'."
   ]
  },
  {
   "cell_type": "code",
   "execution_count": null,
   "id": "b840aeb9",
   "metadata": {},
   "outputs": [],
   "source": [
    "# Your code here"
   ]
  },
  {
   "cell_type": "markdown",
   "id": "bccf5fe0",
   "metadata": {},
   "source": [
    "## 36. Convert the 'Tech_Sector' column to a categorical data type."
   ]
  },
  {
   "cell_type": "code",
   "execution_count": null,
   "id": "236e89a6",
   "metadata": {},
   "outputs": [],
   "source": [
    "# Your code here"
   ]
  },
  {
   "cell_type": "markdown",
   "id": "e898929c",
   "metadata": {},
   "source": [
    "## 37. Create a box plot for 'Market_Share' across different 'Tech_Sector'."
   ]
  },
  {
   "cell_type": "code",
   "execution_count": null,
   "id": "bf1ab83b",
   "metadata": {},
   "outputs": [],
   "source": [
    "# Your code here"
   ]
  },
  {
   "cell_type": "markdown",
   "id": "20d2dd3b",
   "metadata": {},
   "source": [
    "## 38. Create a line plot showing the trend of 'Revenue' over 'Company_Age'."
   ]
  },
  {
   "cell_type": "code",
   "execution_count": null,
   "id": "57b33468",
   "metadata": {},
   "outputs": [],
   "source": [
    "# Your code here"
   ]
  },
  {
   "cell_type": "markdown",
   "id": "0f6fe19f",
   "metadata": {},
   "source": [
    "## 39. Create a heatmap for the correlation matrix."
   ]
  },
  {
   "cell_type": "code",
   "execution_count": null,
   "id": "b1d14496",
   "metadata": {},
   "outputs": [],
   "source": [
    "# Your code here"
   ]
  },
  {
   "cell_type": "markdown",
   "id": "37aab59f",
   "metadata": {},
   "source": [
    "## 40. Filter the dataset to include only companies from 'North America'."
   ]
  },
  {
   "cell_type": "code",
   "execution_count": null,
   "id": "eae50bd3",
   "metadata": {},
   "outputs": [],
   "source": [
    "# Your code here"
   ]
  },
  {
   "cell_type": "markdown",
   "id": "3cb4773e",
   "metadata": {},
   "source": [
    "## 41. Replace outliers in 'Research_Development_Budget' with the median value."
   ]
  },
  {
   "cell_type": "code",
   "execution_count": null,
   "id": "0cd394b2",
   "metadata": {},
   "outputs": [],
   "source": [
    "# Your code here"
   ]
  },
  {
   "cell_type": "markdown",
   "id": "93acd997",
   "metadata": {},
   "source": [
    "## 42. Calculate the percentage of missing values in each column."
   ]
  },
  {
   "cell_type": "code",
   "execution_count": null,
   "id": "264bb617",
   "metadata": {},
   "outputs": [],
   "source": [
    "# Your code here"
   ]
  },
  {
   "cell_type": "markdown",
   "id": "5abc6740",
   "metadata": {},
   "source": [
    "## 43. Reorder the columns so that 'Company_ID' is the first column."
   ]
  },
  {
   "cell_type": "code",
   "execution_count": null,
   "id": "d74e6414",
   "metadata": {},
   "outputs": [],
   "source": [
    "# Your code here"
   ]
  },
  {
   "cell_type": "markdown",
   "id": "a18b6967",
   "metadata": {},
   "source": [
    "## 44. Create a column 'High_Revenue' which is True if 'Revenue' > 500 million, else False."
   ]
  },
  {
   "cell_type": "code",
   "execution_count": null,
   "id": "e55c55b2",
   "metadata": {},
   "outputs": [],
   "source": [
    "# Your code here"
   ]
  },
  {
   "cell_type": "markdown",
   "id": "108dc908",
   "metadata": {},
   "source": [
    "## 45. Split the dataset into training (80%) and testing (20%) sets based on 'Company_ID'."
   ]
  },
  {
   "cell_type": "code",
   "execution_count": null,
   "id": "11bb3170",
   "metadata": {},
   "outputs": [],
   "source": [
    "# Your code here"
   ]
  },
  {
   "cell_type": "markdown",
   "id": "5801c4d6",
   "metadata": {},
   "source": [
    "## 46. Create a pipeline to preprocess the 'Revenue' and 'Market_Share' columns."
   ]
  },
  {
   "cell_type": "code",
   "execution_count": null,
   "id": "326d632b",
   "metadata": {},
   "outputs": [],
   "source": [
    "# Your code here"
   ]
  },
  {
   "cell_type": "markdown",
   "id": "cd160e32",
   "metadata": {},
   "source": [
    "## 47. Export the cleaned dataset to a new CSV file."
   ]
  },
  {
   "cell_type": "code",
   "execution_count": null,
   "id": "72bcfbdf",
   "metadata": {},
   "outputs": [],
   "source": [
    "# Your code here"
   ]
  },
  {
   "cell_type": "markdown",
   "id": "b2983d17",
   "metadata": {},
   "source": [
    "## 48. Save the dataset in Excel format with multiple sheets based on 'Region'."
   ]
  },
  {
   "cell_type": "code",
   "execution_count": null,
   "id": "fc333190",
   "metadata": {},
   "outputs": [],
   "source": [
    "# Your code here"
   ]
  },
  {
   "cell_type": "markdown",
   "id": "ecc228e0",
   "metadata": {},
   "source": [
    "## 49. Create a summary report of the dataset including key statistics and visualizations."
   ]
  },
  {
   "cell_type": "code",
   "execution_count": null,
   "id": "1d5c76a8",
   "metadata": {},
   "outputs": [],
   "source": [
    "# Your code here"
   ]
  },
  {
   "cell_type": "markdown",
   "id": "c302f23b",
   "metadata": {},
   "source": [
    "## 50. Write a function to automate the data cleaning process for this dataset."
   ]
  },
  {
   "cell_type": "code",
   "execution_count": null,
   "id": "1ffe1e0f",
   "metadata": {},
   "outputs": [],
   "source": [
    "# Your code here"
   ]
  }
 ],
 "metadata": {
  "language_info": {
   "name": "python"
  }
 },
 "nbformat": 4,
 "nbformat_minor": 5
}
