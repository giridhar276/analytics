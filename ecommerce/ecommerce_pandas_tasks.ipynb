{
 "cells": [
  {
   "cell_type": "markdown",
   "id": "3556d376",
   "metadata": {},
   "source": [
    "## 1. Load the dataset and display the first 5 rows."
   ]
  },
  {
   "cell_type": "code",
   "execution_count": null,
   "id": "71f21b4b",
   "metadata": {},
   "outputs": [],
   "source": [
    "# Your code here"
   ]
  },
  {
   "cell_type": "markdown",
   "id": "0fa694f9",
   "metadata": {},
   "source": [
    "## 2. Display the summary statistics of the dataset."
   ]
  },
  {
   "cell_type": "code",
   "execution_count": null,
   "id": "daadaee4",
   "metadata": {},
   "outputs": [],
   "source": [
    "# Your code here"
   ]
  },
  {
   "cell_type": "markdown",
   "id": "19aea605",
   "metadata": {},
   "source": [
    "## 3. Check for missing values in the dataset."
   ]
  },
  {
   "cell_type": "code",
   "execution_count": null,
   "id": "b0eee534",
   "metadata": {},
   "outputs": [],
   "source": [
    "# Your code here"
   ]
  },
  {
   "cell_type": "markdown",
   "id": "513251c3",
   "metadata": {},
   "source": [
    "## 4. Drop rows with any missing values."
   ]
  },
  {
   "cell_type": "code",
   "execution_count": null,
   "id": "0448b51c",
   "metadata": {},
   "outputs": [],
   "source": [
    "# Your code here"
   ]
  },
  {
   "cell_type": "markdown",
   "id": "860e2131",
   "metadata": {},
   "source": [
    "## 5. Fill missing values with the mean for numerical columns."
   ]
  },
  {
   "cell_type": "code",
   "execution_count": null,
   "id": "2d9f1109",
   "metadata": {},
   "outputs": [],
   "source": [
    "# Your code here"
   ]
  },
  {
   "cell_type": "markdown",
   "id": "1cd57655",
   "metadata": {},
   "source": [
    "## 6. Fill missing values with the mode for categorical columns."
   ]
  },
  {
   "cell_type": "code",
   "execution_count": null,
   "id": "0de21fe5",
   "metadata": {},
   "outputs": [],
   "source": [
    "# Your code here"
   ]
  },
  {
   "cell_type": "markdown",
   "id": "0856a077",
   "metadata": {},
   "source": [
    "## 7. Create a new column 'Total_Cost' by multiplying 'Quantity' and 'Price_per_Unit' and adding 'Shipping_Cost'."
   ]
  },
  {
   "cell_type": "code",
   "execution_count": null,
   "id": "4b202420",
   "metadata": {},
   "outputs": [],
   "source": [
    "# Your code here"
   ]
  },
  {
   "cell_type": "markdown",
   "id": "dfc74370",
   "metadata": {},
   "source": [
    "## 8. Calculate the correlation matrix for numerical columns."
   ]
  },
  {
   "cell_type": "code",
   "execution_count": null,
   "id": "ea245af2",
   "metadata": {},
   "outputs": [],
   "source": [
    "# Your code here"
   ]
  },
  {
   "cell_type": "markdown",
   "id": "a21ab3ca",
   "metadata": {},
   "source": [
    "## 9. Plot a histogram for the 'Customer_Satisfaction_Score' column."
   ]
  },
  {
   "cell_type": "code",
   "execution_count": null,
   "id": "9bd8b2e7",
   "metadata": {},
   "outputs": [],
   "source": [
    "# Your code here"
   ]
  },
  {
   "cell_type": "markdown",
   "id": "fc929693",
   "metadata": {},
   "source": [
    "## 10. Plot a bar chart for the 'Product_Category' column."
   ]
  },
  {
   "cell_type": "code",
   "execution_count": null,
   "id": "a304faff",
   "metadata": {},
   "outputs": [],
   "source": [
    "# Your code here"
   ]
  },
  {
   "cell_type": "markdown",
   "id": "f5086af5",
   "metadata": {},
   "source": [
    "## 11. Plot a scatter plot between 'Price_per_Unit' and 'Customer_Satisfaction_Score'."
   ]
  },
  {
   "cell_type": "code",
   "execution_count": null,
   "id": "c472be12",
   "metadata": {},
   "outputs": [],
   "source": [
    "# Your code here"
   ]
  },
  {
   "cell_type": "markdown",
   "id": "bf774b24",
   "metadata": {},
   "source": [
    "## 12. Encode the 'Payment_Method' column using one-hot encoding."
   ]
  },
  {
   "cell_type": "code",
   "execution_count": null,
   "id": "17fff5e0",
   "metadata": {},
   "outputs": [],
   "source": [
    "# Your code here"
   ]
  },
  {
   "cell_type": "markdown",
   "id": "78e5f5b0",
   "metadata": {},
   "source": [
    "## 13. Normalize the 'Total_Cost' column using Min-Max scaling."
   ]
  },
  {
   "cell_type": "code",
   "execution_count": null,
   "id": "61515c74",
   "metadata": {},
   "outputs": [],
   "source": [
    "# Your code here"
   ]
  },
  {
   "cell_type": "markdown",
   "id": "2013f470",
   "metadata": {},
   "source": [
    "## 14. Standardize the 'Shipping_Cost' column."
   ]
  },
  {
   "cell_type": "code",
   "execution_count": null,
   "id": "a3c9ea00",
   "metadata": {},
   "outputs": [],
   "source": [
    "# Your code here"
   ]
  },
  {
   "cell_type": "markdown",
   "id": "9296cce2",
   "metadata": {},
   "source": [
    "## 15. Create a pivot table showing the average 'Total_Cost' for each 'City'."
   ]
  },
  {
   "cell_type": "code",
   "execution_count": null,
   "id": "272fbfba",
   "metadata": {},
   "outputs": [],
   "source": [
    "# Your code here"
   ]
  },
  {
   "cell_type": "markdown",
   "id": "73196ee4",
   "metadata": {},
   "source": [
    "## 16. Group the data by 'Order_Status' and calculate the mean 'Total_Cost'."
   ]
  },
  {
   "cell_type": "code",
   "execution_count": null,
   "id": "f6bee32e",
   "metadata": {},
   "outputs": [],
   "source": [
    "# Your code here"
   ]
  },
  {
   "cell_type": "markdown",
   "id": "cb8b117f",
   "metadata": {},
   "source": [
    "## 17. Filter the dataset for orders with 'Total_Cost' greater than 100."
   ]
  },
  {
   "cell_type": "code",
   "execution_count": null,
   "id": "1749a032",
   "metadata": {},
   "outputs": [],
   "source": [
    "# Your code here"
   ]
  },
  {
   "cell_type": "markdown",
   "id": "cd854ea9",
   "metadata": {},
   "source": [
    "## 18. Sort the dataset by 'Order_Date' in descending order."
   ]
  },
  {
   "cell_type": "code",
   "execution_count": null,
   "id": "4c8c7922",
   "metadata": {},
   "outputs": [],
   "source": [
    "# Your code here"
   ]
  },
  {
   "cell_type": "markdown",
   "id": "95a1e55e",
   "metadata": {},
   "source": [
    "## 19. Create a new column 'Discounted_Cost' by applying a 10% discount to 'Total_Cost' for orders with 'Quantity' > 5."
   ]
  },
  {
   "cell_type": "code",
   "execution_count": null,
   "id": "0d95567f",
   "metadata": {},
   "outputs": [],
   "source": [
    "# Your code here"
   ]
  },
  {
   "cell_type": "markdown",
   "id": "ea307fe0",
   "metadata": {},
   "source": [
    "## 20. Replace all instances of 'Pending' in the 'Order_Status' column with 'In Process'."
   ]
  },
  {
   "cell_type": "code",
   "execution_count": null,
   "id": "64a81634",
   "metadata": {},
   "outputs": [],
   "source": [
    "# Your code here"
   ]
  },
  {
   "cell_type": "markdown",
   "id": "94809dbf",
   "metadata": {},
   "source": [
    "## 21. Rename the column 'Customer_Satisfaction_Score' to 'Satisfaction_Score'."
   ]
  },
  {
   "cell_type": "code",
   "execution_count": null,
   "id": "3669cd4d",
   "metadata": {},
   "outputs": [],
   "source": [
    "# Your code here"
   ]
  },
  {
   "cell_type": "markdown",
   "id": "827c9d22",
   "metadata": {},
   "source": [
    "## 22. Drop the 'Shipping_Cost' column from the dataset."
   ]
  },
  {
   "cell_type": "code",
   "execution_count": null,
   "id": "088ee4e3",
   "metadata": {},
   "outputs": [],
   "source": [
    "# Your code here"
   ]
  },
  {
   "cell_type": "markdown",
   "id": "934ecae8",
   "metadata": {},
   "source": [
    "## 23. Check for duplicate rows in the dataset."
   ]
  },
  {
   "cell_type": "code",
   "execution_count": null,
   "id": "7a71dc15",
   "metadata": {},
   "outputs": [],
   "source": [
    "# Your code here"
   ]
  },
  {
   "cell_type": "markdown",
   "id": "c311407f",
   "metadata": {},
   "source": [
    "## 24. Drop any duplicate rows found."
   ]
  },
  {
   "cell_type": "code",
   "execution_count": null,
   "id": "9b0ccb1c",
   "metadata": {},
   "outputs": [],
   "source": [
    "# Your code here"
   ]
  },
  {
   "cell_type": "markdown",
   "id": "c6e53fd5",
   "metadata": {},
   "source": [
    "## 25. Create a new DataFrame containing only 'Order_ID', 'Customer_Name', and 'Total_Cost'."
   ]
  },
  {
   "cell_type": "code",
   "execution_count": null,
   "id": "fa43b52c",
   "metadata": {},
   "outputs": [],
   "source": [
    "# Your code here"
   ]
  },
  {
   "cell_type": "markdown",
   "id": "8b2f5c60",
   "metadata": {},
   "source": [
    "## 26. Merge the new DataFrame with the original dataset on 'Order_ID'."
   ]
  },
  {
   "cell_type": "code",
   "execution_count": null,
   "id": "1f8f0ef1",
   "metadata": {},
   "outputs": [],
   "source": [
    "# Your code here"
   ]
  },
  {
   "cell_type": "markdown",
   "id": "4d79bbe2",
   "metadata": {},
   "source": [
    "## 27. Create a cross-tabulation of 'Product_Category' and 'Payment_Method'."
   ]
  },
  {
   "cell_type": "code",
   "execution_count": null,
   "id": "8f2c636d",
   "metadata": {},
   "outputs": [],
   "source": [
    "# Your code here"
   ]
  },
  {
   "cell_type": "markdown",
   "id": "f96a3468",
   "metadata": {},
   "source": [
    "## 28. Create a pivot table showing the count of orders by 'City' and 'Order_Status'."
   ]
  },
  {
   "cell_type": "code",
   "execution_count": null,
   "id": "f12ab176",
   "metadata": {},
   "outputs": [],
   "source": [
    "# Your code here"
   ]
  },
  {
   "cell_type": "markdown",
   "id": "2f06060f",
   "metadata": {},
   "source": [
    "## 29. Replace missing values in 'Satisfaction_Score' with the median."
   ]
  },
  {
   "cell_type": "code",
   "execution_count": null,
   "id": "8786e958",
   "metadata": {},
   "outputs": [],
   "source": [
    "# Your code here"
   ]
  },
  {
   "cell_type": "markdown",
   "id": "6c35e156",
   "metadata": {},
   "source": [
    "## 30. Calculate the Z-score for the 'Price_per_Unit' column."
   ]
  },
  {
   "cell_type": "code",
   "execution_count": null,
   "id": "2937b928",
   "metadata": {},
   "outputs": [],
   "source": [
    "# Your code here"
   ]
  },
  {
   "cell_type": "markdown",
   "id": "20016cdf",
   "metadata": {},
   "source": [
    "## 31. Filter out outliers in the 'Price_per_Unit' column based on Z-score."
   ]
  },
  {
   "cell_type": "code",
   "execution_count": null,
   "id": "83cc5a14",
   "metadata": {},
   "outputs": [],
   "source": [
    "# Your code here"
   ]
  },
  {
   "cell_type": "markdown",
   "id": "57053a31",
   "metadata": {},
   "source": [
    "## 32. Apply a lambda function to the 'Satisfaction_Score' column to categorize into 'Low', 'Medium', 'High'."
   ]
  },
  {
   "cell_type": "code",
   "execution_count": null,
   "id": "59dc8f83",
   "metadata": {},
   "outputs": [],
   "source": [
    "# Your code here"
   ]
  },
  {
   "cell_type": "markdown",
   "id": "0648f347",
   "metadata": {},
   "source": [
    "## 33. Create a new column 'Revenue' as 'Quantity' multiplied by 'Price_per_Unit'."
   ]
  },
  {
   "cell_type": "code",
   "execution_count": null,
   "id": "d5287ddf",
   "metadata": {},
   "outputs": [],
   "source": [
    "# Your code here"
   ]
  },
  {
   "cell_type": "markdown",
   "id": "70922187",
   "metadata": {},
   "source": [
    "## 34. Extract the month from 'Order_Date' and create a new column 'Order_Month'."
   ]
  },
  {
   "cell_type": "code",
   "execution_count": null,
   "id": "de240abc",
   "metadata": {},
   "outputs": [],
   "source": [
    "# Your code here"
   ]
  },
  {
   "cell_type": "markdown",
   "id": "b971698d",
   "metadata": {},
   "source": [
    "## 35. Convert the 'Order_Status' column to a categorical data type."
   ]
  },
  {
   "cell_type": "code",
   "execution_count": null,
   "id": "3aa8fbb7",
   "metadata": {},
   "outputs": [],
   "source": [
    "# Your code here"
   ]
  },
  {
   "cell_type": "markdown",
   "id": "a0d31fbb",
   "metadata": {},
   "source": [
    "## 36. Create a box plot for 'Total_Cost' across different 'Product_Category'."
   ]
  },
  {
   "cell_type": "code",
   "execution_count": null,
   "id": "c732fecb",
   "metadata": {},
   "outputs": [],
   "source": [
    "# Your code here"
   ]
  },
  {
   "cell_type": "markdown",
   "id": "279834ad",
   "metadata": {},
   "source": [
    "## 37. Create a line plot showing the trend of 'Total_Cost' over 'Order_Date'."
   ]
  },
  {
   "cell_type": "code",
   "execution_count": null,
   "id": "b0f2972f",
   "metadata": {},
   "outputs": [],
   "source": [
    "# Your code here"
   ]
  },
  {
   "cell_type": "markdown",
   "id": "264f6613",
   "metadata": {},
   "source": [
    "## 38. Create a heatmap for the correlation matrix."
   ]
  },
  {
   "cell_type": "code",
   "execution_count": null,
   "id": "4cb3b406",
   "metadata": {},
   "outputs": [],
   "source": [
    "# Your code here"
   ]
  },
  {
   "cell_type": "markdown",
   "id": "ce513318",
   "metadata": {},
   "source": [
    "## 39. Filter the dataset to include only orders with 'Order_Status' as 'Delivered'."
   ]
  },
  {
   "cell_type": "code",
   "execution_count": null,
   "id": "fc1964e7",
   "metadata": {},
   "outputs": [],
   "source": [
    "# Your code here"
   ]
  },
  {
   "cell_type": "markdown",
   "id": "7f593de2",
   "metadata": {},
   "source": [
    "## 40. Replace outliers in 'Total_Cost' with the median value."
   ]
  },
  {
   "cell_type": "code",
   "execution_count": null,
   "id": "f7a0f07d",
   "metadata": {},
   "outputs": [],
   "source": [
    "# Your code here"
   ]
  },
  {
   "cell_type": "markdown",
   "id": "4f2f7406",
   "metadata": {},
   "source": [
    "## 41. Calculate the percentage of missing values in each column."
   ]
  },
  {
   "cell_type": "code",
   "execution_count": null,
   "id": "68c7955b",
   "metadata": {},
   "outputs": [],
   "source": [
    "# Your code here"
   ]
  },
  {
   "cell_type": "markdown",
   "id": "4f7bdb58",
   "metadata": {},
   "source": [
    "## 42. Reorder the columns so that 'Order_ID' is the first column."
   ]
  },
  {
   "cell_type": "code",
   "execution_count": null,
   "id": "58a362a4",
   "metadata": {},
   "outputs": [],
   "source": [
    "# Your code here"
   ]
  },
  {
   "cell_type": "markdown",
   "id": "4d4d43b4",
   "metadata": {},
   "source": [
    "## 43. Create a column 'High_Value_Order' which is True if 'Total_Cost' > 500, else False."
   ]
  },
  {
   "cell_type": "code",
   "execution_count": null,
   "id": "09eb58d2",
   "metadata": {},
   "outputs": [],
   "source": [
    "# Your code here"
   ]
  },
  {
   "cell_type": "markdown",
   "id": "742fc916",
   "metadata": {},
   "source": [
    "## 44. Split the dataset into training (80%) and testing (20%) sets based on 'Order_ID'."
   ]
  },
  {
   "cell_type": "code",
   "execution_count": null,
   "id": "72c23b31",
   "metadata": {},
   "outputs": [],
   "source": [
    "# Your code here"
   ]
  },
  {
   "cell_type": "markdown",
   "id": "619d234b",
   "metadata": {},
   "source": [
    "## 45. Create a pipeline to preprocess the 'Total_Cost' and 'Price_per_Unit' columns."
   ]
  },
  {
   "cell_type": "code",
   "execution_count": null,
   "id": "41d5ba8b",
   "metadata": {},
   "outputs": [],
   "source": [
    "# Your code here"
   ]
  },
  {
   "cell_type": "markdown",
   "id": "9308e257",
   "metadata": {},
   "source": [
    "## 46. Export the cleaned dataset to a new CSV file."
   ]
  },
  {
   "cell_type": "code",
   "execution_count": null,
   "id": "757c1525",
   "metadata": {},
   "outputs": [],
   "source": [
    "# Your code here"
   ]
  },
  {
   "cell_type": "markdown",
   "id": "34515935",
   "metadata": {},
   "source": [
    "## 47. Save the dataset in Excel format with multiple sheets based on 'Product_Category'."
   ]
  },
  {
   "cell_type": "code",
   "execution_count": null,
   "id": "db5e595a",
   "metadata": {},
   "outputs": [],
   "source": [
    "# Your code here"
   ]
  },
  {
   "cell_type": "markdown",
   "id": "67d1b5c7",
   "metadata": {},
   "source": [
    "## 48. Create a summary report of the dataset including key statistics and visualizations."
   ]
  },
  {
   "cell_type": "code",
   "execution_count": null,
   "id": "94c6430f",
   "metadata": {},
   "outputs": [],
   "source": [
    "# Your code here"
   ]
  },
  {
   "cell_type": "markdown",
   "id": "17b9549a",
   "metadata": {},
   "source": [
    "## 49. Write a function to automate the data cleaning process for this dataset."
   ]
  },
  {
   "cell_type": "code",
   "execution_count": null,
   "id": "196f0607",
   "metadata": {},
   "outputs": [],
   "source": [
    "# Your code here"
   ]
  },
  {
   "cell_type": "markdown",
   "id": "0e0c48fe",
   "metadata": {},
   "source": [
    "## 50. Create a new column 'Profit_Margin' using a simple formula on 'Revenue' and 'Total_Cost'."
   ]
  },
  {
   "cell_type": "code",
   "execution_count": null,
   "id": "944830d6",
   "metadata": {},
   "outputs": [],
   "source": [
    "# Your code here"
   ]
  }
 ],
 "metadata": {},
 "nbformat": 4,
 "nbformat_minor": 5
}
