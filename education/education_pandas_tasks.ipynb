{
 "cells": [
  {
   "cell_type": "markdown",
   "id": "ac55b0be",
   "metadata": {},
   "source": [
    "## 1. Load the dataset and display the first 5 rows."
   ]
  },
  {
   "cell_type": "code",
   "execution_count": null,
   "id": "fbef74f9",
   "metadata": {},
   "outputs": [],
   "source": [
    "# Your code here"
   ]
  },
  {
   "cell_type": "markdown",
   "id": "bf9826cd",
   "metadata": {},
   "source": [
    "## 2. Display the summary statistics of the dataset."
   ]
  },
  {
   "cell_type": "code",
   "execution_count": null,
   "id": "55710b1b",
   "metadata": {},
   "outputs": [],
   "source": [
    "# Your code here"
   ]
  },
  {
   "cell_type": "markdown",
   "id": "5e682340",
   "metadata": {},
   "source": [
    "## 3. Check for missing values in the dataset."
   ]
  },
  {
   "cell_type": "code",
   "execution_count": null,
   "id": "0592013c",
   "metadata": {},
   "outputs": [],
   "source": [
    "# Your code here"
   ]
  },
  {
   "cell_type": "markdown",
   "id": "b5c11918",
   "metadata": {},
   "source": [
    "## 4. Drop rows with any missing values."
   ]
  },
  {
   "cell_type": "code",
   "execution_count": null,
   "id": "0609e459",
   "metadata": {},
   "outputs": [],
   "source": [
    "# Your code here"
   ]
  },
  {
   "cell_type": "markdown",
   "id": "b4e3b8f4",
   "metadata": {},
   "source": [
    "## 5. Fill missing values with the mean for numerical columns."
   ]
  },
  {
   "cell_type": "code",
   "execution_count": null,
   "id": "45af5c06",
   "metadata": {},
   "outputs": [],
   "source": [
    "# Your code here"
   ]
  },
  {
   "cell_type": "markdown",
   "id": "763c03fd",
   "metadata": {},
   "source": [
    "## 6. Fill missing values with the mode for categorical columns."
   ]
  },
  {
   "cell_type": "code",
   "execution_count": null,
   "id": "98e7b259",
   "metadata": {},
   "outputs": [],
   "source": [
    "# Your code here"
   ]
  },
  {
   "cell_type": "markdown",
   "id": "46249eca",
   "metadata": {},
   "source": [
    "## 7. Create a new column 'GPA_Category' based on GPA scores."
   ]
  },
  {
   "cell_type": "code",
   "execution_count": null,
   "id": "a56a60cc",
   "metadata": {},
   "outputs": [],
   "source": [
    "# Your code here"
   ]
  },
  {
   "cell_type": "markdown",
   "id": "45c4e57d",
   "metadata": {},
   "source": [
    "## 8. Calculate the correlation matrix for numerical columns."
   ]
  },
  {
   "cell_type": "code",
   "execution_count": null,
   "id": "00418c08",
   "metadata": {},
   "outputs": [],
   "source": [
    "# Your code here"
   ]
  },
  {
   "cell_type": "markdown",
   "id": "6a5c6952",
   "metadata": {},
   "source": [
    "## 9. Plot a histogram for the 'GPA' column."
   ]
  },
  {
   "cell_type": "code",
   "execution_count": null,
   "id": "e98c39bd",
   "metadata": {},
   "outputs": [],
   "source": [
    "# Your code here"
   ]
  },
  {
   "cell_type": "markdown",
   "id": "338d19c9",
   "metadata": {},
   "source": [
    "## 10. Plot a bar chart for the 'Grade' column."
   ]
  },
  {
   "cell_type": "code",
   "execution_count": null,
   "id": "acb50136",
   "metadata": {},
   "outputs": [],
   "source": [
    "# Your code here"
   ]
  },
  {
   "cell_type": "markdown",
   "id": "13b71e1b",
   "metadata": {},
   "source": [
    "## 11. Plot a scatter plot between 'Math_Score' and 'Science_Score'."
   ]
  },
  {
   "cell_type": "code",
   "execution_count": null,
   "id": "97086c8b",
   "metadata": {},
   "outputs": [],
   "source": [
    "# Your code here"
   ]
  },
  {
   "cell_type": "markdown",
   "id": "51b1a132",
   "metadata": {},
   "source": [
    "## 12. Encode the 'Elective' column using one-hot encoding."
   ]
  },
  {
   "cell_type": "code",
   "execution_count": null,
   "id": "ec7f3401",
   "metadata": {},
   "outputs": [],
   "source": [
    "# Your code here"
   ]
  },
  {
   "cell_type": "markdown",
   "id": "820baa9e",
   "metadata": {},
   "source": [
    "## 13. Normalize the 'GPA' column using Min-Max scaling."
   ]
  },
  {
   "cell_type": "code",
   "execution_count": null,
   "id": "4bb87be7",
   "metadata": {},
   "outputs": [],
   "source": [
    "# Your code here"
   ]
  },
  {
   "cell_type": "markdown",
   "id": "d2ae7e2e",
   "metadata": {},
   "source": [
    "## 14. Standardize the 'Attendance_Percentage' column."
   ]
  },
  {
   "cell_type": "code",
   "execution_count": null,
   "id": "7e9739e9",
   "metadata": {},
   "outputs": [],
   "source": [
    "# Your code here"
   ]
  },
  {
   "cell_type": "markdown",
   "id": "a446d267",
   "metadata": {},
   "source": [
    "## 15. Create a pivot table showing the average 'Math_Score' for each 'Grade'."
   ]
  },
  {
   "cell_type": "code",
   "execution_count": null,
   "id": "e2154be3",
   "metadata": {},
   "outputs": [],
   "source": [
    "# Your code here"
   ]
  },
  {
   "cell_type": "markdown",
   "id": "d3248c30",
   "metadata": {},
   "source": [
    "## 16. Group the data by 'Extra_Curricular' and calculate the mean 'GPA'."
   ]
  },
  {
   "cell_type": "code",
   "execution_count": null,
   "id": "b0b1356e",
   "metadata": {},
   "outputs": [],
   "source": [
    "# Your code here"
   ]
  },
  {
   "cell_type": "markdown",
   "id": "3a9cd66a",
   "metadata": {},
   "source": [
    "## 17. Filter the dataset for students with 'GPA' greater than 3.0."
   ]
  },
  {
   "cell_type": "code",
   "execution_count": null,
   "id": "33a065f7",
   "metadata": {},
   "outputs": [],
   "source": [
    "# Your code here"
   ]
  },
  {
   "cell_type": "markdown",
   "id": "81341b6d",
   "metadata": {},
   "source": [
    "## 18. Sort the dataset by 'Attendance_Percentage' in descending order."
   ]
  },
  {
   "cell_type": "code",
   "execution_count": null,
   "id": "60b04015",
   "metadata": {},
   "outputs": [],
   "source": [
    "# Your code here"
   ]
  },
  {
   "cell_type": "markdown",
   "id": "3127ec7a",
   "metadata": {},
   "source": [
    "## 19. Create a new column 'Total_Score' by summing 'Math_Score', 'Science_Score', 'English_Score', and 'History_Score'."
   ]
  },
  {
   "cell_type": "code",
   "execution_count": null,
   "id": "efdf2d30",
   "metadata": {},
   "outputs": [],
   "source": [
    "# Your code here"
   ]
  },
  {
   "cell_type": "markdown",
   "id": "f7575626",
   "metadata": {},
   "source": [
    "## 20. Replace all instances of 'Not Graduated' in the 'Graduation_Status' column with 'Pending'."
   ]
  },
  {
   "cell_type": "code",
   "execution_count": null,
   "id": "200f88b0",
   "metadata": {},
   "outputs": [],
   "source": [
    "# Your code here"
   ]
  },
  {
   "cell_type": "markdown",
   "id": "12b326f9",
   "metadata": {},
   "source": [
    "## 21. Rename the column 'Attendance_Percentage' to 'Attendance'."
   ]
  },
  {
   "cell_type": "code",
   "execution_count": null,
   "id": "ca3f3587",
   "metadata": {},
   "outputs": [],
   "source": [
    "# Your code here"
   ]
  },
  {
   "cell_type": "markdown",
   "id": "285a02ae",
   "metadata": {},
   "source": [
    "## 22. Drop the 'Extra_Curricular' column from the dataset."
   ]
  },
  {
   "cell_type": "code",
   "execution_count": null,
   "id": "9fdfbde3",
   "metadata": {},
   "outputs": [],
   "source": [
    "# Your code here"
   ]
  },
  {
   "cell_type": "markdown",
   "id": "814a9cda",
   "metadata": {},
   "source": [
    "## 23. Check for duplicate rows in the dataset."
   ]
  },
  {
   "cell_type": "code",
   "execution_count": null,
   "id": "13007d65",
   "metadata": {},
   "outputs": [],
   "source": [
    "# Your code here"
   ]
  },
  {
   "cell_type": "markdown",
   "id": "175d2a45",
   "metadata": {},
   "source": [
    "## 24. Drop any duplicate rows found."
   ]
  },
  {
   "cell_type": "code",
   "execution_count": null,
   "id": "5cb47cf2",
   "metadata": {},
   "outputs": [],
   "source": [
    "# Your code here"
   ]
  },
  {
   "cell_type": "markdown",
   "id": "8b834db8",
   "metadata": {},
   "source": [
    "## 25. Create a new DataFrame containing only 'Student_ID', 'Name', and 'GPA'."
   ]
  },
  {
   "cell_type": "code",
   "execution_count": null,
   "id": "4dbde7a4",
   "metadata": {},
   "outputs": [],
   "source": [
    "# Your code here"
   ]
  },
  {
   "cell_type": "markdown",
   "id": "d0624516",
   "metadata": {},
   "source": [
    "## 26. Merge the new DataFrame with the original dataset on 'Student_ID'."
   ]
  },
  {
   "cell_type": "code",
   "execution_count": null,
   "id": "2dc4aebe",
   "metadata": {},
   "outputs": [],
   "source": [
    "# Your code here"
   ]
  },
  {
   "cell_type": "markdown",
   "id": "27fbdf29",
   "metadata": {},
   "source": [
    "## 27. Create a cross-tabulation of 'Grade' and 'Elective'."
   ]
  },
  {
   "cell_type": "code",
   "execution_count": null,
   "id": "77fc6bc9",
   "metadata": {},
   "outputs": [],
   "source": [
    "# Your code here"
   ]
  },
  {
   "cell_type": "markdown",
   "id": "ddb210f3",
   "metadata": {},
   "source": [
    "## 28. Create a pivot table showing the count of students by 'Grade' and 'Graduation_Status'."
   ]
  },
  {
   "cell_type": "code",
   "execution_count": null,
   "id": "ae775124",
   "metadata": {},
   "outputs": [],
   "source": [
    "# Your code here"
   ]
  },
  {
   "cell_type": "markdown",
   "id": "02676dc6",
   "metadata": {},
   "source": [
    "## 29. Replace missing values in 'GPA' with the median."
   ]
  },
  {
   "cell_type": "code",
   "execution_count": null,
   "id": "efa637cf",
   "metadata": {},
   "outputs": [],
   "source": [
    "# Your code here"
   ]
  },
  {
   "cell_type": "markdown",
   "id": "2b1e98a7",
   "metadata": {},
   "source": [
    "## 30. Calculate the Z-score for the 'Math_Score' column."
   ]
  },
  {
   "cell_type": "code",
   "execution_count": null,
   "id": "d23f64d1",
   "metadata": {},
   "outputs": [],
   "source": [
    "# Your code here"
   ]
  },
  {
   "cell_type": "markdown",
   "id": "0dce67a0",
   "metadata": {},
   "source": [
    "## 31. Filter out outliers in the 'Math_Score' column based on Z-score."
   ]
  },
  {
   "cell_type": "code",
   "execution_count": null,
   "id": "ab3c9ffe",
   "metadata": {},
   "outputs": [],
   "source": [
    "# Your code here"
   ]
  },
  {
   "cell_type": "markdown",
   "id": "e49ce58d",
   "metadata": {},
   "source": [
    "## 32. Apply a lambda function to the 'GPA' column to categorize into 'Low', 'Medium', 'High'."
   ]
  },
  {
   "cell_type": "code",
   "execution_count": null,
   "id": "2fb247fd",
   "metadata": {},
   "outputs": [],
   "source": [
    "# Your code here"
   ]
  },
  {
   "cell_type": "markdown",
   "id": "ade9cf0f",
   "metadata": {},
   "source": [
    "## 33. Create a new column 'Total_Score_Percentage' as 'Total_Score' divided by 400 and multiplied by 100."
   ]
  },
  {
   "cell_type": "code",
   "execution_count": null,
   "id": "219fdd38",
   "metadata": {},
   "outputs": [],
   "source": [
    "# Your code here"
   ]
  },
  {
   "cell_type": "markdown",
   "id": "edb8c486",
   "metadata": {},
   "source": [
    "## 34. Extract the first letter of each student's name and create a new column 'Name_Initial'."
   ]
  },
  {
   "cell_type": "code",
   "execution_count": null,
   "id": "d9205bd2",
   "metadata": {},
   "outputs": [],
   "source": [
    "# Your code here"
   ]
  },
  {
   "cell_type": "markdown",
   "id": "e26a5036",
   "metadata": {},
   "source": [
    "## 35. Convert the 'Grade' column to a categorical data type."
   ]
  },
  {
   "cell_type": "code",
   "execution_count": null,
   "id": "dabb62dc",
   "metadata": {},
   "outputs": [],
   "source": [
    "# Your code here"
   ]
  },
  {
   "cell_type": "markdown",
   "id": "1e98e4ed",
   "metadata": {},
   "source": [
    "## 36. Create a box plot for 'GPA' across different 'Grade'."
   ]
  },
  {
   "cell_type": "code",
   "execution_count": null,
   "id": "a026bdac",
   "metadata": {},
   "outputs": [],
   "source": [
    "# Your code here"
   ]
  },
  {
   "cell_type": "markdown",
   "id": "bc0cfd4a",
   "metadata": {},
   "source": [
    "## 37. Create a line plot showing the trend of 'Math_Score' over 'Attendance_Percentage'."
   ]
  },
  {
   "cell_type": "code",
   "execution_count": null,
   "id": "a3de8fb0",
   "metadata": {},
   "outputs": [],
   "source": [
    "# Your code here"
   ]
  },
  {
   "cell_type": "markdown",
   "id": "7fa6ce3d",
   "metadata": {},
   "source": [
    "## 38. Create a heatmap for the correlation matrix."
   ]
  },
  {
   "cell_type": "code",
   "execution_count": null,
   "id": "a25a0ea2",
   "metadata": {},
   "outputs": [],
   "source": [
    "# Your code here"
   ]
  },
  {
   "cell_type": "markdown",
   "id": "3aca258e",
   "metadata": {},
   "source": [
    "## 39. Filter the dataset to include only students with 'Graduation_Status' as 'Graduated'."
   ]
  },
  {
   "cell_type": "code",
   "execution_count": null,
   "id": "6a73ad00",
   "metadata": {},
   "outputs": [],
   "source": [
    "# Your code here"
   ]
  },
  {
   "cell_type": "markdown",
   "id": "592a9b81",
   "metadata": {},
   "source": [
    "## 40. Replace outliers in 'Total_Score' with the median value."
   ]
  },
  {
   "cell_type": "code",
   "execution_count": null,
   "id": "41b0bc25",
   "metadata": {},
   "outputs": [],
   "source": [
    "# Your code here"
   ]
  },
  {
   "cell_type": "markdown",
   "id": "df31d494",
   "metadata": {},
   "source": [
    "## 41. Calculate the percentage of missing values in each column."
   ]
  },
  {
   "cell_type": "code",
   "execution_count": null,
   "id": "6b8c2c2d",
   "metadata": {},
   "outputs": [],
   "source": [
    "# Your code here"
   ]
  },
  {
   "cell_type": "markdown",
   "id": "8c74fc3f",
   "metadata": {},
   "source": [
    "## 42. Reorder the columns so that 'Student_ID' is the first column."
   ]
  },
  {
   "cell_type": "code",
   "execution_count": null,
   "id": "d81e8fa1",
   "metadata": {},
   "outputs": [],
   "source": [
    "# Your code here"
   ]
  },
  {
   "cell_type": "markdown",
   "id": "c3ec0e1d",
   "metadata": {},
   "source": [
    "## 43. Create a column 'High_Achiever' which is True if 'GPA' > 3.5, else False."
   ]
  },
  {
   "cell_type": "code",
   "execution_count": null,
   "id": "9fa45e09",
   "metadata": {},
   "outputs": [],
   "source": [
    "# Your code here"
   ]
  },
  {
   "cell_type": "markdown",
   "id": "5130a631",
   "metadata": {},
   "source": [
    "## 44. Split the dataset into training (80%) and testing (20%) sets based on 'Student_ID'."
   ]
  },
  {
   "cell_type": "code",
   "execution_count": null,
   "id": "3d6c5cb8",
   "metadata": {},
   "outputs": [],
   "source": [
    "# Your code here"
   ]
  },
  {
   "cell_type": "markdown",
   "id": "7fa2b763",
   "metadata": {},
   "source": [
    "## 45. Create a pipeline to preprocess the 'GPA' and 'Math_Score' columns."
   ]
  },
  {
   "cell_type": "code",
   "execution_count": null,
   "id": "ccd70f8d",
   "metadata": {},
   "outputs": [],
   "source": [
    "# Your code here"
   ]
  },
  {
   "cell_type": "markdown",
   "id": "c487d2f1",
   "metadata": {},
   "source": [
    "## 46. Export the cleaned dataset to a new CSV file."
   ]
  },
  {
   "cell_type": "code",
   "execution_count": null,
   "id": "ce50ef89",
   "metadata": {},
   "outputs": [],
   "source": [
    "# Your code here"
   ]
  },
  {
   "cell_type": "markdown",
   "id": "0a9ff36d",
   "metadata": {},
   "source": [
    "## 47. Save the dataset in Excel format with multiple sheets based on 'Grade'."
   ]
  },
  {
   "cell_type": "code",
   "execution_count": null,
   "id": "446590ea",
   "metadata": {},
   "outputs": [],
   "source": [
    "# Your code here"
   ]
  },
  {
   "cell_type": "markdown",
   "id": "bd5bf3bc",
   "metadata": {},
   "source": [
    "## 48. Create a summary report of the dataset including key statistics and visualizations."
   ]
  },
  {
   "cell_type": "code",
   "execution_count": null,
   "id": "3d0c220c",
   "metadata": {},
   "outputs": [],
   "source": [
    "# Your code here"
   ]
  },
  {
   "cell_type": "markdown",
   "id": "a7a6faeb",
   "metadata": {},
   "source": [
    "## 49. Write a function to automate the data cleaning process for this dataset."
   ]
  },
  {
   "cell_type": "code",
   "execution_count": null,
   "id": "a96fabac",
   "metadata": {},
   "outputs": [],
   "source": [
    "# Your code here"
   ]
  },
  {
   "cell_type": "markdown",
   "id": "a7c66703",
   "metadata": {},
   "source": [
    "## 50. Create a new column 'Success_Predictor' using a simple linear model on 'Total_Score'."
   ]
  },
  {
   "cell_type": "code",
   "execution_count": null,
   "id": "42011b81",
   "metadata": {},
   "outputs": [],
   "source": [
    "# Your code here"
   ]
  }
 ],
 "metadata": {},
 "nbformat": 4,
 "nbformat_minor": 5
}
