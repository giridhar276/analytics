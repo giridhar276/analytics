{
 "cells": [
  {
   "cell_type": "markdown",
   "id": "8a88dc10",
   "metadata": {},
   "source": [
    "## 1. Load the dataset and display the first 5 rows."
   ]
  },
  {
   "cell_type": "code",
   "execution_count": null,
   "id": "a55b9e2d",
   "metadata": {},
   "outputs": [],
   "source": [
    "import pandas as pd\n",
    "\n",
    "# Load the dataset\n",
    "df = pd.read_csv('training_dataset_unique_ids.csv')\n",
    "df.head()"
   ]
  },
  {
   "cell_type": "markdown",
   "id": "2a780715",
   "metadata": {},
   "source": [
    "## 2. Display the summary statistics of the dataset."
   ]
  },
  {
   "cell_type": "code",
   "execution_count": null,
   "id": "90399248",
   "metadata": {},
   "outputs": [],
   "source": [
    "df.describe()"
   ]
  },
  {
   "cell_type": "markdown",
   "id": "b0f77d0e",
   "metadata": {},
   "source": [
    "## 3. Check for missing values in the dataset."
   ]
  },
  {
   "cell_type": "code",
   "execution_count": null,
   "id": "3acd4e58",
   "metadata": {},
   "outputs": [],
   "source": [
    "df.isnull().sum()"
   ]
  },
  {
   "cell_type": "markdown",
   "id": "85734b91",
   "metadata": {},
   "source": [
    "## 4. Drop rows with any missing values."
   ]
  },
  {
   "cell_type": "code",
   "execution_count": null,
   "id": "5e6a724b",
   "metadata": {},
   "outputs": [],
   "source": [
    "df.dropna(inplace=True)\n",
    "df.head()"
   ]
  },
  {
   "cell_type": "markdown",
   "id": "ff890ef9",
   "metadata": {},
   "source": [
    "## 5. Fill missing values with the mean for numerical columns."
   ]
  },
  {
   "cell_type": "code",
   "execution_count": null,
   "id": "0559c0da",
   "metadata": {},
   "outputs": [],
   "source": [
    "df.fillna(df.mean(), inplace=True)\n",
    "df.head()"
   ]
  },
  {
   "cell_type": "markdown",
   "id": "84605de6",
   "metadata": {},
   "source": [
    "## 6. Fill missing values with the mode for categorical columns."
   ]
  },
  {
   "cell_type": "code",
   "execution_count": null,
   "id": "792cee91",
   "metadata": {},
   "outputs": [],
   "source": [
    "df.fillna(df.mode().iloc[0], inplace=True)\n",
    "df.head()"
   ]
  },
  {
   "cell_type": "markdown",
   "id": "4b91772c",
   "metadata": {},
   "source": [
    "## 7. Create a new column 'Age_Group' based on 'Age' using bins."
   ]
  },
  {
   "cell_type": "code",
   "execution_count": null,
   "id": "8fbd3223",
   "metadata": {},
   "outputs": [],
   "source": [
    "bins = [0, 18, 35, 50, 65, 80]\n",
    "labels = ['Child', 'Young_Adult', 'Adult', 'Senior_Adult', 'Elder']\n",
    "df['Age_Group'] = pd.cut(df['Age'], bins=bins, labels=labels)\n",
    "df.head()"
   ]
  },
  {
   "cell_type": "markdown",
   "id": "59b1be85",
   "metadata": {},
   "source": [
    "## 8. Calculate the correlation matrix for numerical columns."
   ]
  },
  {
   "cell_type": "code",
   "execution_count": null,
   "id": "de371637",
   "metadata": {},
   "outputs": [],
   "source": [
    "df.corr()"
   ]
  },
  {
   "cell_type": "markdown",
   "id": "56c562b2",
   "metadata": {},
   "source": [
    "## 9. Plot a histogram for the 'Annual_Income' column."
   ]
  },
  {
   "cell_type": "code",
   "execution_count": null,
   "id": "180fe74c",
   "metadata": {},
   "outputs": [],
   "source": [
    "df['Annual_Income'].hist(bins=20)"
   ]
  },
  {
   "cell_type": "markdown",
   "id": "2c8d7137",
   "metadata": {},
   "source": [
    "## 10. Plot a bar chart for the 'Product_Category' column."
   ]
  },
  {
   "cell_type": "code",
   "execution_count": null,
   "id": "395278f1",
   "metadata": {},
   "outputs": [],
   "source": [
    "df['Product_Category'].value_counts().plot(kind='bar')"
   ]
  },
  {
   "cell_type": "markdown",
   "id": "319092bf",
   "metadata": {},
   "source": [
    "## 11. Plot a scatter plot between 'Annual_Income' and 'Spending_Score'."
   ]
  },
  {
   "cell_type": "code",
   "execution_count": null,
   "id": "088e8f51",
   "metadata": {},
   "outputs": [],
   "source": [
    "df.plot.scatter(x='Annual_Income', y='Spending_Score')"
   ]
  },
  {
   "cell_type": "markdown",
   "id": "36b79b05",
   "metadata": {},
   "source": [
    "## 12. Encode the 'Gender' column using label encoding."
   ]
  },
  {
   "cell_type": "code",
   "execution_count": null,
   "id": "ecfa5a24",
   "metadata": {},
   "outputs": [],
   "source": [
    "from sklearn.preprocessing import LabelEncoder\n",
    "le = LabelEncoder()\n",
    "df['Gender'] = le.fit_transform(df['Gender'])\n",
    "df.head()"
   ]
  },
  {
   "cell_type": "markdown",
   "id": "b6b15d43",
   "metadata": {},
   "source": [
    "## 13. Encode the 'Product_Category' column using one-hot encoding."
   ]
  },
  {
   "cell_type": "code",
   "execution_count": null,
   "id": "36fa7f7c",
   "metadata": {},
   "outputs": [],
   "source": [
    "df = pd.get_dummies(df, columns=['Product_Category'])\n",
    "df.head()"
   ]
  },
  {
   "cell_type": "markdown",
   "id": "30b4baba",
   "metadata": {},
   "source": [
    "## 14. Normalize the 'Annual_Income' column using Min-Max scaling."
   ]
  },
  {
   "cell_type": "code",
   "execution_count": null,
   "id": "ae644170",
   "metadata": {},
   "outputs": [],
   "source": [
    "from sklearn.preprocessing import MinMaxScaler\n",
    "scaler = MinMaxScaler()\n",
    "df['Annual_Income'] = scaler.fit_transform(df[['Annual_Income']])\n",
    "df.head()"
   ]
  },
  {
   "cell_type": "markdown",
   "id": "acedff13",
   "metadata": {},
   "source": [
    "## 15. Standardize the 'Spending_Score' column."
   ]
  },
  {
   "cell_type": "code",
   "execution_count": null,
   "id": "1ccc8dcc",
   "metadata": {},
   "outputs": [],
   "source": [
    "from sklearn.preprocessing import StandardScaler\n",
    "scaler = StandardScaler()\n",
    "df['Spending_Score'] = scaler.fit_transform(df[['Spending_Score']])\n",
    "df.head()"
   ]
  },
  {
   "cell_type": "markdown",
   "id": "4399962d",
   "metadata": {},
   "source": [
    "## 16. Create a pivot table showing the average 'Purchase_Amount' for each 'City'."
   ]
  },
  {
   "cell_type": "code",
   "execution_count": null,
   "id": "0621edec",
   "metadata": {},
   "outputs": [],
   "source": [
    "df.pivot_table(values='Purchase_Amount', index='City', aggfunc='mean')"
   ]
  },
  {
   "cell_type": "markdown",
   "id": "e0d19967",
   "metadata": {},
   "source": [
    "## 17. Group the data by 'Loyalty_Status' and calculate the mean 'Annual_Income'."
   ]
  },
  {
   "cell_type": "code",
   "execution_count": null,
   "id": "e75425b2",
   "metadata": {},
   "outputs": [],
   "source": [
    "df.groupby('Loyalty_Status')['Annual_Income'].mean()"
   ]
  },
  {
   "cell_type": "markdown",
   "id": "bc9e8823",
   "metadata": {},
   "source": [
    "## 18. Filter the dataset for customers with 'Annual_Income' greater than 50,000."
   ]
  },
  {
   "cell_type": "code",
   "execution_count": null,
   "id": "5d7f071c",
   "metadata": {},
   "outputs": [],
   "source": [
    "df_filtered = df[df['Annual_Income'] > 50000]\n",
    "df_filtered.head()"
   ]
  },
  {
   "cell_type": "markdown",
   "id": "9cc77480",
   "metadata": {},
   "source": [
    "## 19. Sort the dataset by 'Spending_Score' in descending order."
   ]
  },
  {
   "cell_type": "code",
   "execution_count": null,
   "id": "5be7a12c",
   "metadata": {},
   "outputs": [],
   "source": [
    "df.sort_values(by='Spending_Score', ascending=False).head()"
   ]
  },
  {
   "cell_type": "markdown",
   "id": "086584cf",
   "metadata": {},
   "source": [
    "## 20. Create a new column 'Income_per_Year' by dividing 'Annual_Income' by 'Membership_Years'."
   ]
  },
  {
   "cell_type": "code",
   "execution_count": null,
   "id": "7d59247b",
   "metadata": {},
   "outputs": [],
   "source": [
    "df['Income_per_Year'] = df['Annual_Income'] / df['Membership_Years']\n",
    "df.head()"
   ]
  },
  {
   "cell_type": "markdown",
   "id": "ae9aecf8",
   "metadata": {},
   "source": [
    "## 21. Replace all instances of 'Cash' in the 'Payment_Method' column with 'Other'."
   ]
  },
  {
   "cell_type": "code",
   "execution_count": null,
   "id": "43372d72",
   "metadata": {},
   "outputs": [],
   "source": [
    "df['Payment_Method'].replace('Cash', 'Other', inplace=True)\n",
    "df.head()"
   ]
  },
  {
   "cell_type": "markdown",
   "id": "3d5622fd",
   "metadata": {},
   "source": [
    "## 22. Rename the column 'Annual_Income' to 'Income'."
   ]
  },
  {
   "cell_type": "code",
   "execution_count": null,
   "id": "7280014d",
   "metadata": {},
   "outputs": [],
   "source": [
    "df.rename(columns={'Annual_Income': 'Income'}, inplace=True)\n",
    "df.head()"
   ]
  },
  {
   "cell_type": "markdown",
   "id": "6fd60507",
   "metadata": {},
   "source": [
    "## 23. Drop the 'Complaint_Count' column from the dataset."
   ]
  },
  {
   "cell_type": "code",
   "execution_count": null,
   "id": "80b72b0e",
   "metadata": {},
   "outputs": [],
   "source": [
    "df.drop(columns=['Complaint_Count'], inplace=True)\n",
    "df.head()"
   ]
  },
  {
   "cell_type": "markdown",
   "id": "cd4fc72e",
   "metadata": {},
   "source": [
    "## 24. Check for duplicate rows in the dataset."
   ]
  },
  {
   "cell_type": "code",
   "execution_count": null,
   "id": "c8a0af81",
   "metadata": {},
   "outputs": [],
   "source": [
    "df.duplicated().sum()"
   ]
  },
  {
   "cell_type": "markdown",
   "id": "7a0f74c9",
   "metadata": {},
   "source": [
    "## 25. Drop any duplicate rows found."
   ]
  },
  {
   "cell_type": "code",
   "execution_count": null,
   "id": "877a4946",
   "metadata": {},
   "outputs": [],
   "source": [
    "df.drop_duplicates(inplace=True)\n",
    "df.head()"
   ]
  },
  {
   "cell_type": "markdown",
   "id": "5116981c",
   "metadata": {},
   "source": [
    "## 26. Create a new DataFrame containing only 'Customer_ID', 'Age', and 'City'."
   ]
  },
  {
   "cell_type": "code",
   "execution_count": null,
   "id": "16ee6ac7",
   "metadata": {},
   "outputs": [],
   "source": [
    "df_subset = df[['Customer_ID', 'Age', 'City']]\n",
    "df_subset.head()"
   ]
  },
  {
   "cell_type": "markdown",
   "id": "a671bad5",
   "metadata": {},
   "source": [
    "## 27. Merge the new DataFrame with the original dataset on 'Customer_ID'."
   ]
  },
  {
   "cell_type": "code",
   "execution_count": null,
   "id": "284b11b5",
   "metadata": {},
   "outputs": [],
   "source": [
    "df_merged = pd.merge(df_subset, df, on='Customer_ID')\n",
    "df_merged.head()"
   ]
  },
  {
   "cell_type": "markdown",
   "id": "85f1d444",
   "metadata": {},
   "source": [
    "## 28. Create a cross-tabulation of 'Gender' and 'Loyalty_Status'."
   ]
  },
  {
   "cell_type": "code",
   "execution_count": null,
   "id": "7f2d9b2a",
   "metadata": {},
   "outputs": [],
   "source": [
    "pd.crosstab(df['Gender'], df['Loyalty_Status'])"
   ]
  },
  {
   "cell_type": "markdown",
   "id": "b74e1ad6",
   "metadata": {},
   "source": [
    "## 29. Create a pivot table showing the count of customers by 'City' and 'Product_Category_Clothing'."
   ]
  },
  {
   "cell_type": "code",
   "execution_count": null,
   "id": "f8ebd006",
   "metadata": {},
   "outputs": [],
   "source": [
    "df.pivot_table(index='City', columns='Product_Category_Clothing', aggfunc='size', fill_value=0)"
   ]
  },
  {
   "cell_type": "markdown",
   "id": "b9290180",
   "metadata": {},
   "source": [
    "## 30. Replace missing values in 'Spending_Score' with the median."
   ]
  },
  {
   "cell_type": "code",
   "execution_count": null,
   "id": "e1ce963f",
   "metadata": {},
   "outputs": [],
   "source": [
    "df['Spending_Score'].fillna(df['Spending_Score'].median(), inplace=True)\n",
    "df.head()"
   ]
  },
  {
   "cell_type": "markdown",
   "id": "5cb5f6f9",
   "metadata": {},
   "source": [
    "## 31. Calculate the Z-score for the 'Income' column."
   ]
  },
  {
   "cell_type": "code",
   "execution_count": null,
   "id": "80b13ad5",
   "metadata": {},
   "outputs": [],
   "source": [
    "from scipy.stats import zscore\n",
    "df['Income_Zscore'] = zscore(df['Income'])\n",
    "df.head()"
   ]
  },
  {
   "cell_type": "markdown",
   "id": "21722705",
   "metadata": {},
   "source": [
    "## 32. Filter out outliers in the 'Income' column based on Z-score."
   ]
  },
  {
   "cell_type": "code",
   "execution_count": null,
   "id": "2c4c5c65",
   "metadata": {},
   "outputs": [],
   "source": [
    "df_no_outliers = df[(df['Income_Zscore'] > -3) & (df['Income_Zscore'] < 3)]\n",
    "df_no_outliers.head()"
   ]
  },
  {
   "cell_type": "markdown",
   "id": "7b51e3ea",
   "metadata": {},
   "source": [
    "## 33. Apply a lambda function to the 'Age' column to categorize into 'Young', 'Adult', 'Senior'."
   ]
  },
  {
   "cell_type": "code",
   "execution_count": null,
   "id": "5d38c521",
   "metadata": {},
   "outputs": [],
   "source": [
    "df['Age_Category'] = df['Age'].apply(lambda x: 'Young' if x < 30 else 'Adult' if x < 60 else 'Senior')\n",
    "df.head()"
   ]
  },
  {
   "cell_type": "markdown",
   "id": "ca452f2f",
   "metadata": {},
   "source": [
    "## 34. Create a new column 'Total_Spent' as 'Purchase_Amount' multiplied by 'Membership_Years'."
   ]
  },
  {
   "cell_type": "code",
   "execution_count": null,
   "id": "5ce53c29",
   "metadata": {},
   "outputs": [],
   "source": [
    "df['Total_Spent'] = df['Purchase_Amount'] * df['Membership_Years']\n",
    "df.head()"
   ]
  },
  {
   "cell_type": "markdown",
   "id": "aedcdbc8",
   "metadata": {},
   "source": [
    "## 36. Convert the 'Payment_Method' column to a categorical data type."
   ]
  },
  {
   "cell_type": "code",
   "execution_count": null,
   "id": "8331af8e",
   "metadata": {},
   "outputs": [],
   "source": [
    "df['Payment_Method'] = df['Payment_Method'].astype('category')\n",
    "df.dtypes"
   ]
  },
  {
   "cell_type": "markdown",
   "id": "b6ac0249",
   "metadata": {},
   "source": [
    "## 37. Create a box plot for 'Purchase_Amount' across different 'Product_Category_Electronics'."
   ]
  },
  {
   "cell_type": "code",
   "execution_count": null,
   "id": "21420cef",
   "metadata": {},
   "outputs": [],
   "source": [
    "df.boxplot(column='Purchase_Amount', by='Product_Category_Electronics')"
   ]
  },
  {
   "cell_type": "markdown",
   "id": "f837786a",
   "metadata": {},
   "source": [
    "## 38. Create a line plot showing the trend of 'Spending_Score' over 'Membership_Years'."
   ]
  },
  {
   "cell_type": "code",
   "execution_count": null,
   "id": "e336a89d",
   "metadata": {},
   "outputs": [],
   "source": [
    "df.groupby('Membership_Years')['Spending_Score'].mean().plot()"
   ]
  },
  {
   "cell_type": "markdown",
   "id": "bb047cf5",
   "metadata": {},
   "source": [
    "## 39. Create a heatmap for the correlation matrix."
   ]
  },
  {
   "cell_type": "code",
   "execution_count": null,
   "id": "891dbddd",
   "metadata": {},
   "outputs": [],
   "source": [
    "import seaborn as sns\n",
    "sns.heatmap(df.corr(), annot=True)"
   ]
  },
  {
   "cell_type": "markdown",
   "id": "2a84da21",
   "metadata": {},
   "source": [
    "## 40. Filter the dataset to include only customers from 'New York'."
   ]
  },
  {
   "cell_type": "code",
   "execution_count": null,
   "id": "f7d7a010",
   "metadata": {},
   "outputs": [],
   "source": [
    "df_ny = df[df['City'] == 'New York']\n",
    "df_ny.head()"
   ]
  },
  {
   "cell_type": "markdown",
   "id": "c8c69329",
   "metadata": {},
   "source": [
    "## 41. Replace outliers in 'Purchase_Amount' with the median value."
   ]
  },
  {
   "cell_type": "code",
   "execution_count": null,
   "id": "435b32dc",
   "metadata": {},
   "outputs": [],
   "source": [
    "median_value = df['Purchase_Amount'].median()\n",
    "df.loc[df['Purchase_Amount'] > df['Purchase_Amount'].quantile(0.99), 'Purchase_Amount'] = median_value\n",
    "df.head()"
   ]
  },
  {
   "cell_type": "markdown",
   "id": "fe488bbe",
   "metadata": {},
   "source": [
    "## 42. Calculate the percentage of missing values in each column."
   ]
  },
  {
   "cell_type": "code",
   "execution_count": null,
   "id": "4b1760ca",
   "metadata": {},
   "outputs": [],
   "source": [
    "missing_percent = df.isnull().mean() * 100\n",
    "missing_percent"
   ]
  },
  {
   "cell_type": "markdown",
   "id": "e45b2b34",
   "metadata": {},
   "source": [
    "## 43. Reorder the columns so that 'Customer_ID' is the first column."
   ]
  },
  {
   "cell_type": "code",
   "execution_count": null,
   "id": "42a2e0f5",
   "metadata": {},
   "outputs": [],
   "source": [
    "df = df[['Customer_ID'] + [col for col in df.columns if col != 'Customer_ID']]\n",
    "df.head()"
   ]
  },
  {
   "cell_type": "markdown",
   "id": "d8cb63e2",
   "metadata": {},
   "source": [
    "## 44. Create a column 'High_Spender' which is True if 'Purchase_Amount' > 1500, else False."
   ]
  },
  {
   "cell_type": "code",
   "execution_count": null,
   "id": "c04dc848",
   "metadata": {},
   "outputs": [],
   "source": [
    "df['High_Spender'] = df['Purchase_Amount'] > 1500\n",
    "df.head()"
   ]
  },
  {
   "cell_type": "markdown",
   "id": "932a3532",
   "metadata": {},
   "source": [
    "## 45. Split the dataset into training (80%) and testing (20%) sets based on 'Customer_ID'."
   ]
  },
  {
   "cell_type": "code",
   "execution_count": null,
   "id": "45eb7f55",
   "metadata": {},
   "outputs": [],
   "source": [
    "from sklearn.model_selection import train_test_split\n",
    "train, test = train_test_split(df, test_size=0.2, random_state=42)\n",
    "train.shape, test.shape"
   ]
  },
  {
   "cell_type": "markdown",
   "id": "c9bba3f1",
   "metadata": {},
   "source": [
    "## 46. Create a pipeline to preprocess the 'Income' and 'Spending_Score' columns."
   ]
  },
  {
   "cell_type": "code",
   "execution_count": null,
   "id": "63e5dfcb",
   "metadata": {},
   "outputs": [],
   "source": [
    "from sklearn.pipeline import Pipeline\n",
    "from sklearn.preprocessing import StandardScaler\n",
    "\n",
    "pipeline = Pipeline([\n",
    "    ('scaler', StandardScaler())\n",
    "])\n",
    "df[['Income', 'Spending_Score']] = pipeline.fit_transform(df[['Income', 'Spending_Score']])\n",
    "df.head()"
   ]
  },
  {
   "cell_type": "markdown",
   "id": "e9cb0df2",
   "metadata": {},
   "source": [
    "## 47. Export the cleaned dataset to a new CSV file."
   ]
  },
  {
   "cell_type": "code",
   "execution_count": null,
   "id": "824d6a8c",
   "metadata": {},
   "outputs": [],
   "source": [
    "df.to_csv('cleaned_dataset.csv', index=False)"
   ]
  },
  {
   "cell_type": "markdown",
   "id": "1772ea72",
   "metadata": {},
   "source": [
    "## 48. Save the dataset in Excel format with multiple sheets based on 'City'."
   ]
  },
  {
   "cell_type": "code",
   "execution_count": null,
   "id": "e60e940b",
   "metadata": {},
   "outputs": [],
   "source": [
    "with pd.ExcelWriter('dataset_by_city.xlsx') as writer:\n",
    "    for city in df['City'].unique():\n",
    "        df[df['City'] == city].to_excel(writer, sheet_name=city, index=False)"
   ]
  },
  {
   "cell_type": "markdown",
   "id": "f1a7aa24",
   "metadata": {},
   "source": [
    "## 49. Create a summary report of the dataset including key statistics and visualizations."
   ]
  },
  {
   "cell_type": "code",
   "execution_count": null,
   "id": "b68db1fc",
   "metadata": {},
   "outputs": [],
   "source": [
    "df.describe(include='all')"
   ]
  },
  {
   "cell_type": "markdown",
   "id": "a2a7d725",
   "metadata": {},
   "source": [
    "## 50. Write a function to automate the data cleaning process for this dataset."
   ]
  },
  {
   "cell_type": "code",
   "execution_count": null,
   "id": "06c570d5",
   "metadata": {},
   "outputs": [],
   "source": [
    "def clean_data(df):\n",
    "    df.dropna(inplace=True)\n",
    "    df.drop_duplicates(inplace=True)\n",
    "    df.fillna(df.mean(), inplace=True)\n",
    "    return df\n",
    "\n",
    "cleaned_df = clean_data(df.copy())\n",
    "cleaned_df.head()"
   ]
  }
 ],
 "metadata": {
  "kernelspec": {
   "display_name": "Python 3",
   "language": "python",
   "name": "python3"
  },
  "language_info": {
   "codemirror_mode": {
    "name": "ipython",
    "version": 3
   },
   "file_extension": ".py",
   "mimetype": "text/x-python",
   "name": "python",
   "nbconvert_exporter": "python",
   "pygments_lexer": "ipython3",
   "version": "3.9.6"
  }
 },
 "nbformat": 4,
 "nbformat_minor": 5
}
