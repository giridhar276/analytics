{
 "cells": [
  {
   "cell_type": "markdown",
   "id": "3440fd81",
   "metadata": {},
   "source": [
    "## 1. Load the dataset and display the first 5 rows."
   ]
  },
  {
   "cell_type": "code",
   "execution_count": null,
   "id": "6e26bb38",
   "metadata": {},
   "outputs": [],
   "source": [
    "# Your code here"
   ]
  },
  {
   "cell_type": "markdown",
   "id": "b7065a89",
   "metadata": {},
   "source": [
    "## 2. Display the summary statistics of the dataset."
   ]
  },
  {
   "cell_type": "code",
   "execution_count": null,
   "id": "9ef9dc13",
   "metadata": {},
   "outputs": [],
   "source": [
    "# Your code here"
   ]
  },
  {
   "cell_type": "markdown",
   "id": "67ea406f",
   "metadata": {},
   "source": [
    "## 3. Check for missing values in the dataset."
   ]
  },
  {
   "cell_type": "code",
   "execution_count": null,
   "id": "61a0605c",
   "metadata": {},
   "outputs": [],
   "source": [
    "# Your code here"
   ]
  },
  {
   "cell_type": "markdown",
   "id": "57350985",
   "metadata": {},
   "source": [
    "## 4. Drop rows with any missing values."
   ]
  },
  {
   "cell_type": "code",
   "execution_count": null,
   "id": "ab8d58a8",
   "metadata": {},
   "outputs": [],
   "source": [
    "# Your code here"
   ]
  },
  {
   "cell_type": "markdown",
   "id": "50809fff",
   "metadata": {},
   "source": [
    "## 5. Fill missing values with the mean for numerical columns."
   ]
  },
  {
   "cell_type": "code",
   "execution_count": null,
   "id": "39e625dd",
   "metadata": {},
   "outputs": [],
   "source": [
    "# Your code here"
   ]
  },
  {
   "cell_type": "markdown",
   "id": "886f0974",
   "metadata": {},
   "source": [
    "## 6. Fill missing values with the mode for categorical columns."
   ]
  },
  {
   "cell_type": "code",
   "execution_count": null,
   "id": "bcb5c520",
   "metadata": {},
   "outputs": [],
   "source": [
    "# Your code here"
   ]
  },
  {
   "cell_type": "markdown",
   "id": "31929c2d",
   "metadata": {},
   "source": [
    "## 7. Create a new column 'Age_Group' based on 'Age' using bins."
   ]
  },
  {
   "cell_type": "code",
   "execution_count": null,
   "id": "83024d08",
   "metadata": {},
   "outputs": [],
   "source": [
    "# Your code here"
   ]
  },
  {
   "cell_type": "markdown",
   "id": "752ce753",
   "metadata": {},
   "source": [
    "## 8. Calculate the correlation matrix for numerical columns."
   ]
  },
  {
   "cell_type": "code",
   "execution_count": null,
   "id": "a39ec1f0",
   "metadata": {},
   "outputs": [],
   "source": [
    "# Your code here"
   ]
  },
  {
   "cell_type": "markdown",
   "id": "8dcf6766",
   "metadata": {},
   "source": [
    "## 9. Plot a histogram for the 'Annual_Income' column."
   ]
  },
  {
   "cell_type": "code",
   "execution_count": null,
   "id": "3d343a30",
   "metadata": {},
   "outputs": [],
   "source": [
    "# Your code here"
   ]
  },
  {
   "cell_type": "markdown",
   "id": "ad358b62",
   "metadata": {},
   "source": [
    "## 10. Plot a bar chart for the 'Product_Category' column."
   ]
  },
  {
   "cell_type": "code",
   "execution_count": null,
   "id": "148bc8e6",
   "metadata": {},
   "outputs": [],
   "source": [
    "# Your code here"
   ]
  },
  {
   "cell_type": "markdown",
   "id": "2bb9c071",
   "metadata": {},
   "source": [
    "## 11. Plot a scatter plot between 'Annual_Income' and 'Spending_Score'."
   ]
  },
  {
   "cell_type": "code",
   "execution_count": null,
   "id": "1d8228f6",
   "metadata": {},
   "outputs": [],
   "source": [
    "# Your code here"
   ]
  },
  {
   "cell_type": "markdown",
   "id": "d1483bcc",
   "metadata": {},
   "source": [
    "## 12. Encode the 'Gender' column using label encoding."
   ]
  },
  {
   "cell_type": "code",
   "execution_count": null,
   "id": "0099f8d4",
   "metadata": {},
   "outputs": [],
   "source": [
    "# Your code here"
   ]
  },
  {
   "cell_type": "markdown",
   "id": "046908cd",
   "metadata": {},
   "source": [
    "## 13. Encode the 'Product_Category' column using one-hot encoding."
   ]
  },
  {
   "cell_type": "code",
   "execution_count": null,
   "id": "976e7a60",
   "metadata": {},
   "outputs": [],
   "source": [
    "# Your code here"
   ]
  },
  {
   "cell_type": "markdown",
   "id": "7525fd45",
   "metadata": {},
   "source": [
    "## 14. Normalize the 'Annual_Income' column using Min-Max scaling."
   ]
  },
  {
   "cell_type": "code",
   "execution_count": null,
   "id": "c5d57c49",
   "metadata": {},
   "outputs": [],
   "source": [
    "# Your code here"
   ]
  },
  {
   "cell_type": "markdown",
   "id": "f670be0c",
   "metadata": {},
   "source": [
    "## 15. Standardize the 'Spending_Score' column."
   ]
  },
  {
   "cell_type": "code",
   "execution_count": null,
   "id": "a3ce44fa",
   "metadata": {},
   "outputs": [],
   "source": [
    "# Your code here"
   ]
  },
  {
   "cell_type": "markdown",
   "id": "d1f15b2d",
   "metadata": {},
   "source": [
    "## 16. Create a pivot table showing the average 'Purchase_Amount' for each 'City'."
   ]
  },
  {
   "cell_type": "code",
   "execution_count": null,
   "id": "8f4001b2",
   "metadata": {},
   "outputs": [],
   "source": [
    "# Your code here"
   ]
  },
  {
   "cell_type": "markdown",
   "id": "aa17ba5c",
   "metadata": {},
   "source": [
    "## 17. Group the data by 'Loyalty_Status' and calculate the mean 'Annual_Income'."
   ]
  },
  {
   "cell_type": "code",
   "execution_count": null,
   "id": "eec0e519",
   "metadata": {},
   "outputs": [],
   "source": [
    "# Your code here"
   ]
  },
  {
   "cell_type": "markdown",
   "id": "37e3d1c7",
   "metadata": {},
   "source": [
    "## 18. Filter the dataset for customers with 'Annual_Income' greater than 50,000."
   ]
  },
  {
   "cell_type": "code",
   "execution_count": null,
   "id": "0374bd0e",
   "metadata": {},
   "outputs": [],
   "source": [
    "# Your code here"
   ]
  },
  {
   "cell_type": "markdown",
   "id": "e075737a",
   "metadata": {},
   "source": [
    "## 19. Sort the dataset by 'Spending_Score' in descending order."
   ]
  },
  {
   "cell_type": "code",
   "execution_count": null,
   "id": "46d46e1e",
   "metadata": {},
   "outputs": [],
   "source": [
    "# Your code here"
   ]
  },
  {
   "cell_type": "markdown",
   "id": "8a355a68",
   "metadata": {},
   "source": [
    "## 20. Create a new column 'Income_per_Year' by dividing 'Annual_Income' by 'Membership_Years'."
   ]
  },
  {
   "cell_type": "code",
   "execution_count": null,
   "id": "66c0d9c2",
   "metadata": {},
   "outputs": [],
   "source": [
    "# Your code here"
   ]
  },
  {
   "cell_type": "markdown",
   "id": "c8feca33",
   "metadata": {},
   "source": [
    "## 21. Replace all instances of 'Cash' in the 'Payment_Method' column with 'Other'."
   ]
  },
  {
   "cell_type": "code",
   "execution_count": null,
   "id": "e32df691",
   "metadata": {},
   "outputs": [],
   "source": [
    "# Your code here"
   ]
  },
  {
   "cell_type": "markdown",
   "id": "e6516e20",
   "metadata": {},
   "source": [
    "## 22. Rename the column 'Annual_Income' to 'Income'."
   ]
  },
  {
   "cell_type": "code",
   "execution_count": null,
   "id": "0cb07eb1",
   "metadata": {},
   "outputs": [],
   "source": [
    "# Your code here"
   ]
  },
  {
   "cell_type": "markdown",
   "id": "32739f8d",
   "metadata": {},
   "source": [
    "## 23. Drop the 'Complaint_Count' column from the dataset."
   ]
  },
  {
   "cell_type": "code",
   "execution_count": null,
   "id": "8e8bc3f2",
   "metadata": {},
   "outputs": [],
   "source": [
    "# Your code here"
   ]
  },
  {
   "cell_type": "markdown",
   "id": "5b12e872",
   "metadata": {},
   "source": [
    "## 24. Check for duplicate rows in the dataset."
   ]
  },
  {
   "cell_type": "code",
   "execution_count": null,
   "id": "d14c8037",
   "metadata": {},
   "outputs": [],
   "source": [
    "# Your code here"
   ]
  },
  {
   "cell_type": "markdown",
   "id": "faa8bfb8",
   "metadata": {},
   "source": [
    "## 25. Drop any duplicate rows found."
   ]
  },
  {
   "cell_type": "code",
   "execution_count": null,
   "id": "af06a6e6",
   "metadata": {},
   "outputs": [],
   "source": [
    "# Your code here"
   ]
  },
  {
   "cell_type": "markdown",
   "id": "063e2913",
   "metadata": {},
   "source": [
    "## 26. Create a new DataFrame containing only 'Customer_ID', 'Age', and 'City'."
   ]
  },
  {
   "cell_type": "code",
   "execution_count": null,
   "id": "8af58123",
   "metadata": {},
   "outputs": [],
   "source": [
    "# Your code here"
   ]
  },
  {
   "cell_type": "markdown",
   "id": "f13b4995",
   "metadata": {},
   "source": [
    "## 27. Merge the new DataFrame with the original dataset on 'Customer_ID'."
   ]
  },
  {
   "cell_type": "code",
   "execution_count": null,
   "id": "0640d4bd",
   "metadata": {},
   "outputs": [],
   "source": [
    "# Your code here"
   ]
  },
  {
   "cell_type": "markdown",
   "id": "04b65b09",
   "metadata": {},
   "source": [
    "## 28. Create a cross-tabulation of 'Gender' and 'Loyalty_Status'."
   ]
  },
  {
   "cell_type": "code",
   "execution_count": null,
   "id": "b69c9f5f",
   "metadata": {},
   "outputs": [],
   "source": [
    "# Your code here"
   ]
  },
  {
   "cell_type": "markdown",
   "id": "1c5cece0",
   "metadata": {},
   "source": [
    "## 29. Create a pivot table showing the count of customers by 'City' and 'Product_Category_Clothing'."
   ]
  },
  {
   "cell_type": "code",
   "execution_count": null,
   "id": "73d5b283",
   "metadata": {},
   "outputs": [],
   "source": [
    "# Your code here"
   ]
  },
  {
   "cell_type": "markdown",
   "id": "09e5d410",
   "metadata": {},
   "source": [
    "## 30. Replace missing values in 'Spending_Score' with the median."
   ]
  },
  {
   "cell_type": "code",
   "execution_count": null,
   "id": "1a1c5992",
   "metadata": {},
   "outputs": [],
   "source": [
    "# Your code here"
   ]
  },
  {
   "cell_type": "markdown",
   "id": "095b3cd8",
   "metadata": {},
   "source": [
    "## 31. Calculate the Z-score for the 'Income' column."
   ]
  },
  {
   "cell_type": "code",
   "execution_count": null,
   "id": "73c0e040",
   "metadata": {},
   "outputs": [],
   "source": [
    "# Your code here"
   ]
  },
  {
   "cell_type": "markdown",
   "id": "02875c7d",
   "metadata": {},
   "source": [
    "## 32. Filter out outliers in the 'Income' column based on Z-score."
   ]
  },
  {
   "cell_type": "code",
   "execution_count": null,
   "id": "485e262e",
   "metadata": {},
   "outputs": [],
   "source": [
    "# Your code here"
   ]
  },
  {
   "cell_type": "markdown",
   "id": "c118fb1d",
   "metadata": {},
   "source": [
    "## 33. Apply a lambda function to the 'Age' column to categorize into 'Young', 'Adult', 'Senior'."
   ]
  },
  {
   "cell_type": "code",
   "execution_count": null,
   "id": "2563b570",
   "metadata": {},
   "outputs": [],
   "source": [
    "# Your code here"
   ]
  },
  {
   "cell_type": "markdown",
   "id": "e266da9a",
   "metadata": {},
   "source": [
    "## 34. Create a new column 'Total_Spent' as 'Purchase_Amount' multiplied by 'Membership_Years'."
   ]
  },
  {
   "cell_type": "code",
   "execution_count": null,
   "id": "24bfcf99",
   "metadata": {},
   "outputs": [],
   "source": [
    "# Your code here"
   ]
  },
  {
   "cell_type": "markdown",
   "id": "e9885e47",
   "metadata": {},
   "source": [
    "## 36. Convert the 'Payment_Method' column to a categorical data type."
   ]
  },
  {
   "cell_type": "code",
   "execution_count": null,
   "id": "7756a17c",
   "metadata": {},
   "outputs": [],
   "source": [
    "# Your code here"
   ]
  },
  {
   "cell_type": "markdown",
   "id": "f0ce0eaf",
   "metadata": {},
   "source": [
    "## 37. Create a box plot for 'Purchase_Amount' across different 'Product_Category'."
   ]
  },
  {
   "cell_type": "code",
   "execution_count": null,
   "id": "2eba1c9f",
   "metadata": {},
   "outputs": [],
   "source": [
    "# Your code here"
   ]
  },
  {
   "cell_type": "markdown",
   "id": "9a1a0d51",
   "metadata": {},
   "source": [
    "## 38. Create a line plot showing the trend of 'Spending_Score' over 'Membership_Years'."
   ]
  },
  {
   "cell_type": "code",
   "execution_count": null,
   "id": "e39b1140",
   "metadata": {},
   "outputs": [],
   "source": [
    "# Your code here"
   ]
  },
  {
   "cell_type": "markdown",
   "id": "edc747e4",
   "metadata": {},
   "source": [
    "## 39. Create a heatmap for the correlation matrix."
   ]
  },
  {
   "cell_type": "code",
   "execution_count": null,
   "id": "b6febead",
   "metadata": {},
   "outputs": [],
   "source": [
    "# Your code here"
   ]
  },
  {
   "cell_type": "markdown",
   "id": "e44112d1",
   "metadata": {},
   "source": [
    "## 40. Filter the dataset to include only customers from 'New York'."
   ]
  },
  {
   "cell_type": "code",
   "execution_count": null,
   "id": "c28f2f9d",
   "metadata": {},
   "outputs": [],
   "source": [
    "# Your code here"
   ]
  },
  {
   "cell_type": "markdown",
   "id": "df5293a2",
   "metadata": {},
   "source": [
    "## 41. Replace outliers in 'Purchase_Amount' with the median value."
   ]
  },
  {
   "cell_type": "code",
   "execution_count": null,
   "id": "10c9f872",
   "metadata": {},
   "outputs": [],
   "source": [
    "# Your code here"
   ]
  },
  {
   "cell_type": "markdown",
   "id": "c00349ab",
   "metadata": {},
   "source": [
    "## 42. Calculate the percentage of missing values in each column."
   ]
  },
  {
   "cell_type": "code",
   "execution_count": null,
   "id": "7076cf34",
   "metadata": {},
   "outputs": [],
   "source": [
    "# Your code here"
   ]
  },
  {
   "cell_type": "markdown",
   "id": "61ca5663",
   "metadata": {},
   "source": [
    "## 43. Reorder the columns so that 'Customer_ID' is the first column."
   ]
  },
  {
   "cell_type": "code",
   "execution_count": null,
   "id": "618a8bbb",
   "metadata": {},
   "outputs": [],
   "source": [
    "# Your code here"
   ]
  },
  {
   "cell_type": "markdown",
   "id": "92b97980",
   "metadata": {},
   "source": [
    "## 44. Create a column 'High_Spender' which is True if 'Purchase_Amount' > 1500, else False."
   ]
  },
  {
   "cell_type": "code",
   "execution_count": null,
   "id": "9272866e",
   "metadata": {},
   "outputs": [],
   "source": [
    "# Your code here"
   ]
  },
  {
   "cell_type": "markdown",
   "id": "2f8a33ac",
   "metadata": {},
   "source": [
    "## 45. Split the dataset into training (80%) and testing (20%) sets based on 'Customer_ID'."
   ]
  },
  {
   "cell_type": "code",
   "execution_count": null,
   "id": "7aa2c813",
   "metadata": {},
   "outputs": [],
   "source": [
    "# Your code here"
   ]
  },
  {
   "cell_type": "markdown",
   "id": "b5901406",
   "metadata": {},
   "source": [
    "## 46. Create a pipeline to preprocess the 'Income' and 'Spending_Score' columns."
   ]
  },
  {
   "cell_type": "code",
   "execution_count": null,
   "id": "6e388849",
   "metadata": {},
   "outputs": [],
   "source": [
    "# Your code here"
   ]
  },
  {
   "cell_type": "markdown",
   "id": "ea5e165b",
   "metadata": {},
   "source": [
    "## 47. Export the cleaned dataset to a new CSV file."
   ]
  },
  {
   "cell_type": "code",
   "execution_count": null,
   "id": "7c8215c8",
   "metadata": {},
   "outputs": [],
   "source": [
    "# Your code here"
   ]
  },
  {
   "cell_type": "markdown",
   "id": "1af1a362",
   "metadata": {},
   "source": [
    "## 48. Save the dataset in Excel format with multiple sheets based on 'City'."
   ]
  },
  {
   "cell_type": "code",
   "execution_count": null,
   "id": "0340f468",
   "metadata": {},
   "outputs": [],
   "source": [
    "# Your code here"
   ]
  },
  {
   "cell_type": "markdown",
   "id": "3b0c2ce5",
   "metadata": {},
   "source": [
    "## 49. Create a summary report of the dataset including key statistics and visualizations."
   ]
  },
  {
   "cell_type": "code",
   "execution_count": null,
   "id": "5c198a14",
   "metadata": {},
   "outputs": [],
   "source": [
    "# Your code here"
   ]
  },
  {
   "cell_type": "markdown",
   "id": "4d75e2b3",
   "metadata": {},
   "source": [
    "## 50. Write a function to automate the data cleaning process for this dataset."
   ]
  },
  {
   "cell_type": "code",
   "execution_count": null,
   "id": "e8170637",
   "metadata": {},
   "outputs": [],
   "source": [
    "# Your code here"
   ]
  }
 ],
 "metadata": {
  "language_info": {
   "name": "python"
  }
 },
 "nbformat": 4,
 "nbformat_minor": 5
}
