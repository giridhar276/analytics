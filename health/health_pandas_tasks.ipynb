{
 "cells": [
  {
   "cell_type": "markdown",
   "id": "0ca602b2",
   "metadata": {},
   "source": [
    "## 1. Load the dataset and display the first 5 rows."
   ]
  },
  {
   "cell_type": "code",
   "execution_count": null,
   "id": "86a621ae",
   "metadata": {},
   "outputs": [],
   "source": [
    "# Your code here"
   ]
  },
  {
   "cell_type": "markdown",
   "id": "1789dcb6",
   "metadata": {},
   "source": [
    "## 2. Display the summary statistics of the dataset."
   ]
  },
  {
   "cell_type": "code",
   "execution_count": null,
   "id": "64fd5925",
   "metadata": {},
   "outputs": [],
   "source": [
    "# Your code here"
   ]
  },
  {
   "cell_type": "markdown",
   "id": "2b76b490",
   "metadata": {},
   "source": [
    "## 3. Check for missing values in the dataset."
   ]
  },
  {
   "cell_type": "code",
   "execution_count": null,
   "id": "bc0b9ca0",
   "metadata": {},
   "outputs": [],
   "source": [
    "# Your code here"
   ]
  },
  {
   "cell_type": "markdown",
   "id": "1eac671d",
   "metadata": {},
   "source": [
    "## 4. Drop rows with any missing values."
   ]
  },
  {
   "cell_type": "code",
   "execution_count": null,
   "id": "92af0658",
   "metadata": {},
   "outputs": [],
   "source": [
    "# Your code here"
   ]
  },
  {
   "cell_type": "markdown",
   "id": "4ba788fd",
   "metadata": {},
   "source": [
    "## 5. Fill missing values with the mean for numerical columns."
   ]
  },
  {
   "cell_type": "code",
   "execution_count": null,
   "id": "ba81be65",
   "metadata": {},
   "outputs": [],
   "source": [
    "# Your code here"
   ]
  },
  {
   "cell_type": "markdown",
   "id": "66111ea5",
   "metadata": {},
   "source": [
    "## 6. Fill missing values with the mode for categorical columns."
   ]
  },
  {
   "cell_type": "code",
   "execution_count": null,
   "id": "8745ed7d",
   "metadata": {},
   "outputs": [],
   "source": [
    "# Your code here"
   ]
  },
  {
   "cell_type": "markdown",
   "id": "f93bddc9",
   "metadata": {},
   "source": [
    "## 7. Create a new column 'Age_Group' based on 'Age' using bins."
   ]
  },
  {
   "cell_type": "code",
   "execution_count": null,
   "id": "bcf03aaa",
   "metadata": {},
   "outputs": [],
   "source": [
    "# Your code here"
   ]
  },
  {
   "cell_type": "markdown",
   "id": "d786be19",
   "metadata": {},
   "source": [
    "## 8. Calculate the correlation matrix for numerical columns."
   ]
  },
  {
   "cell_type": "code",
   "execution_count": null,
   "id": "e141ffb2",
   "metadata": {},
   "outputs": [],
   "source": [
    "# Your code here"
   ]
  },
  {
   "cell_type": "markdown",
   "id": "db8a2743",
   "metadata": {},
   "source": [
    "## 9. Plot a histogram for the 'Blood_Pressure' column."
   ]
  },
  {
   "cell_type": "code",
   "execution_count": null,
   "id": "24529b55",
   "metadata": {},
   "outputs": [],
   "source": [
    "# Your code here"
   ]
  },
  {
   "cell_type": "markdown",
   "id": "dfbe5cc1",
   "metadata": {},
   "source": [
    "## 10. Plot a bar chart for the 'Diagnosis' column."
   ]
  },
  {
   "cell_type": "code",
   "execution_count": null,
   "id": "2c17312c",
   "metadata": {},
   "outputs": [],
   "source": [
    "# Your code here"
   ]
  },
  {
   "cell_type": "markdown",
   "id": "bd9c2fa7",
   "metadata": {},
   "source": [
    "## 11. Plot a scatter plot between 'Blood_Pressure' and 'Cholesterol_Level'."
   ]
  },
  {
   "cell_type": "code",
   "execution_count": null,
   "id": "396f9700",
   "metadata": {},
   "outputs": [],
   "source": [
    "# Your code here"
   ]
  },
  {
   "cell_type": "markdown",
   "id": "b9e47029",
   "metadata": {},
   "source": [
    "## 12. Encode the 'Treatment' column using one-hot encoding."
   ]
  },
  {
   "cell_type": "code",
   "execution_count": null,
   "id": "ed748e8c",
   "metadata": {},
   "outputs": [],
   "source": [
    "# Your code here"
   ]
  },
  {
   "cell_type": "markdown",
   "id": "9c6dc479",
   "metadata": {},
   "source": [
    "## 13. Normalize the 'Cholesterol_Level' column using Min-Max scaling."
   ]
  },
  {
   "cell_type": "code",
   "execution_count": null,
   "id": "15057ecf",
   "metadata": {},
   "outputs": [],
   "source": [
    "# Your code here"
   ]
  },
  {
   "cell_type": "markdown",
   "id": "b1ead9c7",
   "metadata": {},
   "source": [
    "## 14. Standardize the 'Blood_Pressure' column."
   ]
  },
  {
   "cell_type": "code",
   "execution_count": null,
   "id": "38992d24",
   "metadata": {},
   "outputs": [],
   "source": [
    "# Your code here"
   ]
  },
  {
   "cell_type": "markdown",
   "id": "347787e8",
   "metadata": {},
   "source": [
    "## 15. Create a pivot table showing the average 'Heart_Rate' for each 'Diagnosis'."
   ]
  },
  {
   "cell_type": "code",
   "execution_count": null,
   "id": "58dfdc4c",
   "metadata": {},
   "outputs": [],
   "source": [
    "# Your code here"
   ]
  },
  {
   "cell_type": "markdown",
   "id": "96a64415",
   "metadata": {},
   "source": [
    "## 16. Group the data by 'Medication' and calculate the mean 'Blood_Pressure'."
   ]
  },
  {
   "cell_type": "code",
   "execution_count": null,
   "id": "7c838b5e",
   "metadata": {},
   "outputs": [],
   "source": [
    "# Your code here"
   ]
  },
  {
   "cell_type": "markdown",
   "id": "be68380d",
   "metadata": {},
   "source": [
    "## 17. Filter the dataset for patients with 'Cholesterol_Level' greater than 200."
   ]
  },
  {
   "cell_type": "code",
   "execution_count": null,
   "id": "7723a2d6",
   "metadata": {},
   "outputs": [],
   "source": [
    "# Your code here"
   ]
  },
  {
   "cell_type": "markdown",
   "id": "28d37e59",
   "metadata": {},
   "source": [
    "## 18. Sort the dataset by 'Visit_Date' in descending order."
   ]
  },
  {
   "cell_type": "code",
   "execution_count": null,
   "id": "8c84560c",
   "metadata": {},
   "outputs": [],
   "source": [
    "# Your code here"
   ]
  },
  {
   "cell_type": "markdown",
   "id": "98a60f4e",
   "metadata": {},
   "source": [
    "## 19. Create a new column 'Risk_Factor' based on 'Blood_Pressure' and 'Cholesterol_Level'."
   ]
  },
  {
   "cell_type": "code",
   "execution_count": null,
   "id": "988b06fa",
   "metadata": {},
   "outputs": [],
   "source": [
    "# Your code here"
   ]
  },
  {
   "cell_type": "markdown",
   "id": "6e884c77",
   "metadata": {},
   "source": [
    "## 20. Replace all instances of 'No' in the 'Follow_Up' column with 'Pending'."
   ]
  },
  {
   "cell_type": "code",
   "execution_count": null,
   "id": "b031b106",
   "metadata": {},
   "outputs": [],
   "source": [
    "# Your code here"
   ]
  },
  {
   "cell_type": "markdown",
   "id": "7284dd10",
   "metadata": {},
   "source": [
    "## 21. Rename the column 'Cholesterol_Level' to 'Cholesterol'."
   ]
  },
  {
   "cell_type": "code",
   "execution_count": null,
   "id": "ed59bed6",
   "metadata": {},
   "outputs": [],
   "source": [
    "# Your code here"
   ]
  },
  {
   "cell_type": "markdown",
   "id": "7944f14b",
   "metadata": {},
   "source": [
    "## 22. Drop the 'Follow_Up' column from the dataset."
   ]
  },
  {
   "cell_type": "code",
   "execution_count": null,
   "id": "90cc14aa",
   "metadata": {},
   "outputs": [],
   "source": [
    "# Your code here"
   ]
  },
  {
   "cell_type": "markdown",
   "id": "31b6626d",
   "metadata": {},
   "source": [
    "## 23. Check for duplicate rows in the dataset."
   ]
  },
  {
   "cell_type": "code",
   "execution_count": null,
   "id": "cd0e9ee7",
   "metadata": {},
   "outputs": [],
   "source": [
    "# Your code here"
   ]
  },
  {
   "cell_type": "markdown",
   "id": "21b45a22",
   "metadata": {},
   "source": [
    "## 24. Drop any duplicate rows found."
   ]
  },
  {
   "cell_type": "code",
   "execution_count": null,
   "id": "839ffe3d",
   "metadata": {},
   "outputs": [],
   "source": [
    "# Your code here"
   ]
  },
  {
   "cell_type": "markdown",
   "id": "a24da1e6",
   "metadata": {},
   "source": [
    "## 25. Create a new DataFrame containing only 'Patient_ID', 'Age', and 'Diagnosis'."
   ]
  },
  {
   "cell_type": "code",
   "execution_count": null,
   "id": "6c7e03df",
   "metadata": {},
   "outputs": [],
   "source": [
    "# Your code here"
   ]
  },
  {
   "cell_type": "markdown",
   "id": "db7c47de",
   "metadata": {},
   "source": [
    "## 26. Merge the new DataFrame with the original dataset on 'Patient_ID'."
   ]
  },
  {
   "cell_type": "code",
   "execution_count": null,
   "id": "11ceddfa",
   "metadata": {},
   "outputs": [],
   "source": [
    "# Your code here"
   ]
  },
  {
   "cell_type": "markdown",
   "id": "a96cf018",
   "metadata": {},
   "source": [
    "## 27. Create a cross-tabulation of 'Diagnosis' and 'Medication'."
   ]
  },
  {
   "cell_type": "code",
   "execution_count": null,
   "id": "d9e63e4a",
   "metadata": {},
   "outputs": [],
   "source": [
    "# Your code here"
   ]
  },
  {
   "cell_type": "markdown",
   "id": "0968f3f9",
   "metadata": {},
   "source": [
    "## 28. Create a pivot table showing the count of patients by 'Diagnosis' and 'Hospital_Name'."
   ]
  },
  {
   "cell_type": "code",
   "execution_count": null,
   "id": "029d27f9",
   "metadata": {},
   "outputs": [],
   "source": [
    "# Your code here"
   ]
  },
  {
   "cell_type": "markdown",
   "id": "bdaa2060",
   "metadata": {},
   "source": [
    "## 29. Replace missing values in 'Heart_Rate' with the median."
   ]
  },
  {
   "cell_type": "code",
   "execution_count": null,
   "id": "0aa053dd",
   "metadata": {},
   "outputs": [],
   "source": [
    "# Your code here"
   ]
  },
  {
   "cell_type": "markdown",
   "id": "01b43410",
   "metadata": {},
   "source": [
    "## 30. Calculate the Z-score for the 'Blood_Pressure' column."
   ]
  },
  {
   "cell_type": "code",
   "execution_count": null,
   "id": "2a69307b",
   "metadata": {},
   "outputs": [],
   "source": [
    "# Your code here"
   ]
  },
  {
   "cell_type": "markdown",
   "id": "51801d7d",
   "metadata": {},
   "source": [
    "## 31. Filter out outliers in the 'Blood_Pressure' column based on Z-score."
   ]
  },
  {
   "cell_type": "code",
   "execution_count": null,
   "id": "b5de881a",
   "metadata": {},
   "outputs": [],
   "source": [
    "# Your code here"
   ]
  },
  {
   "cell_type": "markdown",
   "id": "c29226a6",
   "metadata": {},
   "source": [
    "## 32. Apply a lambda function to the 'Cholesterol_Level' column to categorize into 'Low', 'Medium', 'High'."
   ]
  },
  {
   "cell_type": "code",
   "execution_count": null,
   "id": "8ce0aadc",
   "metadata": {},
   "outputs": [],
   "source": [
    "# Your code here"
   ]
  },
  {
   "cell_type": "markdown",
   "id": "9eb3103c",
   "metadata": {},
   "source": [
    "## 33. Create a new column 'Overall_Health_Score' by summing 'Blood_Pressure', 'Heart_Rate', and 'Cholesterol_Level'."
   ]
  },
  {
   "cell_type": "code",
   "execution_count": null,
   "id": "a41d3ee6",
   "metadata": {},
   "outputs": [],
   "source": [
    "# Your code here"
   ]
  },
  {
   "cell_type": "markdown",
   "id": "9ed6974d",
   "metadata": {},
   "source": [
    "## 34. Extract the month from 'Visit_Date' and create a new column 'Visit_Month'."
   ]
  },
  {
   "cell_type": "code",
   "execution_count": null,
   "id": "89c5bd45",
   "metadata": {},
   "outputs": [],
   "source": [
    "# Your code here"
   ]
  },
  {
   "cell_type": "markdown",
   "id": "443217ea",
   "metadata": {},
   "source": [
    "## 35. Convert the 'Diagnosis' column to a categorical data type."
   ]
  },
  {
   "cell_type": "code",
   "execution_count": null,
   "id": "2f0389f1",
   "metadata": {},
   "outputs": [],
   "source": [
    "# Your code here"
   ]
  },
  {
   "cell_type": "markdown",
   "id": "b11846ed",
   "metadata": {},
   "source": [
    "## 36. Create a box plot for 'Cholesterol_Level' across different 'Diagnosis'."
   ]
  },
  {
   "cell_type": "code",
   "execution_count": null,
   "id": "3993e85f",
   "metadata": {},
   "outputs": [],
   "source": [
    "# Your code here"
   ]
  },
  {
   "cell_type": "markdown",
   "id": "b8454d07",
   "metadata": {},
   "source": [
    "## 37. Create a line plot showing the trend of 'Blood_Pressure' over 'Visit_Date'."
   ]
  },
  {
   "cell_type": "code",
   "execution_count": null,
   "id": "e1fd0d35",
   "metadata": {},
   "outputs": [],
   "source": [
    "# Your code here"
   ]
  },
  {
   "cell_type": "markdown",
   "id": "648c02e9",
   "metadata": {},
   "source": [
    "## 38. Create a heatmap for the correlation matrix."
   ]
  },
  {
   "cell_type": "code",
   "execution_count": null,
   "id": "39d89928",
   "metadata": {},
   "outputs": [],
   "source": [
    "# Your code here"
   ]
  },
  {
   "cell_type": "markdown",
   "id": "aee6b4c9",
   "metadata": {},
   "source": [
    "## 39. Filter the dataset to include only patients with 'Diagnosis' as 'Diabetes'."
   ]
  },
  {
   "cell_type": "code",
   "execution_count": null,
   "id": "d4a9d28f",
   "metadata": {},
   "outputs": [],
   "source": [
    "# Your code here"
   ]
  },
  {
   "cell_type": "markdown",
   "id": "330b2898",
   "metadata": {},
   "source": [
    "## 40. Replace outliers in 'Cholesterol_Level' with the median value."
   ]
  },
  {
   "cell_type": "code",
   "execution_count": null,
   "id": "e930acdb",
   "metadata": {},
   "outputs": [],
   "source": [
    "# Your code here"
   ]
  },
  {
   "cell_type": "markdown",
   "id": "0ff70d05",
   "metadata": {},
   "source": [
    "## 41. Calculate the percentage of missing values in each column."
   ]
  },
  {
   "cell_type": "code",
   "execution_count": null,
   "id": "20414172",
   "metadata": {},
   "outputs": [],
   "source": [
    "# Your code here"
   ]
  },
  {
   "cell_type": "markdown",
   "id": "f8d47532",
   "metadata": {},
   "source": [
    "## 42. Reorder the columns so that 'Patient_ID' is the first column."
   ]
  },
  {
   "cell_type": "code",
   "execution_count": null,
   "id": "b578ec6f",
   "metadata": {},
   "outputs": [],
   "source": [
    "# Your code here"
   ]
  },
  {
   "cell_type": "markdown",
   "id": "8220cd4b",
   "metadata": {},
   "source": [
    "## 43. Create a column 'High_Risk_Patient' which is True if 'Overall_Health_Score' > 300, else False."
   ]
  },
  {
   "cell_type": "code",
   "execution_count": null,
   "id": "a036d7fc",
   "metadata": {},
   "outputs": [],
   "source": [
    "# Your code here"
   ]
  },
  {
   "cell_type": "markdown",
   "id": "be810b06",
   "metadata": {},
   "source": [
    "## 44. Split the dataset into training (80%) and testing (20%) sets based on 'Patient_ID'."
   ]
  },
  {
   "cell_type": "code",
   "execution_count": null,
   "id": "26ef3591",
   "metadata": {},
   "outputs": [],
   "source": [
    "# Your code here"
   ]
  },
  {
   "cell_type": "markdown",
   "id": "2bfe1123",
   "metadata": {},
   "source": [
    "## 45. Create a pipeline to preprocess the 'Blood_Pressure' and 'Cholesterol_Level' columns."
   ]
  },
  {
   "cell_type": "code",
   "execution_count": null,
   "id": "5878a9fb",
   "metadata": {},
   "outputs": [],
   "source": [
    "# Your code here"
   ]
  },
  {
   "cell_type": "markdown",
   "id": "1c893e3d",
   "metadata": {},
   "source": [
    "## 46. Export the cleaned dataset to a new CSV file."
   ]
  },
  {
   "cell_type": "code",
   "execution_count": null,
   "id": "b776368b",
   "metadata": {},
   "outputs": [],
   "source": [
    "# Your code here"
   ]
  },
  {
   "cell_type": "markdown",
   "id": "a1deae75",
   "metadata": {},
   "source": [
    "## 47. Save the dataset in Excel format with multiple sheets based on 'Diagnosis'."
   ]
  },
  {
   "cell_type": "code",
   "execution_count": null,
   "id": "e7e6d6e6",
   "metadata": {},
   "outputs": [],
   "source": [
    "# Your code here"
   ]
  },
  {
   "cell_type": "markdown",
   "id": "57a12747",
   "metadata": {},
   "source": [
    "## 48. Create a summary report of the dataset including key statistics and visualizations."
   ]
  },
  {
   "cell_type": "code",
   "execution_count": null,
   "id": "9ef82fcd",
   "metadata": {},
   "outputs": [],
   "source": [
    "# Your code here"
   ]
  },
  {
   "cell_type": "markdown",
   "id": "ddd61561",
   "metadata": {},
   "source": [
    "## 49. Write a function to automate the data cleaning process for this dataset."
   ]
  },
  {
   "cell_type": "code",
   "execution_count": null,
   "id": "9f32256b",
   "metadata": {},
   "outputs": [],
   "source": [
    "# Your code here"
   ]
  },
  {
   "cell_type": "markdown",
   "id": "07e3daca",
   "metadata": {},
   "source": [
    "## 50. Create a new column 'Treatment_Effectiveness_Score' using a simple formula on 'Medication' and 'Overall_Health_Score'."
   ]
  },
  {
   "cell_type": "code",
   "execution_count": null,
   "id": "1e306601",
   "metadata": {},
   "outputs": [],
   "source": [
    "# Your code here"
   ]
  }
 ],
 "metadata": {},
 "nbformat": 4,
 "nbformat_minor": 5
}
