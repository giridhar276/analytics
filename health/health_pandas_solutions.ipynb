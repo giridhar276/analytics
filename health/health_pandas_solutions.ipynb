{
 "cells": [
  {
   "cell_type": "markdown",
   "id": "7166e258",
   "metadata": {},
   "source": [
    "## 1. Load the dataset and display the first 5 rows."
   ]
  },
  {
   "cell_type": "code",
   "execution_count": null,
   "id": "e3c93c56",
   "metadata": {},
   "outputs": [],
   "source": [
    "import pandas as pd\n",
    "\n",
    "# Load the dataset\n",
    "df = pd.read_csv('health_dataset.csv')\n",
    "df.head()"
   ]
  },
  {
   "cell_type": "markdown",
   "id": "a85ea051",
   "metadata": {},
   "source": [
    "## 2. Display the summary statistics of the dataset."
   ]
  },
  {
   "cell_type": "code",
   "execution_count": null,
   "id": "80f55a6f",
   "metadata": {},
   "outputs": [],
   "source": [
    "df.describe()"
   ]
  },
  {
   "cell_type": "markdown",
   "id": "c8d8753c",
   "metadata": {},
   "source": [
    "## 3. Check for missing values in the dataset."
   ]
  },
  {
   "cell_type": "code",
   "execution_count": null,
   "id": "936fafe3",
   "metadata": {},
   "outputs": [],
   "source": [
    "df.isnull().sum()"
   ]
  },
  {
   "cell_type": "markdown",
   "id": "0215334d",
   "metadata": {},
   "source": [
    "## 4. Drop rows with any missing values."
   ]
  },
  {
   "cell_type": "code",
   "execution_count": null,
   "id": "3201ce59",
   "metadata": {},
   "outputs": [],
   "source": [
    "df.dropna(inplace=True)\n",
    "df.head()"
   ]
  },
  {
   "cell_type": "markdown",
   "id": "c14a318b",
   "metadata": {},
   "source": [
    "## 5. Fill missing values with the mean for numerical columns."
   ]
  },
  {
   "cell_type": "code",
   "execution_count": null,
   "id": "96e72c5f",
   "metadata": {},
   "outputs": [],
   "source": [
    "df.fillna(df.mean(), inplace=True)\n",
    "df.head()"
   ]
  },
  {
   "cell_type": "markdown",
   "id": "50f384a1",
   "metadata": {},
   "source": [
    "## 6. Fill missing values with the mode for categorical columns."
   ]
  },
  {
   "cell_type": "code",
   "execution_count": null,
   "id": "09157d00",
   "metadata": {},
   "outputs": [],
   "source": [
    "df.fillna(df.mode().iloc[0], inplace=True)\n",
    "df.head()"
   ]
  },
  {
   "cell_type": "markdown",
   "id": "d9ac04e0",
   "metadata": {},
   "source": [
    "## 7. Create a new column 'Age_Group' based on 'Age' using bins."
   ]
  },
  {
   "cell_type": "code",
   "execution_count": null,
   "id": "a9a30536",
   "metadata": {},
   "outputs": [],
   "source": [
    "bins = [0, 18, 35, 50, 65, 100]\n",
    "labels = ['Child', 'Young_Adult', 'Adult', 'Senior_Adult', 'Elder']\n",
    "df['Age_Group'] = pd.cut(df['Age'], bins=bins, labels=labels)\n",
    "df.head()"
   ]
  },
  {
   "cell_type": "markdown",
   "id": "1f3f1bc2",
   "metadata": {},
   "source": [
    "## 8. Calculate the correlation matrix for numerical columns."
   ]
  },
  {
   "cell_type": "code",
   "execution_count": null,
   "id": "39a807cf",
   "metadata": {},
   "outputs": [],
   "source": [
    "df.corr()"
   ]
  },
  {
   "cell_type": "markdown",
   "id": "12dc7de2",
   "metadata": {},
   "source": [
    "## 9. Plot a histogram for the 'Blood_Pressure' column."
   ]
  },
  {
   "cell_type": "code",
   "execution_count": null,
   "id": "cc805119",
   "metadata": {},
   "outputs": [],
   "source": [
    "df['Blood_Pressure'].hist(bins=20)"
   ]
  },
  {
   "cell_type": "markdown",
   "id": "b048e967",
   "metadata": {},
   "source": [
    "## 10. Plot a bar chart for the 'Diagnosis' column."
   ]
  },
  {
   "cell_type": "code",
   "execution_count": null,
   "id": "f713114a",
   "metadata": {},
   "outputs": [],
   "source": [
    "df['Diagnosis'].value_counts().plot(kind='bar')"
   ]
  },
  {
   "cell_type": "markdown",
   "id": "4cb9c345",
   "metadata": {},
   "source": [
    "## 11. Plot a scatter plot between 'Blood_Pressure' and 'Cholesterol_Level'."
   ]
  },
  {
   "cell_type": "code",
   "execution_count": null,
   "id": "bf8d93ed",
   "metadata": {},
   "outputs": [],
   "source": [
    "df.plot.scatter(x='Blood_Pressure', y='Cholesterol_Level')"
   ]
  },
  {
   "cell_type": "markdown",
   "id": "3339a393",
   "metadata": {},
   "source": [
    "## 12. Encode the 'Treatment' column using one-hot encoding."
   ]
  },
  {
   "cell_type": "code",
   "execution_count": null,
   "id": "53eb419b",
   "metadata": {},
   "outputs": [],
   "source": [
    "df = pd.get_dummies(df, columns=['Treatment'])\n",
    "df.head()"
   ]
  },
  {
   "cell_type": "markdown",
   "id": "c1acddea",
   "metadata": {},
   "source": [
    "## 13. Normalize the 'Cholesterol_Level' column using Min-Max scaling."
   ]
  },
  {
   "cell_type": "code",
   "execution_count": null,
   "id": "6af8f886",
   "metadata": {},
   "outputs": [],
   "source": [
    "from sklearn.preprocessing import MinMaxScaler\n",
    "scaler = MinMaxScaler()\n",
    "df['Cholesterol_Level'] = scaler.fit_transform(df[['Cholesterol_Level']])\n",
    "df.head()"
   ]
  },
  {
   "cell_type": "markdown",
   "id": "e8dad50f",
   "metadata": {},
   "source": [
    "## 14. Standardize the 'Blood_Pressure' column."
   ]
  },
  {
   "cell_type": "code",
   "execution_count": null,
   "id": "7eb7aa6f",
   "metadata": {},
   "outputs": [],
   "source": [
    "from sklearn.preprocessing import StandardScaler\n",
    "scaler = StandardScaler()\n",
    "df['Blood_Pressure'] = scaler.fit_transform(df[['Blood_Pressure']])\n",
    "df.head()"
   ]
  },
  {
   "cell_type": "markdown",
   "id": "b0c23a37",
   "metadata": {},
   "source": [
    "## 15. Create a pivot table showing the average 'Heart_Rate' for each 'Diagnosis'."
   ]
  },
  {
   "cell_type": "code",
   "execution_count": null,
   "id": "f5691799",
   "metadata": {},
   "outputs": [],
   "source": [
    "df.pivot_table(values='Heart_Rate', index='Diagnosis', aggfunc='mean')"
   ]
  },
  {
   "cell_type": "markdown",
   "id": "1b89fb63",
   "metadata": {},
   "source": [
    "## 16. Group the data by 'Medication' and calculate the mean 'Blood_Pressure'."
   ]
  },
  {
   "cell_type": "code",
   "execution_count": null,
   "id": "55862211",
   "metadata": {},
   "outputs": [],
   "source": [
    "df.groupby('Medication')['Blood_Pressure'].mean()"
   ]
  },
  {
   "cell_type": "markdown",
   "id": "3bb7eaac",
   "metadata": {},
   "source": [
    "## 17. Filter the dataset for patients with 'Cholesterol_Level' greater than 200."
   ]
  },
  {
   "cell_type": "code",
   "execution_count": null,
   "id": "29d2fedb",
   "metadata": {},
   "outputs": [],
   "source": [
    "df_filtered = df[df['Cholesterol_Level'] > 200]\n",
    "df_filtered.head()"
   ]
  },
  {
   "cell_type": "markdown",
   "id": "c11ae1ce",
   "metadata": {},
   "source": [
    "## 18. Sort the dataset by 'Visit_Date' in descending order."
   ]
  },
  {
   "cell_type": "code",
   "execution_count": null,
   "id": "2cbf27cf",
   "metadata": {},
   "outputs": [],
   "source": [
    "df.sort_values(by='Visit_Date', ascending=False).head()"
   ]
  },
  {
   "cell_type": "markdown",
   "id": "91a4e420",
   "metadata": {},
   "source": [
    "## 19. Create a new column 'Risk_Factor' based on 'Blood_Pressure' and 'Cholesterol_Level'."
   ]
  },
  {
   "cell_type": "code",
   "execution_count": null,
   "id": "ad472ed0",
   "metadata": {},
   "outputs": [],
   "source": [
    "df['Risk_Factor'] = df['Blood_Pressure'] + df['Cholesterol_Level']\n",
    "df.head()"
   ]
  },
  {
   "cell_type": "markdown",
   "id": "465792b2",
   "metadata": {},
   "source": [
    "## 20. Replace all instances of 'No' in the 'Follow_Up' column with 'Pending'."
   ]
  },
  {
   "cell_type": "code",
   "execution_count": null,
   "id": "2b0bba63",
   "metadata": {},
   "outputs": [],
   "source": [
    "df['Follow_Up'].replace('No', 'Pending', inplace=True)\n",
    "df.head()"
   ]
  },
  {
   "cell_type": "markdown",
   "id": "ddfd0fcc",
   "metadata": {},
   "source": [
    "## 21. Rename the column 'Cholesterol_Level' to 'Cholesterol'."
   ]
  },
  {
   "cell_type": "code",
   "execution_count": null,
   "id": "93cc24ff",
   "metadata": {},
   "outputs": [],
   "source": [
    "df.rename(columns={'Cholesterol_Level': 'Cholesterol'}, inplace=True)\n",
    "df.head()"
   ]
  },
  {
   "cell_type": "markdown",
   "id": "3dc296d3",
   "metadata": {},
   "source": [
    "## 22. Drop the 'Follow_Up' column from the dataset."
   ]
  },
  {
   "cell_type": "code",
   "execution_count": null,
   "id": "ba51ff07",
   "metadata": {},
   "outputs": [],
   "source": [
    "df.drop(columns=['Follow_Up'], inplace=True)\n",
    "df.head()"
   ]
  },
  {
   "cell_type": "markdown",
   "id": "786e1e76",
   "metadata": {},
   "source": [
    "## 23. Check for duplicate rows in the dataset."
   ]
  },
  {
   "cell_type": "code",
   "execution_count": null,
   "id": "46a15846",
   "metadata": {},
   "outputs": [],
   "source": [
    "df.duplicated().sum()"
   ]
  },
  {
   "cell_type": "markdown",
   "id": "943f9e1a",
   "metadata": {},
   "source": [
    "## 24. Drop any duplicate rows found."
   ]
  },
  {
   "cell_type": "code",
   "execution_count": null,
   "id": "50e800ca",
   "metadata": {},
   "outputs": [],
   "source": [
    "df.drop_duplicates(inplace=True)\n",
    "df.head()"
   ]
  },
  {
   "cell_type": "markdown",
   "id": "c599ad34",
   "metadata": {},
   "source": [
    "## 25. Create a new DataFrame containing only 'Patient_ID', 'Age', and 'Diagnosis'."
   ]
  },
  {
   "cell_type": "code",
   "execution_count": null,
   "id": "e8f4a02c",
   "metadata": {},
   "outputs": [],
   "source": [
    "df_subset = df[['Patient_ID', 'Age', 'Diagnosis']]\n",
    "df_subset.head()"
   ]
  },
  {
   "cell_type": "markdown",
   "id": "ad0d7526",
   "metadata": {},
   "source": [
    "## 26. Merge the new DataFrame with the original dataset on 'Patient_ID'."
   ]
  },
  {
   "cell_type": "code",
   "execution_count": null,
   "id": "54220fc8",
   "metadata": {},
   "outputs": [],
   "source": [
    "df_merged = pd.merge(df_subset, df, on='Patient_ID')\n",
    "df_merged.head()"
   ]
  },
  {
   "cell_type": "markdown",
   "id": "b00692b0",
   "metadata": {},
   "source": [
    "## 27. Create a cross-tabulation of 'Diagnosis' and 'Medication'."
   ]
  },
  {
   "cell_type": "code",
   "execution_count": null,
   "id": "3830550b",
   "metadata": {},
   "outputs": [],
   "source": [
    "pd.crosstab(df['Diagnosis'], df['Medication'])"
   ]
  },
  {
   "cell_type": "markdown",
   "id": "11c55bbd",
   "metadata": {},
   "source": [
    "## 28. Create a pivot table showing the count of patients by 'Diagnosis' and 'Hospital_Name'."
   ]
  },
  {
   "cell_type": "code",
   "execution_count": null,
   "id": "6eaa49d7",
   "metadata": {},
   "outputs": [],
   "source": [
    "df.pivot_table(index='Diagnosis', columns='Hospital_Name', aggfunc='size', fill_value=0)"
   ]
  },
  {
   "cell_type": "markdown",
   "id": "19c1a094",
   "metadata": {},
   "source": [
    "## 29. Replace missing values in 'Heart_Rate' with the median."
   ]
  },
  {
   "cell_type": "code",
   "execution_count": null,
   "id": "c693588e",
   "metadata": {},
   "outputs": [],
   "source": [
    "df['Heart_Rate'].fillna(df['Heart_Rate'].median(), inplace=True)\n",
    "df.head()"
   ]
  },
  {
   "cell_type": "markdown",
   "id": "b5aacccd",
   "metadata": {},
   "source": [
    "## 30. Calculate the Z-score for the 'Blood_Pressure' column."
   ]
  },
  {
   "cell_type": "code",
   "execution_count": null,
   "id": "626e0b82",
   "metadata": {},
   "outputs": [],
   "source": [
    "from scipy.stats import zscore\n",
    "df['Blood_Pressure_Zscore'] = zscore(df['Blood_Pressure'])\n",
    "df.head()"
   ]
  },
  {
   "cell_type": "markdown",
   "id": "fe91f786",
   "metadata": {},
   "source": [
    "## 31. Filter out outliers in the 'Blood_Pressure' column based on Z-score."
   ]
  },
  {
   "cell_type": "code",
   "execution_count": null,
   "id": "2d787d89",
   "metadata": {},
   "outputs": [],
   "source": [
    "df_no_outliers = df[(df['Blood_Pressure_Zscore'] > -3) & (df['Blood_Pressure_Zscore'] < 3)]\n",
    "df_no_outliers.head()"
   ]
  },
  {
   "cell_type": "markdown",
   "id": "8c3d9bfa",
   "metadata": {},
   "source": [
    "## 32. Apply a lambda function to the 'Cholesterol' column to categorize into 'Low', 'Medium', 'High'."
   ]
  },
  {
   "cell_type": "code",
   "execution_count": null,
   "id": "f96f18ef",
   "metadata": {},
   "outputs": [],
   "source": [
    "df['Cholesterol_Level_Category'] = df['Cholesterol'].apply(lambda x: 'Low' if x < 150 else 'Medium' if x < 250 else 'High')\n",
    "df.head()"
   ]
  },
  {
   "cell_type": "markdown",
   "id": "d9a3770a",
   "metadata": {},
   "source": [
    "## 33. Create a new column 'Overall_Health_Score' by summing 'Blood_Pressure', 'Heart_Rate', and 'Cholesterol'."
   ]
  },
  {
   "cell_type": "code",
   "execution_count": null,
   "id": "9a06fc41",
   "metadata": {},
   "outputs": [],
   "source": [
    "df['Overall_Health_Score'] = df['Blood_Pressure'] + df['Heart_Rate'] + df['Cholesterol']\n",
    "df.head()"
   ]
  },
  {
   "cell_type": "markdown",
   "id": "afabd444",
   "metadata": {},
   "source": [
    "## 34. Extract the month from 'Visit_Date' and create a new column 'Visit_Month'."
   ]
  },
  {
   "cell_type": "code",
   "execution_count": null,
   "id": "19a1a183",
   "metadata": {},
   "outputs": [],
   "source": [
    "df['Visit_Date'] = df['Visit_Date'].astype('datetime64')\n",
    "df['Visit_Month'] = df['Visit_Date'].dt.month\n",
    "df.head()"
   ]
  },
  {
   "cell_type": "markdown",
   "id": "d9de2c3c",
   "metadata": {},
   "source": [
    "## 35. Convert the 'Diagnosis' column to a categorical data type."
   ]
  },
  {
   "cell_type": "code",
   "execution_count": null,
   "id": "d77374b7",
   "metadata": {},
   "outputs": [],
   "source": [
    "df['Diagnosis'] = df['Diagnosis'].astype('category')\n",
    "df.dtypes"
   ]
  },
  {
   "cell_type": "markdown",
   "id": "5fe2c11c",
   "metadata": {},
   "source": [
    "## 36. Create a box plot for 'Cholesterol_Level' across different 'Diagnosis'."
   ]
  },
  {
   "cell_type": "code",
   "execution_count": null,
   "id": "0cef424c",
   "metadata": {},
   "outputs": [],
   "source": [
    "df.boxplot(column='Cholesterol', by='Diagnosis')"
   ]
  },
  {
   "cell_type": "markdown",
   "id": "e1ffcd23",
   "metadata": {},
   "source": [
    "## 37. Create a line plot showing the trend of 'Blood_Pressure' over 'Visit_Date'."
   ]
  },
  {
   "cell_type": "code",
   "execution_count": null,
   "id": "40a86901",
   "metadata": {},
   "outputs": [],
   "source": [
    "df.groupby('Visit_Date')['Blood_Pressure'].mean().plot()"
   ]
  },
  {
   "cell_type": "markdown",
   "id": "cbe260a6",
   "metadata": {},
   "source": [
    "## 38. Create a heatmap for the correlation matrix."
   ]
  },
  {
   "cell_type": "code",
   "execution_count": null,
   "id": "33b1176c",
   "metadata": {},
   "outputs": [],
   "source": [
    "import seaborn as sns\n",
    "sns.heatmap(df.corr(), annot=True)"
   ]
  },
  {
   "cell_type": "markdown",
   "id": "fe5c4d6c",
   "metadata": {},
   "source": [
    "## 39. Filter the dataset to include only patients with 'Diagnosis' as 'Diabetes'."
   ]
  },
  {
   "cell_type": "code",
   "execution_count": null,
   "id": "7668c9e5",
   "metadata": {},
   "outputs": [],
   "source": [
    "df_diabetes = df[df['Diagnosis'] == 'Diabetes']\n",
    "df_diabetes.head()"
   ]
  },
  {
   "cell_type": "markdown",
   "id": "f2b013b0",
   "metadata": {},
   "source": [
    "## 40. Replace outliers in 'Cholesterol' with the median value."
   ]
  },
  {
   "cell_type": "code",
   "execution_count": null,
   "id": "43adfe21",
   "metadata": {},
   "outputs": [],
   "source": [
    "median_value = df['Cholesterol'].median()\n",
    "df.loc[df['Cholesterol'] > df['Cholesterol'].quantile(0.99), 'Cholesterol'] = median_value\n",
    "df.head()"
   ]
  },
  {
   "cell_type": "markdown",
   "id": "25012965",
   "metadata": {},
   "source": [
    "## 41. Calculate the percentage of missing values in each column."
   ]
  },
  {
   "cell_type": "code",
   "execution_count": null,
   "id": "1724810f",
   "metadata": {},
   "outputs": [],
   "source": [
    "missing_percent = df.isnull().mean() * 100\n",
    "missing_percent"
   ]
  },
  {
   "cell_type": "markdown",
   "id": "065f47c6",
   "metadata": {},
   "source": [
    "## 42. Reorder the columns so that 'Patient_ID' is the first column."
   ]
  },
  {
   "cell_type": "code",
   "execution_count": null,
   "id": "06a3e51d",
   "metadata": {},
   "outputs": [],
   "source": [
    "df = df[['Patient_ID'] + [col for col in df.columns if col != 'Patient_ID']]\n",
    "df.head()"
   ]
  },
  {
   "cell_type": "markdown",
   "id": "0725d175",
   "metadata": {},
   "source": [
    "## 43. Create a column 'High_Risk_Patient' which is True if 'Overall_Health_Score' > 300, else False."
   ]
  },
  {
   "cell_type": "code",
   "execution_count": null,
   "id": "c5492f9e",
   "metadata": {},
   "outputs": [],
   "source": [
    "df['High_Risk_Patient'] = df['Overall_Health_Score'] > 300\n",
    "df.head()"
   ]
  },
  {
   "cell_type": "markdown",
   "id": "b038e039",
   "metadata": {},
   "source": [
    "## 44. Split the dataset into training (80%) and testing (20%) sets based on 'Patient_ID'."
   ]
  },
  {
   "cell_type": "code",
   "execution_count": null,
   "id": "6c092237",
   "metadata": {},
   "outputs": [],
   "source": [
    "from sklearn.model_selection import train_test_split\n",
    "train, test = train_test_split(df, test_size=0.2, random_state=42)\n",
    "train.shape, test.shape"
   ]
  },
  {
   "cell_type": "markdown",
   "id": "b22d95be",
   "metadata": {},
   "source": [
    "## 45. Create a pipeline to preprocess the 'Blood_Pressure' and 'Cholesterol' columns."
   ]
  },
  {
   "cell_type": "code",
   "execution_count": null,
   "id": "06ed65a2",
   "metadata": {},
   "outputs": [],
   "source": [
    "from sklearn.pipeline import Pipeline\n",
    "from sklearn.preprocessing import StandardScaler\n",
    "\n",
    "pipeline = Pipeline([\n",
    "    ('scaler', StandardScaler())\n",
    "])\n",
    "df[['Blood_Pressure', 'Cholesterol']] = pipeline.fit_transform(df[['Blood_Pressure', 'Cholesterol']])\n",
    "df.head()"
   ]
  },
  {
   "cell_type": "markdown",
   "id": "447ae6bf",
   "metadata": {},
   "source": [
    "## 46. Export the cleaned dataset to a new CSV file."
   ]
  },
  {
   "cell_type": "code",
   "execution_count": null,
   "id": "4975aa8c",
   "metadata": {},
   "outputs": [],
   "source": [
    "df.to_csv('cleaned_health_dataset.csv', index=False)"
   ]
  },
  {
   "cell_type": "markdown",
   "id": "cee19da1",
   "metadata": {},
   "source": [
    "## 47. Save the dataset in Excel format with multiple sheets based on 'Diagnosis'."
   ]
  },
  {
   "cell_type": "code",
   "execution_count": null,
   "id": "a36f7ca1",
   "metadata": {},
   "outputs": [],
   "source": [
    "with pd.ExcelWriter('health_by_diagnosis.xlsx') as writer:\n",
    "    for diagnosis in df['Diagnosis'].unique():\n",
    "        df[df['Diagnosis'] == diagnosis].to_excel(writer, sheet_name=diagnosis, index=False)"
   ]
  },
  {
   "cell_type": "markdown",
   "id": "37147d7a",
   "metadata": {},
   "source": [
    "## 48. Create a summary report of the dataset including key statistics and visualizations."
   ]
  },
  {
   "cell_type": "code",
   "execution_count": null,
   "id": "417d758e",
   "metadata": {},
   "outputs": [],
   "source": [
    "df.describe(include='all')"
   ]
  },
  {
   "cell_type": "markdown",
   "id": "32aadd14",
   "metadata": {},
   "source": [
    "## 49. Write a function to automate the data cleaning process for this dataset."
   ]
  },
  {
   "cell_type": "code",
   "execution_count": null,
   "id": "b9e30273",
   "metadata": {},
   "outputs": [],
   "source": [
    "def clean_data(df):\n",
    "    df.dropna(inplace=True)\n",
    "    df.drop_duplicates(inplace=True)\n",
    "    df.fillna(df.mean(), inplace=True)\n",
    "    return df\n",
    "\n",
    "cleaned_df = clean_data(df.copy())\n",
    "cleaned_df.head()"
   ]
  },
  {
   "cell_type": "markdown",
   "id": "9dc38c45",
   "metadata": {},
   "source": [
    "## 50. Create a new column 'Treatment_Effectiveness_Score' using a simple formula on 'Medication' and 'Overall_Health_Score'."
   ]
  },
  {
   "cell_type": "code",
   "execution_count": null,
   "id": "28dc1d4e",
   "metadata": {},
   "outputs": [],
   "source": [
    "df['Treatment_Effectiveness_Score'] = df['Medication'] * df['Overall_Health_Score'].astype(int)\n",
    "df.head()"
   ]
  },
  {
   "cell_type": "code",
   "execution_count": null,
   "id": "cc7fac1b",
   "metadata": {},
   "outputs": [],
   "source": []
  }
 ],
 "metadata": {
  "kernelspec": {
   "display_name": "Python 3",
   "language": "python",
   "name": "python3"
  },
  "language_info": {
   "codemirror_mode": {
    "name": "ipython",
    "version": 3
   },
   "file_extension": ".py",
   "mimetype": "text/x-python",
   "name": "python",
   "nbconvert_exporter": "python",
   "pygments_lexer": "ipython3",
   "version": "3.9.6"
  }
 },
 "nbformat": 4,
 "nbformat_minor": 5
}
