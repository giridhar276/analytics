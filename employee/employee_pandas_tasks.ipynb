{
 "cells": [
  {
   "cell_type": "markdown",
   "id": "d0d48f28",
   "metadata": {},
   "source": [
    "## 1. Load the dataset and display the first 5 rows."
   ]
  },
  {
   "cell_type": "code",
   "execution_count": null,
   "id": "7f0b7fd2",
   "metadata": {},
   "outputs": [],
   "source": [
    "# Your code here"
   ]
  },
  {
   "cell_type": "markdown",
   "id": "2da6896c",
   "metadata": {},
   "source": [
    "## 2. Display the summary statistics of the dataset."
   ]
  },
  {
   "cell_type": "code",
   "execution_count": null,
   "id": "5c6c7405",
   "metadata": {},
   "outputs": [],
   "source": [
    "# Your code here"
   ]
  },
  {
   "cell_type": "markdown",
   "id": "664d4376",
   "metadata": {},
   "source": [
    "## 3. Check for missing values in the dataset."
   ]
  },
  {
   "cell_type": "code",
   "execution_count": null,
   "id": "486d55fa",
   "metadata": {},
   "outputs": [],
   "source": [
    "# Your code here"
   ]
  },
  {
   "cell_type": "markdown",
   "id": "e4d7b0de",
   "metadata": {},
   "source": [
    "## 4. Drop rows with any missing values."
   ]
  },
  {
   "cell_type": "code",
   "execution_count": null,
   "id": "2e6311bb",
   "metadata": {},
   "outputs": [],
   "source": [
    "# Your code here"
   ]
  },
  {
   "cell_type": "markdown",
   "id": "3e1bc4d0",
   "metadata": {},
   "source": [
    "## 5. Fill missing values with the mean for numerical columns."
   ]
  },
  {
   "cell_type": "code",
   "execution_count": null,
   "id": "3581a419",
   "metadata": {},
   "outputs": [],
   "source": [
    "# Your code here"
   ]
  },
  {
   "cell_type": "markdown",
   "id": "823e02fb",
   "metadata": {},
   "source": [
    "## 6. Fill missing values with the mode for categorical columns."
   ]
  },
  {
   "cell_type": "code",
   "execution_count": null,
   "id": "bce26266",
   "metadata": {},
   "outputs": [],
   "source": [
    "# Your code here"
   ]
  },
  {
   "cell_type": "markdown",
   "id": "7ff30e6b",
   "metadata": {},
   "source": [
    "## 7. Create a new column 'Years_Since_Hire' by subtracting 'Hire_Date' from the current year."
   ]
  },
  {
   "cell_type": "code",
   "execution_count": null,
   "id": "aa4dc397",
   "metadata": {},
   "outputs": [],
   "source": [
    "# Your code here"
   ]
  },
  {
   "cell_type": "markdown",
   "id": "43fa9871",
   "metadata": {},
   "source": [
    "## 8. Calculate the correlation matrix for numerical columns."
   ]
  },
  {
   "cell_type": "code",
   "execution_count": null,
   "id": "5523bf8c",
   "metadata": {},
   "outputs": [],
   "source": [
    "# Your code here"
   ]
  },
  {
   "cell_type": "markdown",
   "id": "d0e4a749",
   "metadata": {},
   "source": [
    "## 9. Plot a histogram for the 'Salary' column."
   ]
  },
  {
   "cell_type": "code",
   "execution_count": null,
   "id": "74495f64",
   "metadata": {},
   "outputs": [],
   "source": [
    "# Your code here"
   ]
  },
  {
   "cell_type": "markdown",
   "id": "e7d99b08",
   "metadata": {},
   "source": [
    "## 10. Plot a bar chart for the 'Department' column."
   ]
  },
  {
   "cell_type": "code",
   "execution_count": null,
   "id": "f246f71f",
   "metadata": {},
   "outputs": [],
   "source": [
    "# Your code here"
   ]
  },
  {
   "cell_type": "markdown",
   "id": "44bfe4dd",
   "metadata": {},
   "source": [
    "## 11. Plot a scatter plot between 'Years_At_Company' and 'Salary'."
   ]
  },
  {
   "cell_type": "code",
   "execution_count": null,
   "id": "12985725",
   "metadata": {},
   "outputs": [],
   "source": [
    "# Your code here"
   ]
  },
  {
   "cell_type": "markdown",
   "id": "f51c921e",
   "metadata": {},
   "source": [
    "## 12. Encode the 'Education_Level' column using one-hot encoding."
   ]
  },
  {
   "cell_type": "code",
   "execution_count": null,
   "id": "037470e6",
   "metadata": {},
   "outputs": [],
   "source": [
    "# Your code here"
   ]
  },
  {
   "cell_type": "markdown",
   "id": "f1a8e1be",
   "metadata": {},
   "source": [
    "## 13. Normalize the 'Salary' column using Min-Max scaling."
   ]
  },
  {
   "cell_type": "code",
   "execution_count": null,
   "id": "ec877565",
   "metadata": {},
   "outputs": [],
   "source": [
    "# Your code here"
   ]
  },
  {
   "cell_type": "markdown",
   "id": "06b90335",
   "metadata": {},
   "source": [
    "## 14. Standardize the 'Performance_Score' column."
   ]
  },
  {
   "cell_type": "code",
   "execution_count": null,
   "id": "b1462b0b",
   "metadata": {},
   "outputs": [],
   "source": [
    "# Your code here"
   ]
  },
  {
   "cell_type": "markdown",
   "id": "21512696",
   "metadata": {},
   "source": [
    "## 15. Create a pivot table showing the average 'Salary' for each 'Position'."
   ]
  },
  {
   "cell_type": "code",
   "execution_count": null,
   "id": "26084d00",
   "metadata": {},
   "outputs": [],
   "source": [
    "# Your code here"
   ]
  },
  {
   "cell_type": "markdown",
   "id": "39df81dc",
   "metadata": {},
   "source": [
    "## 16. Group the data by 'Gender' and calculate the mean 'Salary'."
   ]
  },
  {
   "cell_type": "code",
   "execution_count": null,
   "id": "ef9bfc37",
   "metadata": {},
   "outputs": [],
   "source": [
    "# Your code here"
   ]
  },
  {
   "cell_type": "markdown",
   "id": "e1c929d4",
   "metadata": {},
   "source": [
    "## 17. Filter the dataset for employees with 'Performance_Score' greater than 4."
   ]
  },
  {
   "cell_type": "code",
   "execution_count": null,
   "id": "3aec85a2",
   "metadata": {},
   "outputs": [],
   "source": [
    "# Your code here"
   ]
  },
  {
   "cell_type": "markdown",
   "id": "a8d1f00f",
   "metadata": {},
   "source": [
    "## 18. Sort the dataset by 'Years_At_Company' in descending order."
   ]
  },
  {
   "cell_type": "code",
   "execution_count": null,
   "id": "3f488852",
   "metadata": {},
   "outputs": [],
   "source": [
    "# Your code here"
   ]
  },
  {
   "cell_type": "markdown",
   "id": "627d3914",
   "metadata": {},
   "source": [
    "## 19. Create a new column 'Bonus_Percentage' by dividing 'Bonus' by 'Salary'."
   ]
  },
  {
   "cell_type": "code",
   "execution_count": null,
   "id": "618f3296",
   "metadata": {},
   "outputs": [],
   "source": [
    "# Your code here"
   ]
  },
  {
   "cell_type": "markdown",
   "id": "7761f033",
   "metadata": {},
   "source": [
    "## 20. Replace all instances of 'Other' in the 'Gender' column with 'Non-binary'."
   ]
  },
  {
   "cell_type": "code",
   "execution_count": null,
   "id": "61c67896",
   "metadata": {},
   "outputs": [],
   "source": [
    "# Your code here"
   ]
  },
  {
   "cell_type": "markdown",
   "id": "6ff22e2d",
   "metadata": {},
   "source": [
    "## 21. Rename the column 'Salary' to 'Annual_Salary'."
   ]
  },
  {
   "cell_type": "code",
   "execution_count": null,
   "id": "ebf6196e",
   "metadata": {},
   "outputs": [],
   "source": [
    "# Your code here"
   ]
  },
  {
   "cell_type": "markdown",
   "id": "08407bf6",
   "metadata": {},
   "source": [
    "## 22. Drop the 'Promotion_Status' column from the dataset."
   ]
  },
  {
   "cell_type": "code",
   "execution_count": null,
   "id": "4b800424",
   "metadata": {},
   "outputs": [],
   "source": [
    "# Your code here"
   ]
  },
  {
   "cell_type": "markdown",
   "id": "835c3830",
   "metadata": {},
   "source": [
    "## 23. Check for duplicate rows in the dataset."
   ]
  },
  {
   "cell_type": "code",
   "execution_count": null,
   "id": "d6838493",
   "metadata": {},
   "outputs": [],
   "source": [
    "# Your code here"
   ]
  },
  {
   "cell_type": "markdown",
   "id": "13199c6d",
   "metadata": {},
   "source": [
    "## 24. Drop any duplicate rows found."
   ]
  },
  {
   "cell_type": "code",
   "execution_count": null,
   "id": "f03d14b3",
   "metadata": {},
   "outputs": [],
   "source": [
    "# Your code here"
   ]
  },
  {
   "cell_type": "markdown",
   "id": "f61ac3d0",
   "metadata": {},
   "source": [
    "## 25. Create a new DataFrame containing only 'Employee_ID', 'Name', and 'Salary'."
   ]
  },
  {
   "cell_type": "code",
   "execution_count": null,
   "id": "0a233ccd",
   "metadata": {},
   "outputs": [],
   "source": [
    "# Your code here"
   ]
  },
  {
   "cell_type": "markdown",
   "id": "b2832de4",
   "metadata": {},
   "source": [
    "## 26. Merge the new DataFrame with the original dataset on 'Employee_ID'."
   ]
  },
  {
   "cell_type": "code",
   "execution_count": null,
   "id": "53eeee9c",
   "metadata": {},
   "outputs": [],
   "source": [
    "# Your code here"
   ]
  },
  {
   "cell_type": "markdown",
   "id": "930ccff7",
   "metadata": {},
   "source": [
    "## 27. Create a cross-tabulation of 'Department' and 'Promotion_Status'."
   ]
  },
  {
   "cell_type": "code",
   "execution_count": null,
   "id": "09b647e2",
   "metadata": {},
   "outputs": [],
   "source": [
    "# Your code here"
   ]
  },
  {
   "cell_type": "markdown",
   "id": "78fdce91",
   "metadata": {},
   "source": [
    "## 28. Create a pivot table showing the count of employees by 'Education_Level' and 'Position'."
   ]
  },
  {
   "cell_type": "code",
   "execution_count": null,
   "id": "651203c9",
   "metadata": {},
   "outputs": [],
   "source": [
    "# Your code here"
   ]
  },
  {
   "cell_type": "markdown",
   "id": "50340ea2",
   "metadata": {},
   "source": [
    "## 29. Replace missing values in 'Bonus' with the median."
   ]
  },
  {
   "cell_type": "code",
   "execution_count": null,
   "id": "911524d5",
   "metadata": {},
   "outputs": [],
   "source": [
    "# Your code here"
   ]
  },
  {
   "cell_type": "markdown",
   "id": "775907a6",
   "metadata": {},
   "source": [
    "## 30. Calculate the Z-score for the 'Annual_Salary' column."
   ]
  },
  {
   "cell_type": "code",
   "execution_count": null,
   "id": "b3267971",
   "metadata": {},
   "outputs": [],
   "source": [
    "# Your code here"
   ]
  },
  {
   "cell_type": "markdown",
   "id": "98ec09e3",
   "metadata": {},
   "source": [
    "## 31. Filter out outliers in the 'Annual_Salary' column based on Z-score."
   ]
  },
  {
   "cell_type": "code",
   "execution_count": null,
   "id": "df5dd034",
   "metadata": {},
   "outputs": [],
   "source": [
    "# Your code here"
   ]
  },
  {
   "cell_type": "markdown",
   "id": "e30d6a92",
   "metadata": {},
   "source": [
    "## 32. Apply a lambda function to the 'Performance_Score' column to categorize into 'Low', 'Medium', 'High'."
   ]
  },
  {
   "cell_type": "code",
   "execution_count": null,
   "id": "ab68c7ce",
   "metadata": {},
   "outputs": [],
   "source": [
    "# Your code here"
   ]
  },
  {
   "cell_type": "markdown",
   "id": "cc2b83e1",
   "metadata": {},
   "source": [
    "## 33. Create a new column 'Years_to_Retirement' by subtracting 'Age' from 65."
   ]
  },
  {
   "cell_type": "code",
   "execution_count": null,
   "id": "fc93860a",
   "metadata": {},
   "outputs": [],
   "source": [
    "# Your code here"
   ]
  },
  {
   "cell_type": "markdown",
   "id": "046aadaf",
   "metadata": {},
   "source": [
    "## 34. Extract the month from 'Hire_Date' and create a new column 'Hire_Month'."
   ]
  },
  {
   "cell_type": "code",
   "execution_count": null,
   "id": "b39aab27",
   "metadata": {},
   "outputs": [],
   "source": [
    "# Your code here"
   ]
  },
  {
   "cell_type": "markdown",
   "id": "5e9a58d2",
   "metadata": {},
   "source": [
    "## 35. Convert the 'Position' column to a categorical data type."
   ]
  },
  {
   "cell_type": "code",
   "execution_count": null,
   "id": "2a961cab",
   "metadata": {},
   "outputs": [],
   "source": [
    "# Your code here"
   ]
  },
  {
   "cell_type": "markdown",
   "id": "a9f0d899",
   "metadata": {},
   "source": [
    "## 36. Create a box plot for 'Annual_Salary' across different 'Department'."
   ]
  },
  {
   "cell_type": "code",
   "execution_count": null,
   "id": "74ef7d5b",
   "metadata": {},
   "outputs": [],
   "source": [
    "# Your code here"
   ]
  },
  {
   "cell_type": "markdown",
   "id": "9584d647",
   "metadata": {},
   "source": [
    "## 37. Create a line plot showing the trend of 'Salary' over 'Years_At_Company'."
   ]
  },
  {
   "cell_type": "code",
   "execution_count": null,
   "id": "a4313325",
   "metadata": {},
   "outputs": [],
   "source": [
    "# Your code here"
   ]
  },
  {
   "cell_type": "markdown",
   "id": "45ebbb5a",
   "metadata": {},
   "source": [
    "## 38. Create a heatmap for the correlation matrix."
   ]
  },
  {
   "cell_type": "code",
   "execution_count": null,
   "id": "33a55151",
   "metadata": {},
   "outputs": [],
   "source": [
    "# Your code here"
   ]
  },
  {
   "cell_type": "markdown",
   "id": "c892c351",
   "metadata": {},
   "source": [
    "## 39. Filter the dataset to include only employees with 'Education_Level' as 'Master's'."
   ]
  },
  {
   "cell_type": "code",
   "execution_count": null,
   "id": "cd2c370b",
   "metadata": {},
   "outputs": [],
   "source": [
    "# Your code here"
   ]
  },
  {
   "cell_type": "markdown",
   "id": "903c57c1",
   "metadata": {},
   "source": [
    "## 40. Replace outliers in 'Bonus' with the median value."
   ]
  },
  {
   "cell_type": "code",
   "execution_count": null,
   "id": "6ecbec4c",
   "metadata": {},
   "outputs": [],
   "source": [
    "# Your code here"
   ]
  },
  {
   "cell_type": "markdown",
   "id": "713ab514",
   "metadata": {},
   "source": [
    "## 41. Calculate the percentage of missing values in each column."
   ]
  },
  {
   "cell_type": "code",
   "execution_count": null,
   "id": "346adbf4",
   "metadata": {},
   "outputs": [],
   "source": [
    "# Your code here"
   ]
  },
  {
   "cell_type": "markdown",
   "id": "6c6d401a",
   "metadata": {},
   "source": [
    "## 42. Reorder the columns so that 'Employee_ID' is the first column."
   ]
  },
  {
   "cell_type": "code",
   "execution_count": null,
   "id": "8d06c174",
   "metadata": {},
   "outputs": [],
   "source": [
    "# Your code here"
   ]
  },
  {
   "cell_type": "markdown",
   "id": "b019ec0d",
   "metadata": {},
   "source": [
    "## 43. Create a column 'High_Performer' which is True if 'Performance_Score' > 4, else False."
   ]
  },
  {
   "cell_type": "code",
   "execution_count": null,
   "id": "478be7d1",
   "metadata": {},
   "outputs": [],
   "source": [
    "# Your code here"
   ]
  },
  {
   "cell_type": "markdown",
   "id": "80021605",
   "metadata": {},
   "source": [
    "## 44. Split the dataset into training (80%) and testing (20%) sets based on 'Employee_ID'."
   ]
  },
  {
   "cell_type": "code",
   "execution_count": null,
   "id": "a899a5ac",
   "metadata": {},
   "outputs": [],
   "source": [
    "# Your code here"
   ]
  },
  {
   "cell_type": "markdown",
   "id": "56d8f124",
   "metadata": {},
   "source": [
    "## 45. Create a pipeline to preprocess the 'Annual_Salary' and 'Performance_Score' columns."
   ]
  },
  {
   "cell_type": "code",
   "execution_count": null,
   "id": "3aac3ffe",
   "metadata": {},
   "outputs": [],
   "source": [
    "# Your code here"
   ]
  },
  {
   "cell_type": "markdown",
   "id": "3951d240",
   "metadata": {},
   "source": [
    "## 46. Export the cleaned dataset to a new CSV file."
   ]
  },
  {
   "cell_type": "code",
   "execution_count": null,
   "id": "0428389f",
   "metadata": {},
   "outputs": [],
   "source": [
    "# Your code here"
   ]
  },
  {
   "cell_type": "markdown",
   "id": "0ffcab59",
   "metadata": {},
   "source": [
    "## 47. Save the dataset in Excel format with multiple sheets based on 'Department'."
   ]
  },
  {
   "cell_type": "code",
   "execution_count": null,
   "id": "b0af49ea",
   "metadata": {},
   "outputs": [],
   "source": [
    "# Your code here"
   ]
  },
  {
   "cell_type": "markdown",
   "id": "ad4ba294",
   "metadata": {},
   "source": [
    "## 48. Create a summary report of the dataset including key statistics and visualizations."
   ]
  },
  {
   "cell_type": "code",
   "execution_count": null,
   "id": "32b29aad",
   "metadata": {},
   "outputs": [],
   "source": [
    "# Your code here"
   ]
  },
  {
   "cell_type": "markdown",
   "id": "997aa481",
   "metadata": {},
   "source": [
    "## 49. Write a function to automate the data cleaning process for this dataset."
   ]
  },
  {
   "cell_type": "code",
   "execution_count": null,
   "id": "62600e85",
   "metadata": {},
   "outputs": [],
   "source": [
    "# Your code here"
   ]
  },
  {
   "cell_type": "markdown",
   "id": "0b57fd5f",
   "metadata": {},
   "source": [
    "## 50. Create a new column 'Promotion_Potential' using a formula on 'Years_At_Company' and 'Performance_Score'."
   ]
  },
  {
   "cell_type": "code",
   "execution_count": null,
   "id": "f5747cdd",
   "metadata": {},
   "outputs": [],
   "source": [
    "# Your code here"
   ]
  }
 ],
 "metadata": {},
 "nbformat": 4,
 "nbformat_minor": 5
}
