{
 "cells": [
  {
   "cell_type": "markdown",
   "id": "66e2b6a5",
   "metadata": {},
   "source": [
    "## 1. Load the dataset and display the first 5 rows."
   ]
  },
  {
   "cell_type": "code",
   "execution_count": null,
   "id": "65d4f3f6",
   "metadata": {},
   "outputs": [],
   "source": [
    "import pandas as pd\n",
    "\n",
    "# Load the dataset\n",
    "df = pd.read_csv('employee_dataset.csv')\n",
    "df.head()"
   ]
  },
  {
   "cell_type": "markdown",
   "id": "76c66e1d",
   "metadata": {},
   "source": [
    "## 2. Display the summary statistics of the dataset."
   ]
  },
  {
   "cell_type": "code",
   "execution_count": null,
   "id": "da7eba8b",
   "metadata": {},
   "outputs": [],
   "source": [
    "df.describe()"
   ]
  },
  {
   "cell_type": "markdown",
   "id": "4a8e05e0",
   "metadata": {},
   "source": [
    "## 3. Check for missing values in the dataset."
   ]
  },
  {
   "cell_type": "code",
   "execution_count": null,
   "id": "04ca15bf",
   "metadata": {},
   "outputs": [],
   "source": [
    "df.isnull().sum()"
   ]
  },
  {
   "cell_type": "markdown",
   "id": "92ea4631",
   "metadata": {},
   "source": [
    "## 4. Drop rows with any missing values."
   ]
  },
  {
   "cell_type": "code",
   "execution_count": null,
   "id": "15e67ee5",
   "metadata": {},
   "outputs": [],
   "source": [
    "df.dropna(inplace=True)\n",
    "df.head()"
   ]
  },
  {
   "cell_type": "markdown",
   "id": "0a21214e",
   "metadata": {},
   "source": [
    "## 5. Fill missing values with the mean for numerical columns."
   ]
  },
  {
   "cell_type": "code",
   "execution_count": null,
   "id": "9edaa6a2",
   "metadata": {},
   "outputs": [],
   "source": [
    "df.fillna(df.mean(), inplace=True)\n",
    "df.head()"
   ]
  },
  {
   "cell_type": "markdown",
   "id": "da8b27ff",
   "metadata": {},
   "source": [
    "## 6. Fill missing values with the mode for categorical columns."
   ]
  },
  {
   "cell_type": "code",
   "execution_count": null,
   "id": "2c25e52b",
   "metadata": {},
   "outputs": [],
   "source": [
    "df.fillna(df.mode().iloc[0], inplace=True)\n",
    "df.head()"
   ]
  },
  {
   "cell_type": "markdown",
   "id": "2b9a000a",
   "metadata": {},
   "source": [
    "## 7. Create a new column 'Years_Since_Hire' by subtracting 'Hire_Date' from the current year."
   ]
  },
  {
   "cell_type": "code",
   "execution_count": null,
   "id": "969e962f",
   "metadata": {},
   "outputs": [],
   "source": [
    "df['Years_Since_Hire'] = 2024 - df['Hire_Date'].dt.year\n",
    "df.head()"
   ]
  },
  {
   "cell_type": "markdown",
   "id": "8e70cf1a",
   "metadata": {},
   "source": [
    "## 8. Calculate the correlation matrix for numerical columns."
   ]
  },
  {
   "cell_type": "code",
   "execution_count": null,
   "id": "843aef9a",
   "metadata": {},
   "outputs": [],
   "source": [
    "df.corr()"
   ]
  },
  {
   "cell_type": "markdown",
   "id": "e8b797e7",
   "metadata": {},
   "source": [
    "## 9. Plot a histogram for the 'Salary' column."
   ]
  },
  {
   "cell_type": "code",
   "execution_count": null,
   "id": "60b0097c",
   "metadata": {},
   "outputs": [],
   "source": [
    "df['Salary'].hist(bins=20)"
   ]
  },
  {
   "cell_type": "markdown",
   "id": "47ae9e07",
   "metadata": {},
   "source": [
    "## 10. Plot a bar chart for the 'Department' column."
   ]
  },
  {
   "cell_type": "code",
   "execution_count": null,
   "id": "9706843b",
   "metadata": {},
   "outputs": [],
   "source": [
    "df['Department'].value_counts().plot(kind='bar')"
   ]
  },
  {
   "cell_type": "markdown",
   "id": "be0e87cc",
   "metadata": {},
   "source": [
    "## 11. Plot a scatter plot between 'Years_At_Company' and 'Salary'."
   ]
  },
  {
   "cell_type": "code",
   "execution_count": null,
   "id": "bab7d2cb",
   "metadata": {},
   "outputs": [],
   "source": [
    "df.plot.scatter(x='Years_At_Company', y='Salary')"
   ]
  },
  {
   "cell_type": "markdown",
   "id": "628b6ed2",
   "metadata": {},
   "source": [
    "## 12. Encode the 'Education_Level' column using one-hot encoding."
   ]
  },
  {
   "cell_type": "code",
   "execution_count": null,
   "id": "87b0e27a",
   "metadata": {},
   "outputs": [],
   "source": [
    "df = pd.get_dummies(df, columns=['Education_Level'])\n",
    "df.head()"
   ]
  },
  {
   "cell_type": "markdown",
   "id": "852932a4",
   "metadata": {},
   "source": [
    "## 13. Normalize the 'Salary' column using Min-Max scaling."
   ]
  },
  {
   "cell_type": "code",
   "execution_count": null,
   "id": "22e85039",
   "metadata": {},
   "outputs": [],
   "source": [
    "from sklearn.preprocessing import MinMaxScaler\n",
    "scaler = MinMaxScaler()\n",
    "df['Salary'] = scaler.fit_transform(df[['Salary']])\n",
    "df.head()"
   ]
  },
  {
   "cell_type": "markdown",
   "id": "c90c8b13",
   "metadata": {},
   "source": [
    "## 14. Standardize the 'Performance_Score' column."
   ]
  },
  {
   "cell_type": "code",
   "execution_count": null,
   "id": "cb56c6dd",
   "metadata": {},
   "outputs": [],
   "source": [
    "from sklearn.preprocessing import StandardScaler\n",
    "scaler = StandardScaler()\n",
    "df['Performance_Score'] = scaler.fit_transform(df[['Performance_Score']])\n",
    "df.head()"
   ]
  },
  {
   "cell_type": "markdown",
   "id": "e4fc9ef7",
   "metadata": {},
   "source": [
    "## 15. Create a pivot table showing the average 'Salary' for each 'Position'."
   ]
  },
  {
   "cell_type": "code",
   "execution_count": null,
   "id": "c4408eb3",
   "metadata": {},
   "outputs": [],
   "source": [
    "df.pivot_table(values='Salary', index='Position', aggfunc='mean')"
   ]
  },
  {
   "cell_type": "markdown",
   "id": "11c8b608",
   "metadata": {},
   "source": [
    "## 16. Group the data by 'Gender' and calculate the mean 'Salary'."
   ]
  },
  {
   "cell_type": "code",
   "execution_count": null,
   "id": "1a871d01",
   "metadata": {},
   "outputs": [],
   "source": [
    "df.groupby('Gender')['Salary'].mean()"
   ]
  },
  {
   "cell_type": "markdown",
   "id": "462109c1",
   "metadata": {},
   "source": [
    "## 17. Filter the dataset for employees with 'Performance_Score' greater than 4."
   ]
  },
  {
   "cell_type": "code",
   "execution_count": null,
   "id": "38e4dbbd",
   "metadata": {},
   "outputs": [],
   "source": [
    "df_filtered = df[df['Performance_Score'] > 4]\n",
    "df_filtered.head()"
   ]
  },
  {
   "cell_type": "markdown",
   "id": "46cf2698",
   "metadata": {},
   "source": [
    "## 18. Sort the dataset by 'Years_At_Company' in descending order."
   ]
  },
  {
   "cell_type": "code",
   "execution_count": null,
   "id": "bac65233",
   "metadata": {},
   "outputs": [],
   "source": [
    "df.sort_values(by='Years_At_Company', ascending=False).head()"
   ]
  },
  {
   "cell_type": "markdown",
   "id": "30249ffa",
   "metadata": {},
   "source": [
    "## 19. Create a new column 'Bonus_Percentage' by dividing 'Bonus' by 'Salary'."
   ]
  },
  {
   "cell_type": "code",
   "execution_count": null,
   "id": "84d528a5",
   "metadata": {},
   "outputs": [],
   "source": [
    "df['Bonus_Percentage'] = df['Bonus'] / df['Salary']\n",
    "df.head()"
   ]
  },
  {
   "cell_type": "markdown",
   "id": "48ea6386",
   "metadata": {},
   "source": [
    "## 20. Replace all instances of 'Other' in the 'Gender' column with 'Non-binary'."
   ]
  },
  {
   "cell_type": "code",
   "execution_count": null,
   "id": "193e5b32",
   "metadata": {},
   "outputs": [],
   "source": [
    "df['Gender'].replace('Other', 'Non-binary', inplace=True)\n",
    "df.head()"
   ]
  },
  {
   "cell_type": "markdown",
   "id": "e53fe6c3",
   "metadata": {},
   "source": [
    "## 21. Rename the column 'Salary' to 'Annual_Salary'."
   ]
  },
  {
   "cell_type": "code",
   "execution_count": null,
   "id": "c2c00b10",
   "metadata": {},
   "outputs": [],
   "source": [
    "df.rename(columns={'Salary': 'Annual_Salary'}, inplace=True)\n",
    "df.head()"
   ]
  },
  {
   "cell_type": "markdown",
   "id": "cddb7d6c",
   "metadata": {},
   "source": [
    "## 22. Drop the 'Promotion_Status' column from the dataset."
   ]
  },
  {
   "cell_type": "code",
   "execution_count": null,
   "id": "b0093234",
   "metadata": {},
   "outputs": [],
   "source": [
    "df.drop(columns=['Promotion_Status'], inplace=True)\n",
    "df.head()"
   ]
  },
  {
   "cell_type": "markdown",
   "id": "4ce9719c",
   "metadata": {},
   "source": [
    "## 23. Check for duplicate rows in the dataset."
   ]
  },
  {
   "cell_type": "code",
   "execution_count": null,
   "id": "c41729a3",
   "metadata": {},
   "outputs": [],
   "source": [
    "df.duplicated().sum()"
   ]
  },
  {
   "cell_type": "markdown",
   "id": "012e65fe",
   "metadata": {},
   "source": [
    "## 24. Drop any duplicate rows found."
   ]
  },
  {
   "cell_type": "code",
   "execution_count": null,
   "id": "c5eb5f6f",
   "metadata": {},
   "outputs": [],
   "source": [
    "df.drop_duplicates(inplace=True)\n",
    "df.head()"
   ]
  },
  {
   "cell_type": "markdown",
   "id": "5d13693b",
   "metadata": {},
   "source": [
    "## 25. Create a new DataFrame containing only 'Employee_ID', 'Name', and 'Salary'."
   ]
  },
  {
   "cell_type": "code",
   "execution_count": null,
   "id": "ae4831f3",
   "metadata": {},
   "outputs": [],
   "source": [
    "df_subset = df[['Employee_ID', 'Name', 'Salary']]\n",
    "df_subset.head()"
   ]
  },
  {
   "cell_type": "markdown",
   "id": "409c3091",
   "metadata": {},
   "source": [
    "## 26. Merge the new DataFrame with the original dataset on 'Employee_ID'."
   ]
  },
  {
   "cell_type": "code",
   "execution_count": null,
   "id": "0d82b46b",
   "metadata": {},
   "outputs": [],
   "source": [
    "df_merged = pd.merge(df_subset, df, on='Employee_ID')\n",
    "df_merged.head()"
   ]
  },
  {
   "cell_type": "markdown",
   "id": "34613403",
   "metadata": {},
   "source": [
    "## 27. Create a cross-tabulation of 'Department' and 'Promotion_Status'."
   ]
  },
  {
   "cell_type": "code",
   "execution_count": null,
   "id": "f726e7e6",
   "metadata": {},
   "outputs": [],
   "source": [
    "pd.crosstab(df['Department'], df['Promotion_Status'])"
   ]
  },
  {
   "cell_type": "markdown",
   "id": "a6185923",
   "metadata": {},
   "source": [
    "## 28. Create a pivot table showing the count of employees by 'Education_Level' and 'Position'."
   ]
  },
  {
   "cell_type": "code",
   "execution_count": null,
   "id": "6ba22f89",
   "metadata": {},
   "outputs": [],
   "source": [
    "df.pivot_table(index='Education_Level_Bachelor's', columns='Position', aggfunc='size', fill_value=0)"
   ]
  },
  {
   "cell_type": "markdown",
   "id": "7e711b49",
   "metadata": {},
   "source": [
    "## 29. Replace missing values in 'Bonus' with the median."
   ]
  },
  {
   "cell_type": "code",
   "execution_count": null,
   "id": "dd58b124",
   "metadata": {},
   "outputs": [],
   "source": [
    "df['Bonus'].fillna(df['Bonus'].median(), inplace=True)\n",
    "df.head()"
   ]
  },
  {
   "cell_type": "markdown",
   "id": "45925b99",
   "metadata": {},
   "source": [
    "## 30. Calculate the Z-score for the 'Annual_Salary' column."
   ]
  },
  {
   "cell_type": "code",
   "execution_count": null,
   "id": "a31e6817",
   "metadata": {},
   "outputs": [],
   "source": [
    "from scipy.stats import zscore\n",
    "df['Annual_Salary_Zscore'] = zscore(df['Annual_Salary'])\n",
    "df.head()"
   ]
  },
  {
   "cell_type": "markdown",
   "id": "9dffc70f",
   "metadata": {},
   "source": [
    "## 31. Filter out outliers in the 'Annual_Salary' column based on Z-score."
   ]
  },
  {
   "cell_type": "code",
   "execution_count": null,
   "id": "a16ead17",
   "metadata": {},
   "outputs": [],
   "source": [
    "df_no_outliers = df[(df['Annual_Salary_Zscore'] > -3) & (df['Annual_Salary_Zscore'] < 3)]\n",
    "df_no_outliers.head()"
   ]
  },
  {
   "cell_type": "markdown",
   "id": "5f314e8b",
   "metadata": {},
   "source": [
    "## 32. Apply a lambda function to the 'Performance_Score' column to categorize into 'Low', 'Medium', 'High'."
   ]
  },
  {
   "cell_type": "code",
   "execution_count": null,
   "id": "8fea69ab",
   "metadata": {},
   "outputs": [],
   "source": [
    "df['Performance_Score_Category'] = df['Performance_Score'].apply(lambda x: 'Low' if x < 2.5 else 'Medium' if x < 4 else 'High')\n",
    "df.head()"
   ]
  },
  {
   "cell_type": "markdown",
   "id": "efdade9a",
   "metadata": {},
   "source": [
    "## 33. Create a new column 'Years_to_Retirement' by subtracting 'Age' from 65."
   ]
  },
  {
   "cell_type": "code",
   "execution_count": null,
   "id": "ab190538",
   "metadata": {},
   "outputs": [],
   "source": [
    "df['Years_to_Retirement'] = 65 - df['Age']\n",
    "df.head()"
   ]
  },
  {
   "cell_type": "markdown",
   "id": "2c580ad6",
   "metadata": {},
   "source": [
    "## 34. Extract the month from 'Hire_Date' and create a new column 'Hire_Month'."
   ]
  },
  {
   "cell_type": "code",
   "execution_count": null,
   "id": "161af7cf",
   "metadata": {},
   "outputs": [],
   "source": [
    "df['Hire_Month'] = df['Hire_Date'].dt.month\n",
    "df.head()"
   ]
  },
  {
   "cell_type": "markdown",
   "id": "4c7a3c1b",
   "metadata": {},
   "source": [
    "## 35. Convert the 'Position' column to a categorical data type."
   ]
  },
  {
   "cell_type": "code",
   "execution_count": null,
   "id": "391a1600",
   "metadata": {},
   "outputs": [],
   "source": [
    "df['Position'] = df['Position'].astype('category')\n",
    "df.dtypes"
   ]
  },
  {
   "cell_type": "markdown",
   "id": "a9aee8aa",
   "metadata": {},
   "source": [
    "## 36. Create a box plot for 'Annual_Salary' across different 'Department'."
   ]
  },
  {
   "cell_type": "code",
   "execution_count": null,
   "id": "bf741789",
   "metadata": {},
   "outputs": [],
   "source": [
    "df.boxplot(column='Annual_Salary', by='Department')"
   ]
  },
  {
   "cell_type": "markdown",
   "id": "883d98c9",
   "metadata": {},
   "source": [
    "## 37. Create a line plot showing the trend of 'Salary' over 'Years_At_Company'."
   ]
  },
  {
   "cell_type": "code",
   "execution_count": null,
   "id": "8a042d9a",
   "metadata": {},
   "outputs": [],
   "source": [
    "df.groupby('Years_At_Company')['Salary'].mean().plot()"
   ]
  },
  {
   "cell_type": "markdown",
   "id": "da435d2d",
   "metadata": {},
   "source": [
    "## 38. Create a heatmap for the correlation matrix."
   ]
  },
  {
   "cell_type": "code",
   "execution_count": null,
   "id": "f3174e25",
   "metadata": {},
   "outputs": [],
   "source": [
    "import seaborn as sns\n",
    "sns.heatmap(df.corr(), annot=True)"
   ]
  },
  {
   "cell_type": "markdown",
   "id": "d50e7ec1",
   "metadata": {},
   "source": [
    "## 39. Filter the dataset to include only employees with 'Education_Level' as 'Master's'."
   ]
  },
  {
   "cell_type": "code",
   "execution_count": null,
   "id": "03990ed3",
   "metadata": {},
   "outputs": [],
   "source": [
    "df_masters = df[df['Education_Level_Master's'] == 1]\n",
    "df_masters.head()"
   ]
  },
  {
   "cell_type": "markdown",
   "id": "cf921568",
   "metadata": {},
   "source": [
    "## 40. Replace outliers in 'Bonus' with the median value."
   ]
  },
  {
   "cell_type": "code",
   "execution_count": null,
   "id": "2800d945",
   "metadata": {},
   "outputs": [],
   "source": [
    "median_value = df['Bonus'].median()\n",
    "df.loc[df['Bonus'] > df['Bonus'].quantile(0.99), 'Bonus'] = median_value\n",
    "df.head()"
   ]
  },
  {
   "cell_type": "markdown",
   "id": "ceb1ca6a",
   "metadata": {},
   "source": [
    "## 41. Calculate the percentage of missing values in each column."
   ]
  },
  {
   "cell_type": "code",
   "execution_count": null,
   "id": "3b7c6587",
   "metadata": {},
   "outputs": [],
   "source": [
    "missing_percent = df.isnull().mean() * 100\n",
    "missing_percent"
   ]
  },
  {
   "cell_type": "markdown",
   "id": "25f2af50",
   "metadata": {},
   "source": [
    "## 42. Reorder the columns so that 'Employee_ID' is the first column."
   ]
  },
  {
   "cell_type": "code",
   "execution_count": null,
   "id": "5608582a",
   "metadata": {},
   "outputs": [],
   "source": [
    "df = df[['Employee_ID'] + [col for col in df.columns if col != 'Employee_ID']]\n",
    "df.head()"
   ]
  },
  {
   "cell_type": "markdown",
   "id": "dd39fcc7",
   "metadata": {},
   "source": [
    "## 43. Create a column 'High_Performer' which is True if 'Performance_Score' > 4, else False."
   ]
  },
  {
   "cell_type": "code",
   "execution_count": null,
   "id": "85f00bf9",
   "metadata": {},
   "outputs": [],
   "source": [
    "df['High_Performer'] = df['Performance_Score'] > 4\n",
    "df.head()"
   ]
  },
  {
   "cell_type": "markdown",
   "id": "c6820657",
   "metadata": {},
   "source": [
    "## 44. Split the dataset into training (80%) and testing (20%) sets based on 'Employee_ID'."
   ]
  },
  {
   "cell_type": "code",
   "execution_count": null,
   "id": "7769c1e7",
   "metadata": {},
   "outputs": [],
   "source": [
    "from sklearn.model_selection import train_test_split\n",
    "train, test = train_test_split(df, test_size=0.2, random_state=42)\n",
    "train.shape, test.shape"
   ]
  },
  {
   "cell_type": "markdown",
   "id": "18c82ef6",
   "metadata": {},
   "source": [
    "## 45. Create a pipeline to preprocess the 'Annual_Salary' and 'Performance_Score' columns."
   ]
  },
  {
   "cell_type": "code",
   "execution_count": null,
   "id": "cb3d1f90",
   "metadata": {},
   "outputs": [],
   "source": [
    "from sklearn.pipeline import Pipeline\n",
    "from sklearn.preprocessing import StandardScaler\n",
    "\n",
    "pipeline = Pipeline([\n",
    "    ('scaler', StandardScaler())\n",
    "])\n",
    "df[['Annual_Salary', 'Performance_Score']] = pipeline.fit_transform(df[['Annual_Salary', 'Performance_Score']])\n",
    "df.head()"
   ]
  },
  {
   "cell_type": "markdown",
   "id": "fd17f1bd",
   "metadata": {},
   "source": [
    "## 46. Export the cleaned dataset to a new CSV file."
   ]
  },
  {
   "cell_type": "code",
   "execution_count": null,
   "id": "547716fc",
   "metadata": {},
   "outputs": [],
   "source": [
    "df.to_csv('cleaned_employee_dataset.csv', index=False)"
   ]
  },
  {
   "cell_type": "markdown",
   "id": "2be7c8dc",
   "metadata": {},
   "source": [
    "## 47. Save the dataset in Excel format with multiple sheets based on 'Department'."
   ]
  },
  {
   "cell_type": "code",
   "execution_count": null,
   "id": "3e305c06",
   "metadata": {},
   "outputs": [],
   "source": [
    "with pd.ExcelWriter('employee_by_department.xlsx') as writer:\n",
    "    for department in df['Department'].unique():\n",
    "        df[df['Department'] == department].to_excel(writer, sheet_name=department, index=False)"
   ]
  },
  {
   "cell_type": "markdown",
   "id": "85c51c51",
   "metadata": {},
   "source": [
    "## 48. Create a summary report of the dataset including key statistics and visualizations."
   ]
  },
  {
   "cell_type": "code",
   "execution_count": null,
   "id": "75cd6e2d",
   "metadata": {},
   "outputs": [],
   "source": [
    "df.describe(include='all')"
   ]
  },
  {
   "cell_type": "markdown",
   "id": "13c8a90d",
   "metadata": {},
   "source": [
    "## 49. Write a function to automate the data cleaning process for this dataset."
   ]
  },
  {
   "cell_type": "code",
   "execution_count": null,
   "id": "a9f0e890",
   "metadata": {},
   "outputs": [],
   "source": [
    "def clean_data(df):\n",
    "    df.dropna(inplace=True)\n",
    "    df.drop_duplicates(inplace=True)\n",
    "    df.fillna(df.mean(), inplace=True)\n",
    "    return df\n",
    "\n",
    "cleaned_df = clean_data(df.copy())\n",
    "cleaned_df.head()"
   ]
  },
  {
   "cell_type": "markdown",
   "id": "b6a2842e",
   "metadata": {},
   "source": [
    "## 50. Create a new column 'Promotion_Potential' using a formula on 'Years_At_Company' and 'Performance_Score'."
   ]
  },
  {
   "cell_type": "code",
   "execution_count": null,
   "id": "d7a122d0",
   "metadata": {},
   "outputs": [],
   "source": [
    "df['Promotion_Potential'] = df['Years_At_Company'] * df['Performance_Score']\n",
    "df.head()"
   ]
  }
 ],
 "metadata": {},
 "nbformat": 4,
 "nbformat_minor": 5
}
