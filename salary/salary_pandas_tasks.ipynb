{
 "cells": [
  {
   "cell_type": "markdown",
   "id": "73cc0330",
   "metadata": {},
   "source": [
    "## 1. Load the dataset and display the first 5 rows."
   ]
  },
  {
   "cell_type": "code",
   "execution_count": null,
   "id": "40729c16",
   "metadata": {},
   "outputs": [],
   "source": [
    "# Your code here"
   ]
  },
  {
   "cell_type": "markdown",
   "id": "bf39a403",
   "metadata": {},
   "source": [
    "## 2. Display the summary statistics of the dataset."
   ]
  },
  {
   "cell_type": "code",
   "execution_count": null,
   "id": "9a13326c",
   "metadata": {},
   "outputs": [],
   "source": [
    "# Your code here"
   ]
  },
  {
   "cell_type": "markdown",
   "id": "84a108f2",
   "metadata": {},
   "source": [
    "## 3. Check for missing values in the dataset."
   ]
  },
  {
   "cell_type": "code",
   "execution_count": null,
   "id": "761807c0",
   "metadata": {},
   "outputs": [],
   "source": [
    "# Your code here"
   ]
  },
  {
   "cell_type": "markdown",
   "id": "9068758e",
   "metadata": {},
   "source": [
    "## 4. Drop rows with any missing values."
   ]
  },
  {
   "cell_type": "code",
   "execution_count": null,
   "id": "c1fa17f8",
   "metadata": {},
   "outputs": [],
   "source": [
    "# Your code here"
   ]
  },
  {
   "cell_type": "markdown",
   "id": "61b79677",
   "metadata": {},
   "source": [
    "## 5. Fill missing values with the mean for numerical columns."
   ]
  },
  {
   "cell_type": "code",
   "execution_count": null,
   "id": "8bef64a6",
   "metadata": {},
   "outputs": [],
   "source": [
    "# Your code here"
   ]
  },
  {
   "cell_type": "markdown",
   "id": "f841168e",
   "metadata": {},
   "source": [
    "## 6. Fill missing values with the mode for categorical columns."
   ]
  },
  {
   "cell_type": "code",
   "execution_count": null,
   "id": "36dfaa4e",
   "metadata": {},
   "outputs": [],
   "source": [
    "# Your code here"
   ]
  },
  {
   "cell_type": "markdown",
   "id": "18ef12a9",
   "metadata": {},
   "source": [
    "## 7. Create a new column 'Salary_Range' by categorizing 'Base_Salary' into Low, Medium, High."
   ]
  },
  {
   "cell_type": "code",
   "execution_count": null,
   "id": "d3f8cadd",
   "metadata": {},
   "outputs": [],
   "source": [
    "# Your code here"
   ]
  },
  {
   "cell_type": "markdown",
   "id": "b7d0eda1",
   "metadata": {},
   "source": [
    "## 8. Calculate the correlation matrix for numerical columns."
   ]
  },
  {
   "cell_type": "code",
   "execution_count": null,
   "id": "8aace562",
   "metadata": {},
   "outputs": [],
   "source": [
    "# Your code here"
   ]
  },
  {
   "cell_type": "markdown",
   "id": "70509280",
   "metadata": {},
   "source": [
    "## 9. Plot a histogram for the 'Total_Compensation' column."
   ]
  },
  {
   "cell_type": "code",
   "execution_count": null,
   "id": "c2bf0820",
   "metadata": {},
   "outputs": [],
   "source": [
    "# Your code here"
   ]
  },
  {
   "cell_type": "markdown",
   "id": "469bff71",
   "metadata": {},
   "source": [
    "## 10. Plot a bar chart for the 'Department' column."
   ]
  },
  {
   "cell_type": "code",
   "execution_count": null,
   "id": "933d0144",
   "metadata": {},
   "outputs": [],
   "source": [
    "# Your code here"
   ]
  },
  {
   "cell_type": "markdown",
   "id": "127b2f59",
   "metadata": {},
   "source": [
    "## 11. Plot a scatter plot between 'Years_of_Experience' and 'Base_Salary'."
   ]
  },
  {
   "cell_type": "code",
   "execution_count": null,
   "id": "e9fe9695",
   "metadata": {},
   "outputs": [],
   "source": [
    "# Your code here"
   ]
  },
  {
   "cell_type": "markdown",
   "id": "094b91e7",
   "metadata": {},
   "source": [
    "## 12. Encode the 'Education_Level' column using one-hot encoding."
   ]
  },
  {
   "cell_type": "code",
   "execution_count": null,
   "id": "eb9a3263",
   "metadata": {},
   "outputs": [],
   "source": [
    "# Your code here"
   ]
  },
  {
   "cell_type": "markdown",
   "id": "c0aab9ac",
   "metadata": {},
   "source": [
    "## 13. Normalize the 'Base_Salary' column using Min-Max scaling."
   ]
  },
  {
   "cell_type": "code",
   "execution_count": null,
   "id": "f3bd4da9",
   "metadata": {},
   "outputs": [],
   "source": [
    "# Your code here"
   ]
  },
  {
   "cell_type": "markdown",
   "id": "76eb198e",
   "metadata": {},
   "source": [
    "## 14. Standardize the 'Performance_Rating' column."
   ]
  },
  {
   "cell_type": "code",
   "execution_count": null,
   "id": "049e2ccb",
   "metadata": {},
   "outputs": [],
   "source": [
    "# Your code here"
   ]
  },
  {
   "cell_type": "markdown",
   "id": "1dc283d7",
   "metadata": {},
   "source": [
    "## 15. Create a pivot table showing the average 'Base_Salary' for each 'Role'."
   ]
  },
  {
   "cell_type": "code",
   "execution_count": null,
   "id": "ddd8ea11",
   "metadata": {},
   "outputs": [],
   "source": [
    "# Your code here"
   ]
  },
  {
   "cell_type": "markdown",
   "id": "fb6bd186",
   "metadata": {},
   "source": [
    "## 16. Group the data by 'Gender' and calculate the mean 'Total_Compensation'."
   ]
  },
  {
   "cell_type": "code",
   "execution_count": null,
   "id": "cafa7be6",
   "metadata": {},
   "outputs": [],
   "source": [
    "# Your code here"
   ]
  },
  {
   "cell_type": "markdown",
   "id": "728909f9",
   "metadata": {},
   "source": [
    "## 17. Filter the dataset for employees with 'Total_Compensation' greater than 100000."
   ]
  },
  {
   "cell_type": "code",
   "execution_count": null,
   "id": "6336f148",
   "metadata": {},
   "outputs": [],
   "source": [
    "# Your code here"
   ]
  },
  {
   "cell_type": "markdown",
   "id": "d101fad8",
   "metadata": {},
   "source": [
    "## 18. Sort the dataset by 'Years_of_Experience' in descending order."
   ]
  },
  {
   "cell_type": "code",
   "execution_count": null,
   "id": "74cc9d38",
   "metadata": {},
   "outputs": [],
   "source": [
    "# Your code here"
   ]
  },
  {
   "cell_type": "markdown",
   "id": "8c68ac89",
   "metadata": {},
   "source": [
    "## 19. Create a new column 'Bonus_Percentage' by dividing 'Bonus' by 'Base_Salary'."
   ]
  },
  {
   "cell_type": "code",
   "execution_count": null,
   "id": "340d09fa",
   "metadata": {},
   "outputs": [],
   "source": [
    "# Your code here"
   ]
  },
  {
   "cell_type": "markdown",
   "id": "14f892de",
   "metadata": {},
   "source": [
    "## 20. Replace all instances of 'Other' in the 'Gender' column with 'Non-binary'."
   ]
  },
  {
   "cell_type": "code",
   "execution_count": null,
   "id": "62e9a302",
   "metadata": {},
   "outputs": [],
   "source": [
    "# Your code here"
   ]
  },
  {
   "cell_type": "markdown",
   "id": "c0ef72e3",
   "metadata": {},
   "source": [
    "## 21. Rename the column 'Base_Salary' to 'Annual_Salary'."
   ]
  },
  {
   "cell_type": "code",
   "execution_count": null,
   "id": "5f038bbd",
   "metadata": {},
   "outputs": [],
   "source": [
    "# Your code here"
   ]
  },
  {
   "cell_type": "markdown",
   "id": "26345e74",
   "metadata": {},
   "source": [
    "## 22. Drop the 'City' column from the dataset."
   ]
  },
  {
   "cell_type": "code",
   "execution_count": null,
   "id": "e88fb7fa",
   "metadata": {},
   "outputs": [],
   "source": [
    "# Your code here"
   ]
  },
  {
   "cell_type": "markdown",
   "id": "87603b7d",
   "metadata": {},
   "source": [
    "## 23. Check for duplicate rows in the dataset."
   ]
  },
  {
   "cell_type": "code",
   "execution_count": null,
   "id": "177e5f42",
   "metadata": {},
   "outputs": [],
   "source": [
    "# Your code here"
   ]
  },
  {
   "cell_type": "markdown",
   "id": "4ffa3c5b",
   "metadata": {},
   "source": [
    "## 24. Drop any duplicate rows found."
   ]
  },
  {
   "cell_type": "code",
   "execution_count": null,
   "id": "f8f7f9ce",
   "metadata": {},
   "outputs": [],
   "source": [
    "# Your code here"
   ]
  },
  {
   "cell_type": "markdown",
   "id": "dd8f4102",
   "metadata": {},
   "source": [
    "## 25. Create a new DataFrame containing only 'Employee_ID', 'Name', and 'Total_Compensation'."
   ]
  },
  {
   "cell_type": "code",
   "execution_count": null,
   "id": "216de21a",
   "metadata": {},
   "outputs": [],
   "source": [
    "# Your code here"
   ]
  },
  {
   "cell_type": "markdown",
   "id": "d2905bbb",
   "metadata": {},
   "source": [
    "## 26. Merge the new DataFrame with the original dataset on 'Employee_ID'."
   ]
  },
  {
   "cell_type": "code",
   "execution_count": null,
   "id": "f13dacbd",
   "metadata": {},
   "outputs": [],
   "source": [
    "# Your code here"
   ]
  },
  {
   "cell_type": "markdown",
   "id": "80529b05",
   "metadata": {},
   "source": [
    "## 27. Create a cross-tabulation of 'Department' and 'Gender'."
   ]
  },
  {
   "cell_type": "code",
   "execution_count": null,
   "id": "1c378eda",
   "metadata": {},
   "outputs": [],
   "source": [
    "# Your code here"
   ]
  },
  {
   "cell_type": "markdown",
   "id": "babfd278",
   "metadata": {},
   "source": [
    "## 28. Create a pivot table showing the count of employees by 'Education_Level' and 'Role'."
   ]
  },
  {
   "cell_type": "code",
   "execution_count": null,
   "id": "ea1f0700",
   "metadata": {},
   "outputs": [],
   "source": [
    "# Your code here"
   ]
  },
  {
   "cell_type": "markdown",
   "id": "82826f46",
   "metadata": {},
   "source": [
    "## 29. Replace missing values in 'Performance_Rating' with the median."
   ]
  },
  {
   "cell_type": "code",
   "execution_count": null,
   "id": "9703cf29",
   "metadata": {},
   "outputs": [],
   "source": [
    "# Your code here"
   ]
  },
  {
   "cell_type": "markdown",
   "id": "181000fb",
   "metadata": {},
   "source": [
    "## 30. Calculate the Z-score for the 'Annual_Salary' column."
   ]
  },
  {
   "cell_type": "code",
   "execution_count": null,
   "id": "c1158295",
   "metadata": {},
   "outputs": [],
   "source": [
    "# Your code here"
   ]
  },
  {
   "cell_type": "markdown",
   "id": "2c16647d",
   "metadata": {},
   "source": [
    "## 31. Filter out outliers in the 'Annual_Salary' column based on Z-score."
   ]
  },
  {
   "cell_type": "code",
   "execution_count": null,
   "id": "e8887977",
   "metadata": {},
   "outputs": [],
   "source": [
    "# Your code here"
   ]
  },
  {
   "cell_type": "markdown",
   "id": "687ae216",
   "metadata": {},
   "source": [
    "## 32. Apply a lambda function to the 'Total_Compensation' column to categorize into 'Low', 'Medium', 'High'."
   ]
  },
  {
   "cell_type": "code",
   "execution_count": null,
   "id": "ed14cf25",
   "metadata": {},
   "outputs": [],
   "source": [
    "# Your code here"
   ]
  },
  {
   "cell_type": "markdown",
   "id": "f1717fb0",
   "metadata": {},
   "source": [
    "## 33. Create a new column 'Years_to_Retirement' by subtracting 'Age' from 65."
   ]
  },
  {
   "cell_type": "code",
   "execution_count": null,
   "id": "df95252d",
   "metadata": {},
   "outputs": [],
   "source": [
    "# Your code here"
   ]
  },
  {
   "cell_type": "markdown",
   "id": "87ec7018",
   "metadata": {},
   "source": [
    "## 34. Extract the first letter from 'Name' and create a new column 'Name_Initial'."
   ]
  },
  {
   "cell_type": "code",
   "execution_count": null,
   "id": "1996db6f",
   "metadata": {},
   "outputs": [],
   "source": [
    "# Your code here"
   ]
  },
  {
   "cell_type": "markdown",
   "id": "65ccf602",
   "metadata": {},
   "source": [
    "## 35. Convert the 'Role' column to a categorical data type."
   ]
  },
  {
   "cell_type": "code",
   "execution_count": null,
   "id": "7093868a",
   "metadata": {},
   "outputs": [],
   "source": [
    "# Your code here"
   ]
  },
  {
   "cell_type": "markdown",
   "id": "1ee789da",
   "metadata": {},
   "source": [
    "## 36. Create a box plot for 'Annual_Salary' across different 'Department'."
   ]
  },
  {
   "cell_type": "code",
   "execution_count": null,
   "id": "8f4540c4",
   "metadata": {},
   "outputs": [],
   "source": [
    "# Your code here"
   ]
  },
  {
   "cell_type": "markdown",
   "id": "e73aab0d",
   "metadata": {},
   "source": [
    "## 37. Create a line plot showing the trend of 'Total_Compensation' over 'Years_of_Experience'."
   ]
  },
  {
   "cell_type": "code",
   "execution_count": null,
   "id": "3fe3db78",
   "metadata": {},
   "outputs": [],
   "source": [
    "# Your code here"
   ]
  },
  {
   "cell_type": "markdown",
   "id": "81ce55f2",
   "metadata": {},
   "source": [
    "## 38. Create a heatmap for the correlation matrix."
   ]
  },
  {
   "cell_type": "code",
   "execution_count": null,
   "id": "2aeebf44",
   "metadata": {},
   "outputs": [],
   "source": [
    "# Your code here"
   ]
  },
  {
   "cell_type": "markdown",
   "id": "b28f168d",
   "metadata": {},
   "source": [
    "## 39. Filter the dataset to include only employees with 'Education_Level' as 'Master's'."
   ]
  },
  {
   "cell_type": "code",
   "execution_count": null,
   "id": "c0fb252a",
   "metadata": {},
   "outputs": [],
   "source": [
    "# Your code here"
   ]
  },
  {
   "cell_type": "markdown",
   "id": "3df83830",
   "metadata": {},
   "source": [
    "## 40. Replace outliers in 'Bonus' with the median value."
   ]
  },
  {
   "cell_type": "code",
   "execution_count": null,
   "id": "79e09411",
   "metadata": {},
   "outputs": [],
   "source": [
    "# Your code here"
   ]
  },
  {
   "cell_type": "markdown",
   "id": "5fb5935a",
   "metadata": {},
   "source": [
    "## 41. Calculate the percentage of missing values in each column."
   ]
  },
  {
   "cell_type": "code",
   "execution_count": null,
   "id": "2a2f2302",
   "metadata": {},
   "outputs": [],
   "source": [
    "# Your code here"
   ]
  },
  {
   "cell_type": "markdown",
   "id": "75a10b64",
   "metadata": {},
   "source": [
    "## 42. Reorder the columns so that 'Employee_ID' is the first column."
   ]
  },
  {
   "cell_type": "code",
   "execution_count": null,
   "id": "500b95bb",
   "metadata": {},
   "outputs": [],
   "source": [
    "# Your code here"
   ]
  },
  {
   "cell_type": "markdown",
   "id": "b4415f11",
   "metadata": {},
   "source": [
    "## 43. Create a column 'High_Performer' which is True if 'Performance_Rating' > 4, else False."
   ]
  },
  {
   "cell_type": "code",
   "execution_count": null,
   "id": "0df4eea4",
   "metadata": {},
   "outputs": [],
   "source": [
    "# Your code here"
   ]
  },
  {
   "cell_type": "markdown",
   "id": "3c3d1473",
   "metadata": {},
   "source": [
    "## 44. Split the dataset into training (80%) and testing (20%) sets based on 'Employee_ID'."
   ]
  },
  {
   "cell_type": "code",
   "execution_count": null,
   "id": "eeecfa3f",
   "metadata": {},
   "outputs": [],
   "source": [
    "# Your code here"
   ]
  },
  {
   "cell_type": "markdown",
   "id": "c8851671",
   "metadata": {},
   "source": [
    "## 45. Create a pipeline to preprocess the 'Annual_Salary' and 'Performance_Rating' columns."
   ]
  },
  {
   "cell_type": "code",
   "execution_count": null,
   "id": "3494f75e",
   "metadata": {},
   "outputs": [],
   "source": [
    "# Your code here"
   ]
  },
  {
   "cell_type": "markdown",
   "id": "1c8de6f1",
   "metadata": {},
   "source": [
    "## 46. Export the cleaned dataset to a new CSV file."
   ]
  },
  {
   "cell_type": "code",
   "execution_count": null,
   "id": "ce27d4e2",
   "metadata": {},
   "outputs": [],
   "source": [
    "# Your code here"
   ]
  },
  {
   "cell_type": "markdown",
   "id": "abe668e9",
   "metadata": {},
   "source": [
    "## 47. Save the dataset in Excel format with multiple sheets based on 'Department'."
   ]
  },
  {
   "cell_type": "code",
   "execution_count": null,
   "id": "7bad4e03",
   "metadata": {},
   "outputs": [],
   "source": [
    "# Your code here"
   ]
  },
  {
   "cell_type": "markdown",
   "id": "e0b763c8",
   "metadata": {},
   "source": [
    "## 48. Create a summary report of the dataset including key statistics and visualizations."
   ]
  },
  {
   "cell_type": "code",
   "execution_count": null,
   "id": "f3985bdd",
   "metadata": {},
   "outputs": [],
   "source": [
    "# Your code here"
   ]
  },
  {
   "cell_type": "markdown",
   "id": "1afbe956",
   "metadata": {},
   "source": [
    "## 49. Write a function to automate the data cleaning process for this dataset."
   ]
  },
  {
   "cell_type": "code",
   "execution_count": null,
   "id": "55a0a398",
   "metadata": {},
   "outputs": [],
   "source": [
    "# Your code here"
   ]
  },
  {
   "cell_type": "markdown",
   "id": "6817e026",
   "metadata": {},
   "source": [
    "## 50. Create a new column 'Compensation_Growth_Potential' using a formula on 'Years_of_Experience' and 'Performance_Rating'."
   ]
  },
  {
   "cell_type": "code",
   "execution_count": null,
   "id": "6ba7fcd6",
   "metadata": {},
   "outputs": [],
   "source": [
    "# Your code here"
   ]
  }
 ],
 "metadata": {},
 "nbformat": 4,
 "nbformat_minor": 5
}
