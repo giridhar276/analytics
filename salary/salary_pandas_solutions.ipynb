{
 "cells": [
  {
   "cell_type": "markdown",
   "id": "0114217a",
   "metadata": {},
   "source": [
    "## 1. Load the dataset and display the first 5 rows."
   ]
  },
  {
   "cell_type": "code",
   "execution_count": null,
   "id": "b98cc2f1",
   "metadata": {},
   "outputs": [],
   "source": [
    "import pandas as pd\n",
    "\n",
    "# Load the dataset\n",
    "df = pd.read_csv('salary_dataset.csv')\n",
    "df.head()"
   ]
  },
  {
   "cell_type": "markdown",
   "id": "363501b1",
   "metadata": {},
   "source": [
    "## 2. Display the summary statistics of the dataset."
   ]
  },
  {
   "cell_type": "code",
   "execution_count": null,
   "id": "3af46cb9",
   "metadata": {},
   "outputs": [],
   "source": [
    "df.describe()"
   ]
  },
  {
   "cell_type": "markdown",
   "id": "03abb721",
   "metadata": {},
   "source": [
    "## 3. Check for missing values in the dataset."
   ]
  },
  {
   "cell_type": "code",
   "execution_count": null,
   "id": "713d3e16",
   "metadata": {},
   "outputs": [],
   "source": [
    "df.isnull().sum()"
   ]
  },
  {
   "cell_type": "markdown",
   "id": "c9f3a1dd",
   "metadata": {},
   "source": [
    "## 4. Drop rows with any missing values."
   ]
  },
  {
   "cell_type": "code",
   "execution_count": null,
   "id": "322cd005",
   "metadata": {},
   "outputs": [],
   "source": [
    "df.dropna(inplace=True)\n",
    "df.head()"
   ]
  },
  {
   "cell_type": "markdown",
   "id": "aaaee082",
   "metadata": {},
   "source": [
    "## 5. Fill missing values with the mean for numerical columns."
   ]
  },
  {
   "cell_type": "code",
   "execution_count": null,
   "id": "783de4e3",
   "metadata": {},
   "outputs": [],
   "source": [
    "df.fillna(df.mean(), inplace=True)\n",
    "df.head()"
   ]
  },
  {
   "cell_type": "markdown",
   "id": "9af0e3f6",
   "metadata": {},
   "source": [
    "## 6. Fill missing values with the mode for categorical columns."
   ]
  },
  {
   "cell_type": "code",
   "execution_count": null,
   "id": "718058e1",
   "metadata": {},
   "outputs": [],
   "source": [
    "df.fillna(df.mode().iloc[0], inplace=True)\n",
    "df.head()"
   ]
  },
  {
   "cell_type": "markdown",
   "id": "e2742e6e",
   "metadata": {},
   "source": [
    "## 7. Create a new column 'Salary_Range' by categorizing 'Base_Salary' into Low, Medium, High."
   ]
  },
  {
   "cell_type": "code",
   "execution_count": null,
   "id": "837382c5",
   "metadata": {},
   "outputs": [],
   "source": [
    "bins = [0, 60000, 100000, 150000]\n",
    "labels = ['Low', 'Medium', 'High']\n",
    "df['Salary_Range'] = pd.cut(df['Base_Salary'], bins=bins, labels=labels)\n",
    "df.head()"
   ]
  },
  {
   "cell_type": "markdown",
   "id": "49f2810c",
   "metadata": {},
   "source": [
    "## 8. Calculate the correlation matrix for numerical columns."
   ]
  },
  {
   "cell_type": "code",
   "execution_count": null,
   "id": "cd6be05f",
   "metadata": {},
   "outputs": [],
   "source": [
    "df.corr()"
   ]
  },
  {
   "cell_type": "markdown",
   "id": "898cde1e",
   "metadata": {},
   "source": [
    "## 9. Plot a histogram for the 'Total_Compensation' column."
   ]
  },
  {
   "cell_type": "code",
   "execution_count": null,
   "id": "5b0c9ae4",
   "metadata": {},
   "outputs": [],
   "source": [
    "df['Total_Compensation'].hist(bins=20)"
   ]
  },
  {
   "cell_type": "markdown",
   "id": "cbb0d449",
   "metadata": {},
   "source": [
    "## 10. Plot a bar chart for the 'Department' column."
   ]
  },
  {
   "cell_type": "code",
   "execution_count": null,
   "id": "8e9fb612",
   "metadata": {},
   "outputs": [],
   "source": [
    "df['Department'].value_counts().plot(kind='bar')"
   ]
  },
  {
   "cell_type": "markdown",
   "id": "f14b2709",
   "metadata": {},
   "source": [
    "## 11. Plot a scatter plot between 'Years_of_Experience' and 'Base_Salary'."
   ]
  },
  {
   "cell_type": "code",
   "execution_count": null,
   "id": "04d18c8f",
   "metadata": {},
   "outputs": [],
   "source": [
    "df.plot.scatter(x='Years_of_Experience', y='Base_Salary')"
   ]
  },
  {
   "cell_type": "markdown",
   "id": "5dbd3b6d",
   "metadata": {},
   "source": [
    "## 12. Encode the 'Education_Level' column using one-hot encoding."
   ]
  },
  {
   "cell_type": "code",
   "execution_count": null,
   "id": "5ecea7f2",
   "metadata": {},
   "outputs": [],
   "source": [
    "df = pd.get_dummies(df, columns=['Education_Level'])\n",
    "df.head()"
   ]
  },
  {
   "cell_type": "markdown",
   "id": "969e67de",
   "metadata": {},
   "source": [
    "## 13. Normalize the 'Base_Salary' column using Min-Max scaling."
   ]
  },
  {
   "cell_type": "code",
   "execution_count": null,
   "id": "ad7a8ccb",
   "metadata": {},
   "outputs": [],
   "source": [
    "from sklearn.preprocessing import MinMaxScaler\n",
    "scaler = MinMaxScaler()\n",
    "df['Base_Salary'] = scaler.fit_transform(df[['Base_Salary']])\n",
    "df.head()"
   ]
  },
  {
   "cell_type": "markdown",
   "id": "8b2ce73c",
   "metadata": {},
   "source": [
    "## 14. Standardize the 'Performance_Rating' column."
   ]
  },
  {
   "cell_type": "code",
   "execution_count": null,
   "id": "6a6ece6c",
   "metadata": {},
   "outputs": [],
   "source": [
    "from sklearn.preprocessing import StandardScaler\n",
    "scaler = StandardScaler()\n",
    "df['Performance_Rating'] = scaler.fit_transform(df[['Performance_Rating']])\n",
    "df.head()"
   ]
  },
  {
   "cell_type": "markdown",
   "id": "d1e8d14c",
   "metadata": {},
   "source": [
    "## 15. Create a pivot table showing the average 'Base_Salary' for each 'Role'."
   ]
  },
  {
   "cell_type": "code",
   "execution_count": null,
   "id": "66ae3bb9",
   "metadata": {},
   "outputs": [],
   "source": [
    "df.pivot_table(values='Base_Salary', index='Role', aggfunc='mean')"
   ]
  },
  {
   "cell_type": "markdown",
   "id": "090a4117",
   "metadata": {},
   "source": [
    "## 16. Group the data by 'Gender' and calculate the mean 'Total_Compensation'."
   ]
  },
  {
   "cell_type": "code",
   "execution_count": null,
   "id": "c1600dee",
   "metadata": {},
   "outputs": [],
   "source": [
    "df.groupby('Gender')['Total_Compensation'].mean()"
   ]
  },
  {
   "cell_type": "markdown",
   "id": "dfa00945",
   "metadata": {},
   "source": [
    "## 17. Filter the dataset for employees with 'Total_Compensation' greater than 100000."
   ]
  },
  {
   "cell_type": "code",
   "execution_count": null,
   "id": "e35cfe1b",
   "metadata": {},
   "outputs": [],
   "source": [
    "df_filtered = df[df['Total_Compensation'] > 100000]\n",
    "df_filtered.head()"
   ]
  },
  {
   "cell_type": "markdown",
   "id": "563d42ab",
   "metadata": {},
   "source": [
    "## 18. Sort the dataset by 'Years_of_Experience' in descending order."
   ]
  },
  {
   "cell_type": "code",
   "execution_count": null,
   "id": "a96be104",
   "metadata": {},
   "outputs": [],
   "source": [
    "df.sort_values(by='Years_of_Experience', ascending=False).head()"
   ]
  },
  {
   "cell_type": "markdown",
   "id": "1a087bd3",
   "metadata": {},
   "source": [
    "## 19. Create a new column 'Bonus_Percentage' by dividing 'Bonus' by 'Base_Salary'."
   ]
  },
  {
   "cell_type": "code",
   "execution_count": null,
   "id": "c5371f1e",
   "metadata": {},
   "outputs": [],
   "source": [
    "df['Bonus_Percentage'] = df['Bonus'] / df['Base_Salary']\n",
    "df.head()"
   ]
  },
  {
   "cell_type": "markdown",
   "id": "18adb807",
   "metadata": {},
   "source": [
    "## 20. Replace all instances of 'Other' in the 'Gender' column with 'Non-binary'."
   ]
  },
  {
   "cell_type": "code",
   "execution_count": null,
   "id": "754abdbe",
   "metadata": {},
   "outputs": [],
   "source": [
    "df['Gender'].replace('Other', 'Non-binary', inplace=True)\n",
    "df.head()"
   ]
  },
  {
   "cell_type": "markdown",
   "id": "8cc9ec21",
   "metadata": {},
   "source": [
    "## 21. Rename the column 'Base_Salary' to 'Annual_Salary'."
   ]
  },
  {
   "cell_type": "code",
   "execution_count": null,
   "id": "87601c40",
   "metadata": {},
   "outputs": [],
   "source": [
    "df.rename(columns={'Base_Salary': 'Annual_Salary'}, inplace=True)\n",
    "df.head()"
   ]
  },
  {
   "cell_type": "markdown",
   "id": "9144dc01",
   "metadata": {},
   "source": [
    "## 22. Drop the 'City' column from the dataset."
   ]
  },
  {
   "cell_type": "code",
   "execution_count": null,
   "id": "187f0469",
   "metadata": {},
   "outputs": [],
   "source": [
    "df.drop(columns=['City'], inplace=True)\n",
    "df.head()"
   ]
  },
  {
   "cell_type": "markdown",
   "id": "e1b635d4",
   "metadata": {},
   "source": [
    "## 23. Check for duplicate rows in the dataset."
   ]
  },
  {
   "cell_type": "code",
   "execution_count": null,
   "id": "80e55a9f",
   "metadata": {},
   "outputs": [],
   "source": [
    "df.duplicated().sum()"
   ]
  },
  {
   "cell_type": "markdown",
   "id": "26688332",
   "metadata": {},
   "source": [
    "## 24. Drop any duplicate rows found."
   ]
  },
  {
   "cell_type": "code",
   "execution_count": null,
   "id": "d6cd3550",
   "metadata": {},
   "outputs": [],
   "source": [
    "df.drop_duplicates(inplace=True)\n",
    "df.head()"
   ]
  },
  {
   "cell_type": "markdown",
   "id": "64494cbb",
   "metadata": {},
   "source": [
    "## 25. Create a new DataFrame containing only 'Employee_ID', 'Name', and 'Total_Compensation'."
   ]
  },
  {
   "cell_type": "code",
   "execution_count": null,
   "id": "368835ea",
   "metadata": {},
   "outputs": [],
   "source": [
    "df_subset = df[['Employee_ID', 'Name', 'Total_Compensation']]\n",
    "df_subset.head()"
   ]
  },
  {
   "cell_type": "markdown",
   "id": "b2f4b412",
   "metadata": {},
   "source": [
    "## 26. Merge the new DataFrame with the original dataset on 'Employee_ID'."
   ]
  },
  {
   "cell_type": "code",
   "execution_count": null,
   "id": "2f880a81",
   "metadata": {},
   "outputs": [],
   "source": [
    "df_merged = pd.merge(df_subset, df, on='Employee_ID')\n",
    "df_merged.head()"
   ]
  },
  {
   "cell_type": "markdown",
   "id": "7358ab8a",
   "metadata": {},
   "source": [
    "## 27. Create a cross-tabulation of 'Department' and 'Gender'."
   ]
  },
  {
   "cell_type": "code",
   "execution_count": null,
   "id": "9611a67d",
   "metadata": {},
   "outputs": [],
   "source": [
    "pd.crosstab(df['Department'], df['Gender'])"
   ]
  },
  {
   "cell_type": "markdown",
   "id": "9f6815aa",
   "metadata": {},
   "source": [
    "## 28. Create a pivot table showing the count of employees by 'Education_Level' and 'Role'."
   ]
  },
  {
   "cell_type": "code",
   "execution_count": null,
   "id": "9780815f",
   "metadata": {},
   "outputs": [],
   "source": [
    "df.pivot_table(index='Education_Level_Bachelor\\'s', columns='Role', aggfunc='size', fill_value=0)"
   ]
  },
  {
   "cell_type": "markdown",
   "id": "ed6e8741",
   "metadata": {},
   "source": [
    "## 29. Replace missing values in 'Performance_Rating' with the median."
   ]
  },
  {
   "cell_type": "code",
   "execution_count": null,
   "id": "d286d756",
   "metadata": {},
   "outputs": [],
   "source": [
    "df['Performance_Rating'].fillna(df['Performance_Rating'].median(), inplace=True)\n",
    "df.head()"
   ]
  },
  {
   "cell_type": "markdown",
   "id": "d26f08c0",
   "metadata": {},
   "source": [
    "## 30. Calculate the Z-score for the 'Annual_Salary' column."
   ]
  },
  {
   "cell_type": "code",
   "execution_count": null,
   "id": "921b52b5",
   "metadata": {},
   "outputs": [],
   "source": [
    "from scipy.stats import zscore\n",
    "df['Annual_Salary_Zscore'] = zscore(df['Annual_Salary'])\n",
    "df.head()"
   ]
  },
  {
   "cell_type": "markdown",
   "id": "511b88c8",
   "metadata": {},
   "source": [
    "## 31. Filter out outliers in the 'Annual_Salary' column based on Z-score."
   ]
  },
  {
   "cell_type": "code",
   "execution_count": null,
   "id": "5eb43261",
   "metadata": {},
   "outputs": [],
   "source": [
    "df_no_outliers = df[(df['Annual_Salary_Zscore'] > -3) & (df['Annual_Salary_Zscore'] < 3)]\n",
    "df_no_outliers.head()"
   ]
  },
  {
   "cell_type": "markdown",
   "id": "d501d02d",
   "metadata": {},
   "source": [
    "## 32. Apply a lambda function to the 'Total_Compensation' column to categorize into 'Low', 'Medium', 'High'."
   ]
  },
  {
   "cell_type": "code",
   "execution_count": null,
   "id": "f704f973",
   "metadata": {},
   "outputs": [],
   "source": [
    "df['Total_Compensation_Category'] = df['Total_Compensation'].apply(lambda x: 'Low' if x < 75000 else 'Medium' if x < 125000 else 'High')\n",
    "df.head()"
   ]
  },
  {
   "cell_type": "markdown",
   "id": "febd29ab",
   "metadata": {},
   "source": [
    "## 33. Create a new column 'Years_to_Retirement' by subtracting 'Age' from 65."
   ]
  },
  {
   "cell_type": "code",
   "execution_count": null,
   "id": "61890df2",
   "metadata": {},
   "outputs": [],
   "source": [
    "df['Years_to_Retirement'] = 65 - df['Age']\n",
    "df.head()"
   ]
  },
  {
   "cell_type": "markdown",
   "id": "5cf3a798",
   "metadata": {},
   "source": [
    "## 34. Extract the first letter from 'Name' and create a new column 'Name_Initial'."
   ]
  },
  {
   "cell_type": "code",
   "execution_count": null,
   "id": "311ab7e4",
   "metadata": {},
   "outputs": [],
   "source": [
    "df['Name_Initial'] = df['Name'].str[0]\n",
    "df.head()"
   ]
  },
  {
   "cell_type": "markdown",
   "id": "33fbd14d",
   "metadata": {},
   "source": [
    "## 35. Convert the 'Role' column to a categorical data type."
   ]
  },
  {
   "cell_type": "code",
   "execution_count": null,
   "id": "6ada2206",
   "metadata": {},
   "outputs": [],
   "source": [
    "df['Role'] = df['Role'].astype('category')\n",
    "df.dtypes"
   ]
  },
  {
   "cell_type": "markdown",
   "id": "d5a3b5e7",
   "metadata": {},
   "source": [
    "## 36. Create a box plot for 'Annual_Salary' across different 'Department'."
   ]
  },
  {
   "cell_type": "code",
   "execution_count": null,
   "id": "34a376d9",
   "metadata": {},
   "outputs": [],
   "source": [
    "df.boxplot(column='Annual_Salary', by='Department')"
   ]
  },
  {
   "cell_type": "markdown",
   "id": "90358d59",
   "metadata": {},
   "source": [
    "## 37. Create a line plot showing the trend of 'Total_Compensation' over 'Years_of_Experience'."
   ]
  },
  {
   "cell_type": "code",
   "execution_count": null,
   "id": "a1ff10ca",
   "metadata": {},
   "outputs": [],
   "source": [
    "df.groupby('Years_of_Experience')['Total_Compensation'].mean().plot()"
   ]
  },
  {
   "cell_type": "markdown",
   "id": "0ae91fc7",
   "metadata": {},
   "source": [
    "## 38. Create a heatmap for the correlation matrix."
   ]
  },
  {
   "cell_type": "code",
   "execution_count": null,
   "id": "e5cb0398",
   "metadata": {},
   "outputs": [],
   "source": [
    "import seaborn as sns\n",
    "sns.heatmap(df.corr(), annot=True)"
   ]
  },
  {
   "cell_type": "markdown",
   "id": "bd712c5f",
   "metadata": {},
   "source": [
    "## 39. Filter the dataset to include only employees with 'Education_Level' as 'Master's'."
   ]
  },
  {
   "cell_type": "code",
   "execution_count": null,
   "id": "989fc24d",
   "metadata": {},
   "outputs": [],
   "source": [
    "df_masters = df[df['Education_Level_Master\\'s'] == 1]\n",
    "df_masters.head()"
   ]
  },
  {
   "cell_type": "markdown",
   "id": "fa9d6a88",
   "metadata": {},
   "source": [
    "## 40. Replace outliers in 'Bonus' with the median value."
   ]
  },
  {
   "cell_type": "code",
   "execution_count": null,
   "id": "581a14c1",
   "metadata": {},
   "outputs": [],
   "source": [
    "median_value = df['Bonus'].median()\n",
    "df.loc[df['Bonus'] > df['Bonus'].quantile(0.99), 'Bonus'] = median_value\n",
    "df.head()"
   ]
  },
  {
   "cell_type": "markdown",
   "id": "05b5796f",
   "metadata": {},
   "source": [
    "## 41. Calculate the percentage of missing values in each column."
   ]
  },
  {
   "cell_type": "code",
   "execution_count": null,
   "id": "f515a8f4",
   "metadata": {},
   "outputs": [],
   "source": [
    "missing_percent = df.isnull().mean() * 100\n",
    "missing_percent"
   ]
  },
  {
   "cell_type": "markdown",
   "id": "f276c813",
   "metadata": {},
   "source": [
    "## 42. Reorder the columns so that 'Employee_ID' is the first column."
   ]
  },
  {
   "cell_type": "code",
   "execution_count": null,
   "id": "7fbf6b16",
   "metadata": {},
   "outputs": [],
   "source": [
    "df = df[['Employee_ID'] + [col for col in df.columns if col != 'Employee_ID']]\n",
    "df.head()"
   ]
  },
  {
   "cell_type": "markdown",
   "id": "01a63185",
   "metadata": {},
   "source": [
    "## 43. Create a column 'High_Performer' which is True if 'Performance_Rating' > 4, else False."
   ]
  },
  {
   "cell_type": "code",
   "execution_count": null,
   "id": "d217443f",
   "metadata": {},
   "outputs": [],
   "source": [
    "df['High_Performer'] = df['Performance_Rating'] > 4\n",
    "df.head()"
   ]
  },
  {
   "cell_type": "markdown",
   "id": "7541eae5",
   "metadata": {},
   "source": [
    "## 44. Split the dataset into training (80%) and testing (20%) sets based on 'Employee_ID'."
   ]
  },
  {
   "cell_type": "code",
   "execution_count": null,
   "id": "91cd8042",
   "metadata": {},
   "outputs": [],
   "source": [
    "from sklearn.model_selection import train_test_split\n",
    "train, test = train_test_split(df, test_size=0.2, random_state=42)\n",
    "train.shape, test.shape"
   ]
  },
  {
   "cell_type": "markdown",
   "id": "2224302e",
   "metadata": {},
   "source": [
    "## 45. Create a pipeline to preprocess the 'Annual_Salary' and 'Performance_Rating' columns."
   ]
  },
  {
   "cell_type": "code",
   "execution_count": null,
   "id": "780345cd",
   "metadata": {},
   "outputs": [],
   "source": [
    "from sklearn.pipeline import Pipeline\n",
    "from sklearn.preprocessing import StandardScaler\n",
    "\n",
    "pipeline = Pipeline([\n",
    "    ('scaler', StandardScaler())\n",
    "])\n",
    "df[['Annual_Salary', 'Performance_Rating']] = pipeline.fit_transform(df[['Annual_Salary', 'Performance_Rating']])\n",
    "df.head()"
   ]
  },
  {
   "cell_type": "markdown",
   "id": "d620af85",
   "metadata": {},
   "source": [
    "## 46. Export the cleaned dataset to a new CSV file."
   ]
  },
  {
   "cell_type": "code",
   "execution_count": null,
   "id": "5fc8d08f",
   "metadata": {},
   "outputs": [],
   "source": [
    "df.to_csv('cleaned_salary_dataset.csv', index=False)"
   ]
  },
  {
   "cell_type": "markdown",
   "id": "c29c1068",
   "metadata": {},
   "source": [
    "## 47. Save the dataset in Excel format with multiple sheets based on 'Department'."
   ]
  },
  {
   "cell_type": "code",
   "execution_count": null,
   "id": "7a0f0156",
   "metadata": {},
   "outputs": [],
   "source": [
    "with pd.ExcelWriter('salary_by_department.xlsx') as writer:\n",
    "    for department in df['Department'].unique():\n",
    "        df[df['Department'] == department].to_excel(writer, sheet_name=department, index=False)"
   ]
  },
  {
   "cell_type": "markdown",
   "id": "7d657e82",
   "metadata": {},
   "source": [
    "## 48. Create a summary report of the dataset including key statistics and visualizations."
   ]
  },
  {
   "cell_type": "code",
   "execution_count": null,
   "id": "758f4f37",
   "metadata": {},
   "outputs": [],
   "source": [
    "df.describe(include='all')"
   ]
  },
  {
   "cell_type": "markdown",
   "id": "bdcd4d12",
   "metadata": {},
   "source": [
    "## 49. Write a function to automate the data cleaning process for this dataset."
   ]
  },
  {
   "cell_type": "code",
   "execution_count": null,
   "id": "f47af09e",
   "metadata": {},
   "outputs": [],
   "source": [
    "def clean_data(df):\n",
    "    df.dropna(inplace=True)\n",
    "    df.drop_duplicates(inplace=True)\n",
    "    df.fillna(df.mean(), inplace=True)\n",
    "    return df\n",
    "\n",
    "cleaned_df = clean_data(df.copy())\n",
    "cleaned_df.head()"
   ]
  },
  {
   "cell_type": "markdown",
   "id": "5496a38b",
   "metadata": {},
   "source": [
    "## 50. Create a new column 'Compensation_Growth_Potential' using a formula on 'Years_of_Experience' and 'Performance_Rating'."
   ]
  },
  {
   "cell_type": "code",
   "execution_count": null,
   "id": "7ab1dba1",
   "metadata": {},
   "outputs": [],
   "source": [
    "df['Compensation_Growth_Potential'] = df['Years_of_Experience'] * df['Performance_Rating']\n",
    "df.head()"
   ]
  }
 ],
 "metadata": {
  "kernelspec": {
   "display_name": "Python 3",
   "language": "python",
   "name": "python3"
  },
  "language_info": {
   "codemirror_mode": {
    "name": "ipython",
    "version": 3
   },
   "file_extension": ".py",
   "mimetype": "text/x-python",
   "name": "python",
   "nbconvert_exporter": "python",
   "pygments_lexer": "ipython3",
   "version": "3.9.6"
  }
 },
 "nbformat": 4,
 "nbformat_minor": 5
}
